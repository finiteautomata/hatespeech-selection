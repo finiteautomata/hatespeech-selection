{
 "cells": [
  {
   "cell_type": "markdown",
   "metadata": {},
   "source": [
    "## Topics of hateful articles\n",
    "\n",
    "Basado fuertemente en [esta notebook](https://github.com/kapadias/mediumposts/blob/master/nlp/published_notebooks/Evaluate%20Topic%20Models.ipynb)\n",
    "\n",
    "En esta notebook veremos los tópicos de los artículos que generan cierto odio"
   ]
  },
  {
   "cell_type": "code",
   "execution_count": 1,
   "metadata": {},
   "outputs": [],
   "source": [
    "%load_ext autoreload\n",
    "%autoreload 2\n",
    "import sys\n",
    "sys.path.append(\"..\")\n",
    "import json\n",
    "from mongoengine import connect\n",
    "from hatespeech_models import Tweet, Article\n",
    "\n",
    "with open(\"../data/coronavirus-argentina-v2.json\") as f:\n",
    "    all_articles = json.load(f)"
   ]
  },
  {
   "cell_type": "code",
   "execution_count": 2,
   "metadata": {},
   "outputs": [
    {
     "name": "stdout",
     "output_type": "stream",
     "text": [
      "6519\n"
     ]
    }
   ],
   "source": [
    "articles = [art for art in all_articles if len(art[\"comments\"]) >= 20]\n",
    "\n",
    "print(len(articles))\n"
   ]
  },
  {
   "cell_type": "code",
   "execution_count": 3,
   "metadata": {},
   "outputs": [
    {
     "data": {
      "text/plain": [
       "658976"
      ]
     },
     "execution_count": 3,
     "metadata": {},
     "output_type": "execute_result"
    }
   ],
   "source": [
    "sum(len(art[\"comments\"]) for art in articles)"
   ]
  },
  {
   "cell_type": "code",
   "execution_count": 4,
   "metadata": {},
   "outputs": [
    {
     "data": {
      "application/vnd.jupyter.widget-view+json": {
       "model_id": "6b0115231d6044e9aa21a7801d8e9a22",
       "version_major": 2,
       "version_minor": 0
      },
      "text/plain": [
       "HBox(children=(FloatProgress(value=0.0, max=6519.0), HTML(value='')))"
      ]
     },
     "metadata": {},
     "output_type": "display_data"
    },
    {
     "name": "stdout",
     "output_type": "stream",
     "text": [
      "\n"
     ]
    }
   ],
   "source": [
    "from tqdm.auto import tqdm\n",
    "\n",
    "for article in tqdm(articles):\n",
    "    hateful_comments = [c for c in article[\"comments\"] if c[\"hateful_value\"] > 0.5]\n",
    "    \n",
    "    article[\"num_hateful_comments\"] = len(hateful_comments)\n",
    "    article[\"avg_hateful_comments\"] = len(hateful_comments) / len(article[\"comments\"])\n",
    "    article[\"avg_hate_value\"] = sum(c[\"hateful_value\"] for c in article[\"comments\"]) / len(article[\"comments\"])\n"
   ]
  },
  {
   "cell_type": "code",
   "execution_count": 5,
   "metadata": {},
   "outputs": [
    {
     "data": {
      "text/plain": [
       "<AxesSubplot:>"
      ]
     },
     "execution_count": 5,
     "metadata": {},
     "output_type": "execute_result"
    },
    {
     "data": {
      "image/png": "[encoded data removed]",
      "text/plain": [
       "<Figure size 432x288 with 1 Axes>"
      ]
     },
     "metadata": {
      "needs_background": "light"
     },
     "output_type": "display_data"
    }
   ],
   "source": [
    "import seaborn as sns\n",
    "\n",
    "\n",
    "sns.distplot([[art[\"avg_hateful_comments\"] for art in articles]])"
   ]
  },
  {
   "cell_type": "code",
   "execution_count": 6,
   "metadata": {},
   "outputs": [
    {
     "data": {
      "text/plain": [
       "3399"
      ]
     },
     "execution_count": 6,
     "metadata": {},
     "output_type": "execute_result"
    }
   ],
   "source": [
    "hateful_articles = [art for art in articles if art[\"avg_hateful_comments\"] > 0.13]\n",
    "len(hateful_articles)"
   ]
  },
  {
   "cell_type": "code",
   "execution_count": 7,
   "metadata": {},
   "outputs": [],
   "source": [
    "from contextualized_topic_models.models.ctm import CTM\n",
    "from contextualized_topic_models.utils.data_preparation import TextHandler\n",
    "from contextualized_topic_models.utils.data_preparation import bert_embeddings_from_file\n",
    "from contextualized_topic_models.datasets.dataset import CTMDataset\n"
   ]
  },
  {
   "cell_type": "code",
   "execution_count": 8,
   "metadata": {},
   "outputs": [
    {
     "data": {
      "text/plain": [
       "2"
      ]
     },
     "execution_count": 8,
     "metadata": {},
     "output_type": "execute_result"
    }
   ],
   "source": [
    "import torch\n",
    "\n",
    "torch.cuda.device_count()"
   ]
  },
  {
   "cell_type": "code",
   "execution_count": 9,
   "metadata": {},
   "outputs": [],
   "source": [
    "import spacy\n",
    "from tqdm.auto import tqdm\n",
    "import scipy\n",
    "\n",
    "nlp = spacy.load(\"es\", disable=[\"parser\", \"ner\"])\n",
    "\n",
    "class MyTextHandler:\n",
    "\n",
    "    def __init__(self):\n",
    "        self.vocab_dict = {}\n",
    "        self.vocab = []\n",
    "        self.index_dd = None\n",
    "        self.idx2token = None\n",
    "        self.bow = None\n",
    "\n",
    "    def prepare(self, articles):\n",
    "        indptr = [0]\n",
    "        indices = []\n",
    "        data = []\n",
    "        vocabulary = {}\n",
    "\n",
    "        for art in tqdm(articles):\n",
    "            for term in nlp(art[\"title\"]):\n",
    "                token = term.string\n",
    "                index = vocabulary.setdefault(token, len(vocabulary))\n",
    "                indices.append(index)\n",
    "                data.append(1)\n",
    "            indptr.append(len(indices))\n",
    "\n",
    "        self.vocab_dict = vocabulary\n",
    "        self.vocab = list(vocabulary.keys())\n",
    "        self.idx2token = {v: k for (k, v) in self.vocab_dict.items()}\n",
    "        self.bow = scipy.sparse.csr_matrix((data, indices, indptr), dtype=int)"
   ]
  },
  {
   "cell_type": "code",
   "execution_count": 10,
   "metadata": {},
   "outputs": [
    {
     "data": {
      "application/vnd.jupyter.widget-view+json": {
       "model_id": "2c64c0e2c0c847c58c6dd9d0286da2a0",
       "version_major": 2,
       "version_minor": 0
      },
      "text/plain": [
       "HBox(children=(FloatProgress(value=0.0, max=3399.0), HTML(value='')))"
      ]
     },
     "metadata": {},
     "output_type": "display_data"
    },
    {
     "name": "stdout",
     "output_type": "stream",
     "text": [
      "\n"
     ]
    }
   ],
   "source": [
    "handler = MyTextHandler()\n",
    "handler.prepare(hateful_articles) # create vocabulary and training data\n"
   ]
  },
  {
   "cell_type": "code",
   "execution_count": 11,
   "metadata": {},
   "outputs": [],
   "source": [
    "from sentence_transformers import SentenceTransformer\n",
    "\n",
    "transformer_name = \"distiluse-base-multilingual-cased\"\n",
    "\n",
    "sentence_encoder = SentenceTransformer(transformer_name)\n"
   ]
  },
  {
   "cell_type": "code",
   "execution_count": 12,
   "metadata": {},
   "outputs": [],
   "source": [
    "import numpy as np\n",
    "\n",
    "encoded_articles = sentence_encoder.encode([art[\"title\"] for art in hateful_articles])"
   ]
  },
  {
   "cell_type": "code",
   "execution_count": 13,
   "metadata": {},
   "outputs": [
    {
     "data": {
      "text/plain": [
       "(3399, 512)"
      ]
     },
     "execution_count": 13,
     "metadata": {},
     "output_type": "execute_result"
    }
   ],
   "source": [
    "encoded_articles.shape"
   ]
  },
  {
   "cell_type": "code",
   "execution_count": 26,
   "metadata": {},
   "outputs": [
    {
     "name": "stdout",
     "output_type": "stream",
     "text": [
      "Settings: \n",
      "               N Components: 20\n",
      "               Topic Prior Mean: 0.0\n",
      "               Topic Prior Variance: 0.95\n",
      "               Model Type: prodLDA\n",
      "               Hidden Sizes: (100, 100)\n",
      "               Activation: softplus\n",
      "               Dropout: 0.2\n",
      "               Learn Priors: True\n",
      "               Learning Rate: 0.002\n",
      "               Momentum: 0.99\n",
      "               Reduce On Plateau: False\n",
      "               Save Dir: None\n",
      "Epoch: [1/100]\tSamples: [3399/339900]\tTrain Loss: 186.7672217184742\tTime: 0:00:01.961114\n",
      "Epoch: [2/100]\tSamples: [6798/339900]\tTrain Loss: 183.87073773852373\tTime: 0:00:02.000955\n",
      "Epoch: [3/100]\tSamples: [10197/339900]\tTrain Loss: 181.02763590710273\tTime: 0:00:02.093902\n",
      "Epoch: [4/100]\tSamples: [13596/339900]\tTrain Loss: 178.80702245835172\tTime: 0:00:02.085994\n",
      "Epoch: [5/100]\tSamples: [16995/339900]\tTrain Loss: 176.4486680868339\tTime: 0:00:02.053754\n",
      "Epoch: [6/100]\tSamples: [20394/339900]\tTrain Loss: 175.05254489486796\tTime: 0:00:02.041688\n",
      "Epoch: [7/100]\tSamples: [23793/339900]\tTrain Loss: 173.48494099827155\tTime: 0:00:02.031522\n",
      "Epoch: [8/100]\tSamples: [27192/339900]\tTrain Loss: 172.0307170422367\tTime: 0:00:02.032939\n",
      "Epoch: [9/100]\tSamples: [30591/339900]\tTrain Loss: 171.00725785042476\tTime: 0:00:02.110252\n",
      "Epoch: [10/100]\tSamples: [33990/339900]\tTrain Loss: 170.12593258630181\tTime: 0:00:02.110691\n",
      "Epoch: [11/100]\tSamples: [37389/339900]\tTrain Loss: 169.56030115417678\tTime: 0:00:02.117634\n",
      "Epoch: [12/100]\tSamples: [40788/339900]\tTrain Loss: 168.9373726863025\tTime: 0:00:02.022070\n",
      "Epoch: [13/100]\tSamples: [44187/339900]\tTrain Loss: 168.46638753183382\tTime: 0:00:02.106323\n",
      "Epoch: [14/100]\tSamples: [47586/339900]\tTrain Loss: 167.98313379021172\tTime: 0:00:02.145944\n",
      "Epoch: [15/100]\tSamples: [50985/339900]\tTrain Loss: 167.76371518679667\tTime: 0:00:02.148411\n",
      "Epoch: [16/100]\tSamples: [54384/339900]\tTrain Loss: 167.57722532850883\tTime: 0:00:02.041141\n",
      "Epoch: [17/100]\tSamples: [57783/339900]\tTrain Loss: 167.34783330402783\tTime: 0:00:02.123282\n",
      "Epoch: [18/100]\tSamples: [61182/339900]\tTrain Loss: 167.05194028948083\tTime: 0:00:02.134021\n",
      "Epoch: [19/100]\tSamples: [64581/339900]\tTrain Loss: 166.81295703642155\tTime: 0:00:02.135036\n",
      "Epoch: [20/100]\tSamples: [67980/339900]\tTrain Loss: 166.71326254619925\tTime: 0:00:02.099787\n",
      "Epoch: [21/100]\tSamples: [71379/339900]\tTrain Loss: 166.35356628112703\tTime: 0:00:02.048227\n",
      "Epoch: [22/100]\tSamples: [74778/339900]\tTrain Loss: 166.29236866972593\tTime: 0:00:02.025319\n",
      "Epoch: [23/100]\tSamples: [78177/339900]\tTrain Loss: 165.97293659152967\tTime: 0:00:02.129003\n",
      "Epoch: [24/100]\tSamples: [81576/339900]\tTrain Loss: 165.84825399589033\tTime: 0:00:02.154364\n",
      "Epoch: [25/100]\tSamples: [84975/339900]\tTrain Loss: 165.64517155350148\tTime: 0:00:02.062582\n",
      "Epoch: [26/100]\tSamples: [88374/339900]\tTrain Loss: 165.40793323432672\tTime: 0:00:02.101758\n",
      "Epoch: [27/100]\tSamples: [91773/339900]\tTrain Loss: 165.41340423970055\tTime: 0:00:02.097111\n",
      "Epoch: [28/100]\tSamples: [95172/339900]\tTrain Loss: 165.2181756697742\tTime: 0:00:02.117916\n",
      "Epoch: [29/100]\tSamples: [98571/339900]\tTrain Loss: 165.0355268064826\tTime: 0:00:01.983552\n",
      "Epoch: [30/100]\tSamples: [101970/339900]\tTrain Loss: 165.07378642213243\tTime: 0:00:02.150750\n",
      "Epoch: [31/100]\tSamples: [105369/339900]\tTrain Loss: 164.92915378805117\tTime: 0:00:02.109849\n",
      "Epoch: [32/100]\tSamples: [108768/339900]\tTrain Loss: 164.9359203045703\tTime: 0:00:02.095450\n",
      "Epoch: [33/100]\tSamples: [112167/339900]\tTrain Loss: 164.64570267967142\tTime: 0:00:02.054996\n",
      "Epoch: [34/100]\tSamples: [115566/339900]\tTrain Loss: 164.59005258756022\tTime: 0:00:02.113042\n",
      "Epoch: [35/100]\tSamples: [118965/339900]\tTrain Loss: 164.52556308208756\tTime: 0:00:02.112849\n",
      "Epoch: [36/100]\tSamples: [122364/339900]\tTrain Loss: 164.42583088258954\tTime: 0:00:02.016898\n",
      "Epoch: [37/100]\tSamples: [125763/339900]\tTrain Loss: 164.24052531104047\tTime: 0:00:02.134606\n",
      "Epoch: [38/100]\tSamples: [129162/339900]\tTrain Loss: 164.4262150144114\tTime: 0:00:02.039615\n",
      "Epoch: [39/100]\tSamples: [132561/339900]\tTrain Loss: 164.3048376906581\tTime: 0:00:02.137090\n",
      "Epoch: [40/100]\tSamples: [135960/339900]\tTrain Loss: 164.21478291236852\tTime: 0:00:02.096780\n",
      "Epoch: [41/100]\tSamples: [139359/339900]\tTrain Loss: 164.05423150507272\tTime: 0:00:02.114584\n",
      "Epoch: [42/100]\tSamples: [142758/339900]\tTrain Loss: 164.08040939200868\tTime: 0:00:02.160052\n",
      "Epoch: [43/100]\tSamples: [146157/339900]\tTrain Loss: 163.7657793925488\tTime: 0:00:02.006962\n",
      "Epoch: [44/100]\tSamples: [149556/339900]\tTrain Loss: 163.74342012643885\tTime: 0:00:02.099741\n",
      "Epoch: [45/100]\tSamples: [152955/339900]\tTrain Loss: 163.76571007930872\tTime: 0:00:01.976570\n",
      "Epoch: [46/100]\tSamples: [156354/339900]\tTrain Loss: 163.66057827066555\tTime: 0:00:02.042433\n",
      "Epoch: [47/100]\tSamples: [159753/339900]\tTrain Loss: 163.6377469562509\tTime: 0:00:02.029773\n",
      "Epoch: [48/100]\tSamples: [163152/339900]\tTrain Loss: 163.6700448072388\tTime: 0:00:02.062463\n",
      "Epoch: [49/100]\tSamples: [166551/339900]\tTrain Loss: 163.61025872585458\tTime: 0:00:02.086366\n",
      "Epoch: [50/100]\tSamples: [169950/339900]\tTrain Loss: 163.35408916512668\tTime: 0:00:02.058617\n",
      "Epoch: [51/100]\tSamples: [173349/339900]\tTrain Loss: 163.56651549915875\tTime: 0:00:02.067283\n",
      "Epoch: [52/100]\tSamples: [176748/339900]\tTrain Loss: 163.24548724119225\tTime: 0:00:02.069194\n",
      "Epoch: [53/100]\tSamples: [180147/339900]\tTrain Loss: 163.39521863622574\tTime: 0:00:02.064243\n",
      "Epoch: [54/100]\tSamples: [183546/339900]\tTrain Loss: 163.04685280539772\tTime: 0:00:02.016093\n",
      "Epoch: [55/100]\tSamples: [186945/339900]\tTrain Loss: 163.31927348375672\tTime: 0:00:02.089450\n",
      "Epoch: [56/100]\tSamples: [190344/339900]\tTrain Loss: 163.0706788905055\tTime: 0:00:01.945398\n",
      "Epoch: [57/100]\tSamples: [193743/339900]\tTrain Loss: 163.08459727642781\tTime: 0:00:02.360690\n",
      "Epoch: [58/100]\tSamples: [197142/339900]\tTrain Loss: 163.18937368412585\tTime: 0:00:02.069198\n",
      "Epoch: [59/100]\tSamples: [200541/339900]\tTrain Loss: 162.88426901179574\tTime: 0:00:02.069483\n",
      "Epoch: [60/100]\tSamples: [203940/339900]\tTrain Loss: 162.9600830437261\tTime: 0:00:02.150724\n",
      "Epoch: [61/100]\tSamples: [207339/339900]\tTrain Loss: 162.849360170558\tTime: 0:00:02.125667\n",
      "Epoch: [62/100]\tSamples: [210738/339900]\tTrain Loss: 162.85368743564283\tTime: 0:00:02.147031\n",
      "Epoch: [63/100]\tSamples: [214137/339900]\tTrain Loss: 162.8574623855362\tTime: 0:00:02.112009\n",
      "Epoch: [64/100]\tSamples: [217536/339900]\tTrain Loss: 162.78682630403702\tTime: 0:00:02.214596\n",
      "Epoch: [65/100]\tSamples: [220935/339900]\tTrain Loss: 162.4973663841847\tTime: 0:00:02.094383\n",
      "Epoch: [66/100]\tSamples: [224334/339900]\tTrain Loss: 162.67324449315285\tTime: 0:00:02.097280\n",
      "Epoch: [67/100]\tSamples: [227733/339900]\tTrain Loss: 162.57837829859196\tTime: 0:00:02.129500\n",
      "Epoch: [68/100]\tSamples: [231132/339900]\tTrain Loss: 162.43947467315755\tTime: 0:00:02.091238\n",
      "Epoch: [69/100]\tSamples: [234531/339900]\tTrain Loss: 162.4609480226836\tTime: 0:00:02.094489\n",
      "Epoch: [70/100]\tSamples: [237930/339900]\tTrain Loss: 162.44263363305384\tTime: 0:00:02.119713\n",
      "Epoch: [71/100]\tSamples: [241329/339900]\tTrain Loss: 162.30931374577082\tTime: 0:00:02.083091\n",
      "Epoch: [72/100]\tSamples: [244728/339900]\tTrain Loss: 162.43098624336892\tTime: 0:00:02.123236\n",
      "Epoch: [73/100]\tSamples: [248127/339900]\tTrain Loss: 162.26182175019306\tTime: 0:00:03.221821\n",
      "Epoch: [74/100]\tSamples: [251526/339900]\tTrain Loss: 162.27158126988178\tTime: 0:00:04.277160\n",
      "Epoch: [75/100]\tSamples: [254925/339900]\tTrain Loss: 162.1717792543533\tTime: 0:00:04.607120\n",
      "Epoch: [76/100]\tSamples: [258324/339900]\tTrain Loss: 162.3213593094936\tTime: 0:00:02.033165\n",
      "Epoch: [77/100]\tSamples: [261723/339900]\tTrain Loss: 162.04912793169865\tTime: 0:00:01.980784\n",
      "Epoch: [78/100]\tSamples: [265122/339900]\tTrain Loss: 162.0611272387099\tTime: 0:00:02.185308\n",
      "Epoch: [79/100]\tSamples: [268521/339900]\tTrain Loss: 161.94523550125038\tTime: 0:00:02.151422\n",
      "Epoch: [80/100]\tSamples: [271920/339900]\tTrain Loss: 161.8614870426619\tTime: 0:00:02.318448\n",
      "Epoch: [81/100]\tSamples: [275319/339900]\tTrain Loss: 161.83936990601555\tTime: 0:00:02.092418\n",
      "Epoch: [82/100]\tSamples: [278718/339900]\tTrain Loss: 161.6570043291685\tTime: 0:00:03.409297\n",
      "Epoch: [83/100]\tSamples: [282117/339900]\tTrain Loss: 161.6581767644206\tTime: 0:00:03.265927\n",
      "Epoch: [84/100]\tSamples: [285516/339900]\tTrain Loss: 161.78189529549132\tTime: 0:00:02.408921\n",
      "Epoch: [85/100]\tSamples: [288915/339900]\tTrain Loss: 161.4804537022033\tTime: 0:00:02.094822\n",
      "Epoch: [86/100]\tSamples: [292314/339900]\tTrain Loss: 161.47708953202\tTime: 0:00:03.013005\n",
      "Epoch: [87/100]\tSamples: [295713/339900]\tTrain Loss: 161.35712249926448\tTime: 0:00:02.315316\n",
      "Epoch: [88/100]\tSamples: [299112/339900]\tTrain Loss: 161.3796272513515\tTime: 0:00:02.018401\n",
      "Epoch: [89/100]\tSamples: [302511/339900]\tTrain Loss: 161.29751487253833\tTime: 0:00:01.992781\n",
      "Epoch: [90/100]\tSamples: [305910/339900]\tTrain Loss: 161.3128854247113\tTime: 0:00:02.054282\n",
      "Epoch: [91/100]\tSamples: [309309/339900]\tTrain Loss: 161.41735746468402\tTime: 0:00:02.086445\n",
      "Epoch: [92/100]\tSamples: [312708/339900]\tTrain Loss: 161.23895017663742\tTime: 0:00:02.102616\n",
      "Epoch: [93/100]\tSamples: [316107/339900]\tTrain Loss: 161.24869084168827\tTime: 0:00:01.999127\n",
      "Epoch: [94/100]\tSamples: [319506/339900]\tTrain Loss: 161.34123910094192\tTime: 0:00:02.095615\n"
     ]
    },
    {
     "ename": "KeyboardInterrupt",
     "evalue": "",
     "output_type": "error",
     "traceback": [
      "\u001b[0;31m---------------------------------------------------------------------------\u001b[0m",
      "\u001b[0;31mKeyboardInterrupt\u001b[0m                         Traceback (most recent call last)",
      "\u001b[0;32m<ipython-input-26-acf68685cc7c>\u001b[0m in \u001b[0;36m<module>\u001b[0;34m\u001b[0m\n\u001b[1;32m      6\u001b[0m \u001b[0mctm\u001b[0m \u001b[0;34m=\u001b[0m \u001b[0mCTM\u001b[0m\u001b[0;34m(\u001b[0m\u001b[0minput_size\u001b[0m\u001b[0;34m=\u001b[0m\u001b[0mlen\u001b[0m\u001b[0;34m(\u001b[0m\u001b[0mhandler\u001b[0m\u001b[0;34m.\u001b[0m\u001b[0mvocab\u001b[0m\u001b[0;34m)\u001b[0m\u001b[0;34m,\u001b[0m \u001b[0mbert_input_size\u001b[0m\u001b[0;34m=\u001b[0m\u001b[0;36m512\u001b[0m\u001b[0;34m,\u001b[0m \u001b[0minference_type\u001b[0m\u001b[0;34m=\u001b[0m\u001b[0;34m\"contextual\"\u001b[0m\u001b[0;34m,\u001b[0m \u001b[0mn_components\u001b[0m\u001b[0;34m=\u001b[0m\u001b[0;36m20\u001b[0m\u001b[0;34m)\u001b[0m\u001b[0;34m\u001b[0m\u001b[0;34m\u001b[0m\u001b[0m\n\u001b[1;32m      7\u001b[0m \u001b[0;34m\u001b[0m\u001b[0m\n\u001b[0;32m----> 8\u001b[0;31m \u001b[0mctm\u001b[0m\u001b[0;34m.\u001b[0m\u001b[0mfit\u001b[0m\u001b[0;34m(\u001b[0m\u001b[0mtraining_dataset\u001b[0m\u001b[0;34m)\u001b[0m \u001b[0;31m# run the mode\u001b[0m\u001b[0;34m\u001b[0m\u001b[0;34m\u001b[0m\u001b[0m\n\u001b[0m",
      "\u001b[0;32m~/.local/share/virtualenvs/hatespeech-labelling-i4Bxdr6F/lib/python3.6/site-packages/contextualized_topic_models/models/ctm.py\u001b[0m in \u001b[0;36mfit\u001b[0;34m(self, train_dataset, save_dir)\u001b[0m\n\u001b[1;32m    223\u001b[0m             \u001b[0;31m# train epoch\u001b[0m\u001b[0;34m\u001b[0m\u001b[0;34m\u001b[0m\u001b[0;34m\u001b[0m\u001b[0m\n\u001b[1;32m    224\u001b[0m             \u001b[0ms\u001b[0m \u001b[0;34m=\u001b[0m \u001b[0mdatetime\u001b[0m\u001b[0;34m.\u001b[0m\u001b[0mdatetime\u001b[0m\u001b[0;34m.\u001b[0m\u001b[0mnow\u001b[0m\u001b[0;34m(\u001b[0m\u001b[0;34m)\u001b[0m\u001b[0;34m\u001b[0m\u001b[0;34m\u001b[0m\u001b[0m\n\u001b[0;32m--> 225\u001b[0;31m             \u001b[0msp\u001b[0m\u001b[0;34m,\u001b[0m \u001b[0mtrain_loss\u001b[0m \u001b[0;34m=\u001b[0m \u001b[0mself\u001b[0m\u001b[0;34m.\u001b[0m\u001b[0m_train_epoch\u001b[0m\u001b[0;34m(\u001b[0m\u001b[0mtrain_loader\u001b[0m\u001b[0;34m)\u001b[0m\u001b[0;34m\u001b[0m\u001b[0;34m\u001b[0m\u001b[0m\n\u001b[0m\u001b[1;32m    226\u001b[0m             \u001b[0msamples_processed\u001b[0m \u001b[0;34m+=\u001b[0m \u001b[0msp\u001b[0m\u001b[0;34m\u001b[0m\u001b[0;34m\u001b[0m\u001b[0m\n\u001b[1;32m    227\u001b[0m             \u001b[0me\u001b[0m \u001b[0;34m=\u001b[0m \u001b[0mdatetime\u001b[0m\u001b[0;34m.\u001b[0m\u001b[0mdatetime\u001b[0m\u001b[0;34m.\u001b[0m\u001b[0mnow\u001b[0m\u001b[0;34m(\u001b[0m\u001b[0;34m)\u001b[0m\u001b[0;34m\u001b[0m\u001b[0;34m\u001b[0m\u001b[0m\n",
      "\u001b[0;32m~/.local/share/virtualenvs/hatespeech-labelling-i4Bxdr6F/lib/python3.6/site-packages/contextualized_topic_models/models/ctm.py\u001b[0m in \u001b[0;36m_train_epoch\u001b[0;34m(self, loader)\u001b[0m\n\u001b[1;32m    168\u001b[0m                 \u001b[0mX\u001b[0m\u001b[0;34m,\u001b[0m \u001b[0mword_dists\u001b[0m\u001b[0;34m,\u001b[0m \u001b[0mprior_mean\u001b[0m\u001b[0;34m,\u001b[0m \u001b[0mprior_variance\u001b[0m\u001b[0;34m,\u001b[0m\u001b[0;34m\u001b[0m\u001b[0;34m\u001b[0m\u001b[0m\n\u001b[1;32m    169\u001b[0m                 posterior_mean, posterior_variance, posterior_log_variance)\n\u001b[0;32m--> 170\u001b[0;31m             \u001b[0mloss\u001b[0m\u001b[0;34m.\u001b[0m\u001b[0mbackward\u001b[0m\u001b[0;34m(\u001b[0m\u001b[0;34m)\u001b[0m\u001b[0;34m\u001b[0m\u001b[0;34m\u001b[0m\u001b[0m\n\u001b[0m\u001b[1;32m    171\u001b[0m             \u001b[0mself\u001b[0m\u001b[0;34m.\u001b[0m\u001b[0moptimizer\u001b[0m\u001b[0;34m.\u001b[0m\u001b[0mstep\u001b[0m\u001b[0;34m(\u001b[0m\u001b[0;34m)\u001b[0m\u001b[0;34m\u001b[0m\u001b[0;34m\u001b[0m\u001b[0m\n\u001b[1;32m    172\u001b[0m \u001b[0;34m\u001b[0m\u001b[0m\n",
      "\u001b[0;32m~/.local/share/virtualenvs/hatespeech-labelling-i4Bxdr6F/lib/python3.6/site-packages/torch/tensor.py\u001b[0m in \u001b[0;36mbackward\u001b[0;34m(self, gradient, retain_graph, create_graph)\u001b[0m\n\u001b[1;32m    193\u001b[0m                 \u001b[0mproducts\u001b[0m\u001b[0;34m.\u001b[0m \u001b[0mDefaults\u001b[0m \u001b[0mto\u001b[0m\u001b[0;31m \u001b[0m\u001b[0;31m`\u001b[0m\u001b[0;31m`\u001b[0m\u001b[0;32mFalse\u001b[0m\u001b[0;31m`\u001b[0m\u001b[0;31m`\u001b[0m\u001b[0;34m.\u001b[0m\u001b[0;34m\u001b[0m\u001b[0;34m\u001b[0m\u001b[0m\n\u001b[1;32m    194\u001b[0m         \"\"\"\n\u001b[0;32m--> 195\u001b[0;31m         \u001b[0mtorch\u001b[0m\u001b[0;34m.\u001b[0m\u001b[0mautograd\u001b[0m\u001b[0;34m.\u001b[0m\u001b[0mbackward\u001b[0m\u001b[0;34m(\u001b[0m\u001b[0mself\u001b[0m\u001b[0;34m,\u001b[0m \u001b[0mgradient\u001b[0m\u001b[0;34m,\u001b[0m \u001b[0mretain_graph\u001b[0m\u001b[0;34m,\u001b[0m \u001b[0mcreate_graph\u001b[0m\u001b[0;34m)\u001b[0m\u001b[0;34m\u001b[0m\u001b[0;34m\u001b[0m\u001b[0m\n\u001b[0m\u001b[1;32m    196\u001b[0m \u001b[0;34m\u001b[0m\u001b[0m\n\u001b[1;32m    197\u001b[0m     \u001b[0;32mdef\u001b[0m \u001b[0mregister_hook\u001b[0m\u001b[0;34m(\u001b[0m\u001b[0mself\u001b[0m\u001b[0;34m,\u001b[0m \u001b[0mhook\u001b[0m\u001b[0;34m)\u001b[0m\u001b[0;34m:\u001b[0m\u001b[0;34m\u001b[0m\u001b[0;34m\u001b[0m\u001b[0m\n",
      "\u001b[0;32m~/.local/share/virtualenvs/hatespeech-labelling-i4Bxdr6F/lib/python3.6/site-packages/torch/autograd/__init__.py\u001b[0m in \u001b[0;36mbackward\u001b[0;34m(tensors, grad_tensors, retain_graph, create_graph, grad_variables)\u001b[0m\n\u001b[1;32m     97\u001b[0m     Variable._execution_engine.run_backward(\n\u001b[1;32m     98\u001b[0m         \u001b[0mtensors\u001b[0m\u001b[0;34m,\u001b[0m \u001b[0mgrad_tensors\u001b[0m\u001b[0;34m,\u001b[0m \u001b[0mretain_graph\u001b[0m\u001b[0;34m,\u001b[0m \u001b[0mcreate_graph\u001b[0m\u001b[0;34m,\u001b[0m\u001b[0;34m\u001b[0m\u001b[0;34m\u001b[0m\u001b[0m\n\u001b[0;32m---> 99\u001b[0;31m         allow_unreachable=True)  # allow_unreachable flag\n\u001b[0m\u001b[1;32m    100\u001b[0m \u001b[0;34m\u001b[0m\u001b[0m\n\u001b[1;32m    101\u001b[0m \u001b[0;34m\u001b[0m\u001b[0m\n",
      "\u001b[0;31mKeyboardInterrupt\u001b[0m: "
     ]
    }
   ],
   "source": [
    "# generate BERT data\n",
    "training_bert = encoded_articles\n",
    "\n",
    "training_dataset = CTMDataset(handler.bow, training_bert, handler.idx2token)\n",
    "\n",
    "ctm = CTM(input_size=len(handler.vocab), bert_input_size=512, inference_type=\"contextual\", n_components=20)\n",
    "\n",
    "ctm.fit(training_dataset) # run the mode"
   ]
  },
  {
   "cell_type": "code",
   "execution_count": 27,
   "metadata": {},
   "outputs": [
    {
     "name": "stdout",
     "output_type": "stream",
     "text": [
      "\n",
      "\n",
      "\n",
      "\n",
      "Mauricio  - Macri  - Kirchner  - Florencia  - Cristina  - hija  - Marcelo  - su  - Kirchner - Tinelli  - llegó  - Cuba  - junto  - dura  - libertad  - Jazmín  - Francia - Pérez  - mostró  - Florencia - entrevista - Peña  - responsabilidad - foto  - expropiación  - compartió  - tenso  - Cuba - Acá  - mudó  - durante  - regresó  - viajará  - noticiero  - muelle  - definiciones  - Khalifa - Fabián  - bar - regreso  - Malaspina  - llamar  - publicó  - fama  - atraviesa  - Tinelli - y  - Diego  - hará  - separada - Esquel  - regresa  - habló  - Carrió - cobró  - Hugo  - borrar  - estado  - emocional  - Elisa  - José  - pasado - Flor  - videos  - Maradona - porno  - actuó  - lenguaje  - Recién  - casa  - Mia  - Juliana  - vive  - Gutiérrez - salud - lucha  - al  - Maradona  - cruce  - Padre - último  - visitar  - permita  - une  - mueve  - Morales  - hilos  - crítica  - cumplió  - sus  - Marley  - escuchas  - Chávez  - convocó  - hizo  - Unión  - pileta - recordó  - líderes  - lujosa \n",
      "\n",
      "\n",
      "\n",
      "\n",
      "Me  - me  - fuerte  - Mi  - Senado - Susana  - tiene  - Giménez - No  - cruce  - Martín  - Brancatelli  - defendió  - Diego  - porque  - cuerpo  - entre  - Lousteau  - tutee - Sergio  - vivo  - contó  - lo  - Magistratura - cruzó  - Mario  - mujer - Ishii - Berni - peronista - popular  - siento  - estrictos  - morocho - Camaño  - con  - ponen  - voto  - equivoqué  - correcto - mi  - vivió  - necesidad  - cómo  - Romina  - momento  - Beatriz  - coronita - intendente  - Sarlo - incómodo  - descalificarme - barbijo  - ” - desnuda - osada  - Consejo  - planeta  - pista - Matilda  - mí  - destruyeron  - guantes - vive  - selfie - quieran  - convertir  - Con  - ' - Blanco - acostumbré  - Soy  - Genesio  - hice  - Usted  - Graciela  - :  - Daniel  - negra - Mengolini  - total  - terror  - Jimena  - Iglesias  - agote  - Pibita  - posiblemente  - pandémico  - tuvo  - Massa  - Estoy  - arroz  - “ - respondió  - Osvaldo - Vamos  - estúpida  - Fernando  - plata - cáncer\n",
      "\n",
      "\n",
      "\n",
      "\n",
      "Baby  - vuelve  - programa  - Moyano - Fabiola  - Etchecopar - Murió  - Viale  - infiltrada - Controversia  - epidemiólogos  - Facundo  - insultó  - aplausos  - abandonó  - madre  - digo  - quizá  - Crimen  - PPT - Alberto - El  - aceptó  - Angel  - violadores - aclaró - suelten  - creerle - Guazzora - Giménez  - Yáñez  - pasara  - Feinmann  - distanciamiento  - Rial - lawfare  - escrache  - Arenga  - Ezequiel  - Solo  - infectado - esfuma  - sitio  - Gisela  - fortunas  - encontró  - pique - Derecho  - arme - Cristina - Hicimos  - afectan  - social - protegiendo  - enseña  - Ese  - juez - credibilidad  - Mirtha  - atropello - esto - violan  - radio - soberbia  - comodidad - Etchecopar  - celebró  - vicepresidenta  - sensatez  - gradual - Menem  - quisimos  - Vidal - utilizaron  - lesa  - acepto  - honor - Morena  - cuenta  - final  - Meijide  - contamos  - amor  - bebé - frío - abandonada - investigan  - Mirta  - Rampolla  - trata  - delivery - Cada  - Juana  - ahí - carroñero - Barreto  - inédita  - Sale  - recuerda  - solidarias\n",
      "\n",
      "\n",
      "\n",
      "\n",
      "millones  - China  - carne  - coronavirus - dólares  - pandemia  - América  - plena  - del  - COVID-19 - mundial  - Latina  - consumo  - feria  - animales  - meses  - millones - abrió  - avión  - Unidos  - chileno  - El  - después  - trasladar  - perro  - diputado  - Wuhan  - plan  - China - US$ - Netflix  - Trump  - pesar  - Cinco  - prohibió  - Suprema  - Mercado  - impuesto  - frente  - vacuna  - sanitarios  - anual  - Estados  - miles  - de  - régimen  - cine  - $ - ingreso  - autos  - especial  - cierre  - traer  - comenzó  - Moyano  - brote  - prestar  - En  - marzo - autorizó  - 40.000  - Pese  - chino  - enfermos  - comienzo  - mil  - año - insumos  - donados  - mercado  - argentino - murciélagos  - defensa  - prevención  - Norte  - Carne  - Libre  - ofreció  - Ante  - cientos  - Fuerzas  - técnicos  - Corea  - propagación  - estudia  - Médicos  - salvajes - británico  - Pinamar  - kilos  - piel  - compre  - Pyongyang - precio  - funcionarios  - humanos  - Festival  - protesta  - abastecer  - vacunas \n",
      "\n",
      "\n",
      "\n",
      "\n",
      "para  - una  - se  - que  - y  - por  - las  - violar  - ”  - el  - cuarentena - la  - Para  - cuarentena  - presos  - formar  - Juntos  - patrullas  - con  - lo  - capital - Cambio - empresas  - expropien  - liberará  - amenacen  - Sergio  - recibió  - senadora  - Covid-19 - jueces  - de  - diputada  - Estado  - Libertad - Una  - Pancho - plasma - Gendarmería - Caravana  - llevara  - carpincho  - nena  - Convocaron  - le  - perdió  - a  - varias  - protestar  - 8  - viajó  - anticuerpos - estudiar  - Kicillof  - noticia  - quede  - propuso  - shockeó - ciudades  - curó  - España  - donó  - todos  - Berni  - sábado  - gabinete  - Se  - baúl  - toda  - volvió  - Axel  - defendió  - oficialista  - propuesta  - asiste  - redes - modelo  - agredir  - sesiones  - grieta  - parte  - recibió - sus  - historia  - ayuda - este  - participación  - alcances  - fuertes  - impuesto  - los  - críticas  - Ojeda  - fue  - Barili  - oficiales  - Rodolfo  - Justicia  - Su  - metió \n",
      "\n",
      "\n",
      "\n",
      "\n",
      "\" - Ginés  - González  - García - Fernández - Los  - \"  - Jorge  - dijo  - es  - Macri - está  - hay  - Lanata - Kicillof - Eduardo  - Es  - García  - economía - aprovechen  - votó - HD - no  - Hay  - gente  - sido  - imponer  - O'Donnell - Morales - qué  - María  - Me  - Si  - Crónica  - sentido  - :  - 1 - tendríamos  - .  - todo  - Las  - pandemia  - algo  - mal  - volver  - Frederic - hubiera  - Costantini - biológica - Jaime  - meten  - Santiago  - Nosotros  - hubiéramos  - cuál  - Estamos  - ser  - acreedores  - Sin  - peronismo - cosas  - De  - mundo  - fenómeno - Alejandro  - miedo  - claro  - muy  - deseable - están  - recomendando  - tengo  - Viale - fase  - sobre  - Gabriel  - ejemplo  - movimiento - señales  - ocurren  - testeado - poniendo  - tomado  - son  - Julio  - muchísimos  - Díaz - salud  - desvergonzados - fortalecer  - ralentizando - tratar  - duro  - Stiglitz - estatista - Axel  - Joseph  - Luis  - Ganancias - cobramos\n",
      "\n",
      "\n",
      "\n",
      "\n",
      "en  - Coronavirus  - Argentina - cuarentena - cuarentena  - violó  - mujer  - la  - :  - tres  - gas  - policías - mordió  - años  - pimienta  - arrojó  - detenida - les  - hasta  - sol  - prisión  - y  - dio  - Hudson - dos  - peaje  - violación  - 1-11-14 - evidencia  - una  - quedó  - un  - tomar  - Mayo  - quienes  - rompan  - multas  - recibió  - envían  - casa  - estudios - casi  - conductor  - 83  - internado  - salió  - positivo  - hacerse  - presos  - pone  - Inglaterra - redes  - escapó  - llevan  - fiebre  - juicios  - bosques  - 24  - 100  - hacer  - conducta  - funcionario  - micro  - sociales  - al  - detenido - Ofelia  - video  - volvió  - Italia  - echaron  - emergencia - cargo - Palermo  - Hospital  - corrupción  - Ciudad  - policía  - 97  - intensiva  - sin  - evaluará  - mayo  - ocupación  - violar  - Plaza  - salido  - antes  - reposera  - movilizaciones  - pesos  - verificarán  - a  - cumplan  - Aires - ingresar  - Buenos  - los  - mil  - 15 \n",
      "\n",
      "\n",
      "\n",
      "\n",
      "argentinos  - país - vuelos  - Gobierno  - Aerolíneas  - pandemia - casos  - casi  - Coronavirus - clases  - argentinos - fueron  - médicos  - más  - Más  - 30  - impacto  - cerrarán  - analiza  - ocho  - infectados  - número  - Malvinas  - locales  - Argentinas  - llegarán  - cubanos  - venta  - comprar  - podrían  - veces  - conurbano - China - ya  - 10  - Conurbano - siguen  - King  - Starbucks  - 90%  - 200  - sectores  - mil  - universal - Burger  - podría  - 10.000  - hospitales  - oficial  - 13  - básica  - respaldó  - ingresos  - lista  - contratación  - Polémica - 23.000  - nuevos  - país  - bajas  - servicio  - cadenas  - emergencia  - pagará  - 124  - todo  - quiénes  - Uruguay  - suspende  - Resistencia - porteño  - vuelo  - construirá  - perros  - contagiados  - provenientes  - regreso  - sector  - chinos  - Rosario - trabajadores  - $ - repatriación - 300  - muertos  - vulnerables  - fabricar  - escuelas  - 120  - vacuna - bono  - restricciones - pese  - ANSeS  - nacionales - Dos  - recibir  - islas  - automotor - hoy \n",
      "\n",
      "\n",
      "\n",
      "\n",
      "\" - .  - Coronavirus - González  - Ginés  - dijo  - Fernández - :  - ,  - García - Alberto  - es  - No  - García  - Lo  - Argentina - \"  - está  - sobre  - Coronavirus  - Luis  - Los  - hay  - Juan  - contra  - la  - sino  - pico  - Kicillof - no  - Patricia  - gente  - peor  - esfuerzo  - Vizzotti - Sabemos  - pandemia  - Bolsonaro - tras  - Jorge  - deberían  - Grabois - Macri  - Carla  - Es  - vamos  - frase  - pero  - Patria - economía  - va  - que  - sobreasustada - Argentina  - seguro  - Sabina  - más  - tránsito - Majul - Se  - mayor - muy  - A  - Volver  - lo  - vidrieras - relajarnos - Ciudad  - Axel  - inútil  - llegar  - Mauricio  - Alfonso  - análisis  - correr  - invierno - Frederic - Estoy  - dejar  - o  - impuestos - Manu  - Ginóbili  - en  - Fernández  - optimista - Si  - programa  - impacto  - planeros - compañeros  - Prat-Gay - Dura  - gobernador  - mejores  - Eugenio  - Viale  - cuarentena - estamos  - Ziliotto\n",
      "\n",
      "\n",
      "\n",
      "\n",
      "Fernández  - Alberto  - Nicolás  - críticas  - al  - sus  - a  - Lozano  - Cristina  - Fernández - Kirchner  - cuestionó  - por  - pidió  - luego  - su  - Felipe  - Corte  - Solá  - Wiñazki  - sin  - Patricia  - Venezuela - reclamo  - Vero  - política - burló  - criticó  - y  - Alicia  - Bullrich  - Macri  - con  - Kirchner - apoyo  - aire  - Suprema - embajadora  - llamó  - Pérez  - habló  - Verónica  - Mauricio  - Presidente  - le  - pido  - resolver  - Macri - Castro  - 2021 - Luis  - fallo  - canciller  - antes  - Tras  - clave - dejó  - disculpas  - hace - asunto - dura  - presiona  - Lomas  - Hebe  - riqueza - legitimidad  - kirchnerismo - En  - apuntó  - jefe  - refirió  - visitará  - Gabinete  - charlas  - Majul - defendió  - Vicentin - Máximo  - vivimos - Rodríguez  - cuarentena  - aclaró  - designación  - Maduro  - llamativo  - revisa  - político  - Florencia  - usó  - Amenazaron  - Néstor  - ponga  - machacando  - 2003 - dichos  - designada  - repite  - Cambio  - redes - manos \n",
      "\n",
      "\n",
      "\n",
      "\n",
      "Un  - un  - grupo  - mató  - una  - iniciaron  - fue  - hombre  - a  - causa  - mujer  - casa  - barrio  - medio  - Una  - enfermera  - su  - ladrón  - invitados  - San  - cárcel  - judicial  - Once - robarle  - personas  - convirtió  - DJ  - auto  - cien  - realizaron  - pacientes  - defender  - y  - motochorros  - Le  - golpearon  - preso  - puerta  - George  - Floyd - Recoleta  - maltratando  - salió  - tiros - Brutal  - cadena  - casamiento  - terminaron  - volvió  - protestas  - grabada  - animales - pasar  - perro - izquierda  - bailar  - balcón  - marchar  - rompieron  - picar  - entró  - motín  - inconsciente  - familia - por  - atacó  - quisieron  - ropa  - vecinos  - robo  - proteccionista  - Bernal - disparar  - Detienen  - ataque  - dejarla  - zapatillas - trasladar  - música  - sustentables  - EE.UU. - intentó  - hicieron  - ladrones  - Diego - Casa  - protesta  - Vannucci  - delincuente  - nueva  - mataron  - robar  - violó  - Victoria  - prender  - policías  - asesinó  - fuego  - excusa  - restaurantes \n",
      "\n",
      "\n",
      "\n",
      "\n",
      "Argentina - Coronavirus  - la  - en  - .  - \" - :  - Axel  - ,  - Alberto  - dijo  - las  - Fernández - Fernández  - cuarentena - Kicillof  - Kicillof - no  - Si  - es  - le  - cuarentena  - provincia  - Rodríguez  - que  - vamos  - sobre  - contra  - Patricia  - los  - Raúl  - Sergio  - Larreta  - gente  - Daniel  - a  - días  - Horacio  - criticó  - Zaffaroni - No  - del  - Es  - cárceles  - va  - cruzó  - más  - muy  - Ciudad  - quince  - partidario  - endurecer  - Masacres  - Aires - salidas  - Bullrich  - apilándose  - frigoríficas - matan  - Santiago  - van  - Nueva  - como  - Gollán - vez - delante  - interesante  - Brandoni - Buenos  - Les  - familias  - lo  - tener  - canchita  - aislado  - restringir  - vallas  - Pareciera  - abrir  - cuotas  - patrulleros - construyen  - escuelas  - guetos  - Berni  - carta  - cuando  - bonaerenses - el  - Laje - stop  - ponchazos - and  - go - vaya  - cadáveres  - está  - sociedad  - con  - pedimos \n",
      "\n",
      "\n",
      "\n",
      "\n",
      "” - “ - me  - ,  - una  - le  - un  - con  - La  - otro  - que  - Si  - hijo  - porque  - pareja  - :  - maestra  - lo  - reacción  - querés  - muchos - casa - pedile  - a  - mandé  - marido  - su  - de  - fin  - El  - sexo - videíto - tu  - mamis - cama  - proyectos  - trieja - comparten  - tenía  - Gracias  - sorprendió  - pedido  - ya  - tienen  - Ivana  - Nadal  - Dios  - cansó  - criticaran  - Latorre  - Osvaldo  - Era  - venís  - chat  - decís  - vida - contó  - relación  - mía - respuesta - ¡ - mantuvo  - paran - Yanina  - De  - vecinos  - angustia  - durante  - mi  - volver - padre  - circular - Jimena  - y  - Me  - mujeres  - Giménez  - Estoy  - Cinthia  - ex  - país - Barón  - fue  - descargo  - voy  - largo - Agüero  - Kun  - tres  - violencia - ante  - permiso  - Le  - emborracha  - baño - mostró  - aguanta  - vino  - yo  - mamá\n",
      "\n",
      "\n",
      "\n",
      "\n",
      "coronavirus  - coronavirus - es  - que  - ”  - “ - muy  - el  - del  - OMS  - La  - no  - ” - sobre  - virus  - China  - menos  - vacuna  - advirtió  - contagiosa - asintomáticos  - está  - como  - inusual - contra  - mundial - Maduro  - contagien - baja - asegura  - dice  - enfermos  - ocultó  - afirma  - positivos  - pandemia  - tienen  - Salud - carga  - Mundial  - Venezuela  - real - viral  - Argentina  - origen  - mundo  - real  - saben  - teoría  - anterior  - ellos - moriríamos - investigación  - desarrolladas  - cifra  - disponibles  - Jinping  - global - gobierno  - existía  - alertó  - nos  - o  - régimen  - millones  - se  - Xi  - aseguró  - Wuhan - invierno  - extraordinaria  - hay  - contrario - mundo - El  - parásitos  - demuestre  - Cualquier  - renta  - resfrío  - más  - producción  - Los  - contagio  - desde  - OMS - prometió  - Salud  - nada - Grabois  - calificó  - mentira  - estuviera  - muertes  - sé  - cuántos  - primer  - advertencia  - Vacuna  - Hay \n",
      "\n",
      "\n",
      "\n",
      "\n",
      "para  - el  - pandemia - Kicillof  - Axel  - los  - de  - se  - empresas  - casos  - Gobierno  - Buenos  - crisis  - $ - bonaerense  - El  - gobierno  - bono  - Villa  - las  - del  - coronavirus - Más  - ayuda  - proyecto  - IFE - que  - Argentina  - acciones  - Estado  - les  - especial  - evalúa  - por  - medio  - retroceder  - Brasil  - anunció  - impuesto  - 80  - coronavirus  - impuestos  - hacia  - En  - protocolo  - incremento  - multimillonarios  - 500  - aumente  - reclamaron  - 31 - millones  - provincia  - Aires  - respaldaron  - también  - más  - la  - pidió  - advirtió  - Aires - quede  - transmite  - atender  - voces  - 3.000  - US$  - país  - aislarán  - fase  - edificios  - kirchnerismo  - desplacen  - otorgará  - desató  - datos  - baja  - Fe  - cobraron  - brotes  - productores - rotura  - poder  - incertidumbre  - detecten  - registraron  - vulnerables  - beneficiarios  - parte  - mismo  - Máximo  - avanzar  - Santa  - generar  - destacó  - desde  - sectores  - oficialismo  - silobolsas - Gobierno\n",
      "\n",
      "\n",
      "\n",
      "\n",
      "bancos  - pago  - Amado  - Boudou - cerró  - familias  - peste  - semana  - pensiones  - reforma  - sociales - jubilaciones - judicial - empresa  - liberación  - Luego  - Lázaro  - Banco  - personas - Ernestina  - marcharon  - años - domiciliaria  - Tigre  - Libre - Camioneros  - anticuarentena  - Pais  - impositiva  - seis  - decidió  - presentación  - Báez - diputados  - Roca  - delitos  - tren  - avaló  - docente  - Justicia  - toda  - planes  - Mercado  - peligra  - bubónica  - Detuvieron  - huelga  - cinco  - Austral  - pagar  - Federal - Obelisco - arresto  - versión  - domingo  - fines  - difícil  - centros  - violentos - planta  - sueldos  - restaurante - trabajadores - manifestantes - domingos  - Human  - Watch  - masiva  - Ministerio  - Rights  - feriados - audiencia  - levantó  - relato  - abrirán  - Salta  - regresar  - propone  - principales  - Boudou  - barrio  - 31  - sábado  - provincias  - plantea  - subir  - brutalmente  - banderazo  - ganar  - juntos  - ley  - expropiación - pesos - Congreso  - violadores  - Senado  - temible  - cacerolazos  - ciclo  - soja\n",
      "\n",
      "\n",
      "\n",
      "\n",
      "¿ - ? - Por  - Vidal  - qué  - ?  - positivo  - dio  - Eugenia  - Mendoza  - Mayra  - Cómo  - María  - quién  - Bolivia - debería  - según  - tan  - Jujuy - nuevo  - realmente  - usar  - definitivamente  - pánico  - testimonio  - Europa  - tránsito - tanto  - Dinamarca - Noruega - rebrote  - Suecia - test  - Covid-19 - Islandia  - Jeanine  - negativo  - preventiva - consejos  - mejor  - genera  - caso  - confirmó  - clave  - cura - EE.UU.  - Malbrán - presidenta  - Insaurralde  - Chile - tuvieron  - campo - negocio  - alerta  - control  - internado  - Mariano  - Coronavirus - testeos  - habría  - mes - potencial  - contagiarse  - Cerraste  - impedir  - mundo  - NACION - Japón  - Está  - Quién  - Latam  - Francisco  - logró  - PersianasBajas - LA  - Compartí  - aisló  - mujeres  - declarar  - negativo - Finlandia - preocupación  - Bolsonaro  - Papa  - primeros  - forma  - Anses - Recoleta - Intrusos - sufre  - Recalde - argentina  - Mundial - máscaras  - podrían  - Segunda  - enfrentar  - Instituto  - Perú  - recuperará \n",
      "\n",
      "\n",
      "\n",
      "\n",
      "“ - ” - de  - los  - ,  - a  - gente  - sobre  - no  - la  - No  - más  - 15  - Fernández - que  - :  - nos  - Alberto  - son  - La  - mensaje  - está  - Viviana  - cuarentena - Fernández  - Canosa  - va  - bolsillo - políticos - días - después  - digan  - ;  - puede  - joder  - mental  - es  - lo  - Duro  - ni  - Buenos  - Si  - cuarentena  - más - el  - se  - vamos  - salud  - volver  - vecinos  - Axel  - bailaron  - ocupan  - Estos  - calle - después - Granados  - imbéciles  - Migue  - valija - Faltan  - hilacha  - Aires - van  - días  - Recoleta  - precios  - furia  - especulación  - El  - sujetos  - Va  - beneficiar  - financiera - con  - ”  - alimentos  - Cande  - quien  - y  - contagio  - las  - Hebe  - Mensaje  - acá  - ve  - asesora  - Sagasti - porque  - Ciudad  - como  - todos - Kicillof  - contra  - cumplen  - aún  - Kicillof - Salud  - inconscientes - deberíamos \n",
      "\n",
      "\n",
      "\n",
      "\n",
      "no  - ” - ser  - “ - puede  - sobre  - es  - Dady  - ,  - No  - o  - Presidente - va  - Trump - Es  - Brieva - :  - esto  - Venezuela - Juan  - nos  - vamos  - Donald  - Tenemos  - más - Grabois - rodar  - Brieva  - Guzmán - pase  - dictadura - instalarnos  - irnos - Si  - pero  - volver  - peronismo - cabeza - sí  - Martín  - Sí  - clases - Trotta - si  - gente  - nunca  - ;  - Otra  - responsables - impunemente - Quiero  - tengan  - mentiras - da  - ver  - combatida  - Putin - mostrando  - tiene  - límites - Estamos  - comunismo - Belocopitt - continuidad  - tenemos  - convertir  - ni  - lo  - problema  - Merkel - paso  - populismo  - tipo  - Carrió - terror  - hubiera  - quieran  - puede - Presidente  - reclamo  - colectivo - Elisa  - suicidio  - Santiago  - muy  - que  - Para  - estos  - drama  - Claudio  - cura  - Nuestro  - personajes  - grieta - pueblo  - Vicentin - rodeados  - sabe - reiteró  - Cúneo\n",
      "\n",
      "\n",
      "\n",
      "\n",
      "Argentina - en  - Coronavirus  - médicos  - nuevos  - casos  - :  - Ciudad  - los  - cubanos  - país - Malvinas - Provincia - varados  - argentinos  - cubanos - denuncian  - al  - soberanía - confirman  - la  - Bretaña  - planes  - Gran  - tensión  - alimentos  - crece  - Argentina  - prevé  - piden  - para  - compra  - defensa  - misterio  - alimentos - Social - Desarrollo  - 200  - gobierno  - Cuba  - intercambiar  - Gobierno  - reclaman  - misión  - entre  - locales - son  - mil  - hasta  - día - pagó  - respiradores  - app  - controles  - Buenos  - quedaron  - sociales  - el  - confusión  - desde  - julio  - construcción - fondos  - 400  - miércoles  - público - sueldos - PAMI  - terapia  - clínicas  - plan  - admitió  - las  - asistencia  - Rosada  - ofreció  - ayudar  - dos  - uso  - obligatorio  - busca  - detenidos  - arribo  - alcohol  - porteño  - cobrarán  - horas  - vuelos  - supuestos  - directa  - allanar  - Ezeiza  - ministerio  - gel - hay  - frontera  - exterior - 3  - Aires  - Cuarentena \n"
     ]
    }
   ],
   "source": [
    "\n",
    "for top in ctm.get_topic_lists(k=100):\n",
    "    print(\"\\n\\n\\n\")\n",
    "    \n",
    "    print(\" - \".join(top))"
   ]
  },
  {
   "cell_type": "code",
   "execution_count": 20,
   "metadata": {},
   "outputs": [
    {
     "name": "stdout",
     "output_type": "stream",
     "text": [
      "\n",
      "\n",
      "\n",
      "\n",
      "Nicolás  - Lozano  - Verónica  - cómo  - le  - Wiñazki  - aire  - hizo  - burló  - reclamo  - Vero  - su  - usó  - Wiñazki - habló  - dura  - Viale  - situación  - Juana  - durante  - Eugenia  - Vidal  - María  - pidió  - contó  - Flor  - disculpas  - Pais  - refirió  - al  - programa - Ernestina  - hubo  - lucha  - compartió  - distancia  - vivimos - pasado - lenguaje  - humor  - cambió  - \"  - inclusivo  - Salazar  - Luciana  - afectó  - Sol  - Malaspina  - Jorge  - ex - Pido  - se  - sobre  - ministra - porno  - Khalifa - líder  - flequillo  - fama  - Mia  - borrar  - burla  - actuó  - cobró  - videos  - clases  - política - Patricia  - fútbol  - descubrir  - Ambrosioni - meses - críticas - revisar  - ahora  - sobrina  - Maduro  - Manuel  - estaba  - pocos  - vuelta  - Lammens  - Jazmín  - test  - imitación  - jugadores - disculpas - atraviesa  - Noche  - retractó  - Era  - piensan  - top  - Mirtha - erróneo  - argumento  - comentario  - darse  - pasar - masivos \n",
      "\n",
      "\n",
      "\n",
      "\n",
      "control  - peste  - 10  - pagar  - Cuarentena - cárceles  - caso  - 17  - total - familias  - Otro  - bubónica  - argentina - Ecuador - buscar  - fronteras  - Londres - recorte  - Paraguay - Plata - iban  - bonaerenses - todas  - youtuber  - mitad  - famosos  - gatos  - 31  - médicos - Yao  - Cabrera  - estudios  - asesora  - director  - Carlos  - 700  - argentinas - Menem - reducir  - condenado  - dejan  - trabajadores - marzo - alarmas  - enciende  - Aerolíneas  - Violencia - avaló  - depredadora - Pesca  - homicidios  - Ajuste  - salarios - sueltos  - sarampión  - C5N - Human  - Zamora - Inseguridad - Rights  - Insaurralde  - rechazan  - detienen  - degrada  - Inexplicable  - embarazadas  - espacio  - importación  - medicina  - vehicular - monos  - Watch  - violentos - llenaron  - 4500  - proveniente  - manos  - 9  - Square - impuestos - gremios  - Cambios  - julio - Alerta - Alertan  - ordenada  - Malbrán - famosos - hermana  - Carmela  - Trafalgar  - sangre - suma  - veganos  - Dios - The  - hepatitis  - Lomas  - rara  - sospechosos \n",
      "\n",
      "\n",
      "\n",
      "\n",
      "las  - para  - empresas  - pandemia - pidió  - ”  - Estado  - se  - críticas  - una  - por  - quede  - Una  - impulsa  - papa  - equitativa - contra  - Corte  - varias  - Libertad - Convocaron  - ciudades  - Caravana  - Kirchner  - kirchnerismo  - avanzar  - quiere  - fuertes  - parte  - este  - pobreza - Suprema  - impuesto  - medio  - acciones  - recibió - alcances  - también  - ayuda  - pandemia  - tendencia  - protestar  - hacia  - diputada  - sábado  - Francisco  - crisis  - defiende  - postergó  - sesiones  - izquierda  - proyecto  - sociedad  - y  - propuso  - dirigente  - Kicillof  - impuestos  - ayuden  - Más  - confíen  - post-pandemia - oficialista  - propone  - asiste  - propuesta  - reclamar  - escuchas  - sueldos  - Cambio  - Máximo  - Iglesia  - bonistas  - legisladores  - Juntos  - sesión  - nueva  - aislarán  - edificios  - Fallaron  - con  - técnicas  - ruta  - trabajar  - rebaja  - prepara  - sola  - aborto  - voces  - empresarios  - brotes  - país  - Rosada  - detecten  - participación  - convirtió  - la  - juicio  - aumente  - multimillonarios \n",
      "\n",
      "\n",
      "\n",
      "\n",
      "\"  - cuerpo  - Mi  - Diego  - cómo  - Brancatelli  - contó  - pide  - Daniel  - Marcelo  - Cande  - vive  - Con  - defendió  - Tinelli  - Me  - pista - Mario  - noticiero - osada  - selfie - intendente  - barbijo  - guantes - planeta  - periodista  - infectóloga  - habló  - cabra  - Sos  - estornudó  - Malaspina  - Peña  - Tosió  - pasa  - Barón  - Se  - Intratables - detenido - ponen  - con  - tuvo  - \" - Jimena  - Crónica  - Genesio  - Rolando  - Graña  - enfermaron - Piovano - Comprate  - Valdes - total  - Mariana  - macrismo  - Tierra - desnuda - HD - Romina  - es  - porque  - Gabriela  - Osvaldo - Queda  - ocultos  - Luis  - popular  - ellos  - sola - romances  - no - Tinayre  - Natalie  - Longobardi  - acostarme  - Reato  - mafioso - ñoqui  - Guillermina  - criticaron - nació  - Justicia - impunidad - Rowling - autodenominó  - Pavadas  - exCobra - enojó  - Radcliffe  - Tinelli - JK  - Jorge  - Gollán  - valoran  - sueldo - Wanda  - party  - económicos - Ishii - estrictos \n",
      "\n",
      "\n",
      "\n",
      "\n",
      "a  - su  - Fernández  - Felipe  - Solá  - oposición  - viajará  - Cuba  - canciller  - hija  - Kirchner  - tensiones  - Mauricio  - diálogo  - doctrina  - Montaner  - hijo  - visitar  - críticas  - Evaluna - volvió  - besó  - boca  - cuñado  - Camilo  - visita  - Cristina  - insultado  - haberla  - años  - privado  - Macri  - vecinos  - Presidente  - Vicentin - pensión  - regresó  - al  - creación  - Evo  - defender  - luego  - Alberto  - comisión  - Morales  - Florencia - defendió  - designó  - hija - Violó  - Malestar  - frente  - Fiscalía  - pide  - ladrón  - torturada  - quemaduras  - padrastro - tomó  - heladas - domiciliaria  - duchas  - nene  - Piñera  - bestial  - 4  - crimen  - visitará  - apropiación  - hermana  - Cuba - convocatoria  - líderes  - Unión  - junto  - nieta  - kirchnerista - envió  - manual  - Lázaro  - investigadora  - derogó  - anule  - sanción  - suspendió  - virtual - Sofía - Maradona - cigarrillo  - Rosada - provincias - videollamada - excluyó  - promesa  - Lealtad  - exige  - prisión  - Chaco - legisladores  - Europea\n",
      "\n",
      "\n",
      "\n",
      "\n",
      "Amado  - Boudou - Baby  - Alberto - domiciliaria  - Etchecopar  - Etchecopar - Boudou  - Obelisco - anticuarentena  - poder - odio - pedimos  - Solo  - guerra  - Bonafini - hora  - periodismo - poco  - otorgaron  - marcha  - noche  - robo - sufrió  - rumbo  - Justicia  - límites  - hacemos  - delitos  - soldado  - Reapareció  - casamiento - verdadero  - Hacemos  - Echegaray  - salvo  - Salió  - complica  - debate  - cuestionar  - fase - Awada  - estatizar  - altar - conducta - Hicimos  - pagan - enamorado  - servicios  - político  - rompiendo  - dirá  - actual  - Princeshe - Internaron  - públicos - goce  - Diez  - desarma  - mitos  - distanciamiento  - closet  - reducimos  - vulva - Cristina - postración  - Nadie  - instagramer  - estaba - hot  - teleconferencia - pelotudos - social - Persiguieron  - Masiva  - Jamás  - pescaba  - gastronómicos  - Mar  - jubilado  - ultra  - paciencia - razonable  - sesione  - farsa - otorgó  - seguidora  - haga - defendí  - recuerdo  - Discípula  - Argentino - atropello - bául - Ese  - bailes - capturaron  - mejoró  - encuesta  - desnudos\n",
      "\n",
      "\n",
      "\n",
      "\n",
      "personas  - Un  - DJ  - robarle  - una  - prisión  - vecinos  - motochorros  - volvió  - mujer  - grupo  - plata  - un  - a  - años  - bailar  - balcón  - Recoleta  - causa  - mató  - Lázaro  - iniciaron  - su  - sexual - Le  - golpearon  - pasar  - ladrón  - reunió  - cayó  - Detienen  - country  - y  - robo - Báez  - casa  - Brutal  - club  - domiciliaria  - zapatillas - Bernal - dejarla  - carnicero  - música  - local  - inconsciente  - puerta  - preso  - intentó  - venganza - nena  - metros  - arrastraron  - Merlo - delincuente  - salió  - denunciante  - Creó  - abuso  - jubilación - personas - Máxima  - donde  - fue  - San  - auto  - fuego  - prender  - Bolivariana  - disparo  - Guardia  - gasolina - asesinó  - explosivos - Pilar - enfermera  - Embajada  - Florencio  - incrustó  - Tapia - preside  - maltratando  - AFA  - Estuvo  - Almirante  - Brown  - perro - Cacerolazo  - domiciliaria - lo  - sumario  - molestos  - ruidos  - grabada  - mamá  - proteccionista  - Vannucci  - Diego - sustentables  - de \n",
      "\n",
      "\n",
      "\n",
      "\n",
      "No  - me  - ” - tiene  - “ - con  - Sergio  - porque  - Martín  - momento  - Me  - un  - Berni - fuerte  - Jimena  - vivo  - lo  - necesidad  - Galarza  - Barón  - ponga  - Senado - entre  - Amenazaron  - Daniel  - hice  - pido  - descalificarme - Nahir  - vivió  - límite  - Estoy  - cruce  - incómodo  - veneno - belleza  - Brad  - Pitt - rap - Nati  - merezco  - Jota  - durante  - sumó  - Lousteau  - Pérez  - Magistratura - video  - Cristina  - correcto - Camaño  - voto  - Luis  - aislarse  - fue  - feminista  - ¡ - Viciconte  - caliente - furiosa  - re  - tutee - ella  - Mica  - destruyeron  - defensa - abogada  - Consejo  - perspectiva  - género - Nazarena  - periodista  - Osvaldo  - Buscamos  - Vélez  - cuestionada  - usted - Kirchner - :  - político  - Osvaldo - contó  - Graciela  - juicio  - Mariana  - pelea  - Presidente  - semanas  - pasa  - barbijo  - Majul - sorpresivo  - Mario  - solidario - Tienen  - concepto  - Le  - defendió  - desnuda - yo \n",
      "\n",
      "\n",
      "\n",
      "\n",
      "anunció  - coronavirus - vacuna  - Las  - Argentina  - noviembre - OMS  - Polémica - existía  - Oxford  - engañó  - informó  - virus  - contagiarse  - Mayra  - Bolivia - mundo  - Jeanine  - presidenta  - Mendoza  - temor  - comprar  - Francisco  - eligió  - peor - Papa  - manifestó  - sanitaristas  - Trump  - equipo  - detener  - preparado  - podría  - Bolsonaro  - Irán - recibir  - según  - aislada  - National  - Geographic - tétrica  - impacto  - cifras  - China  - barbijos  - usar  - peligro  - sanitarias  - billetes  - seleccionada  - respiradores - prevenir  - Pfizer  - alertas  - interina  - rojas  - 800.000  - Interpol  - tiene  - global  - ceba  - desactivadas - ratificó  - Memorándum  - propagación - virus - Latinoamérica - preocupación  - antenas  - COVID-19  - desarrolla  - funcionó  - muertes - estrecho  - exitosamente  - universidad  - climático  - contacto  - creen  - científicos  - ingresos  - preventiva - Latina - donaciones  - Japón  - desarrollará  - probarse  - futura  - desde  - superó  - argentinos  - enfrentar  - reactivación - recibe  - UBA  - yanquis - pruebas  - Calvo - desplazado  - Gonzalo \n",
      "\n",
      "\n",
      "\n",
      "\n",
      "“ - ” - por  - el  - de  - un  - Juntos  - presos  - ”  - judío  - doy  - profesor - antisemitas  - Escándalo  - comentarios  - aguinaldo  - pobre - primer  - Cambio - Para  - quien  - una  - patrullas  - expropien  - capital - amenacen  - formar  - liberará  - encuentre  - senadora  - Le  - Maduro  - propios  - Óvulo  - vientre  - acaba  - óvulos - jueces  - Córdoba  - trans  - mensaje  - mamá - papá - grandes  - del  - sus  - Cambio  - El  - video  - historia  - Es  - Hebe  - crimen  - convertirse  - Fabián  - Nicolás  - juez  - :  - quiero  - las  - acá - argentina  - Bonafini  - Talión - país  - Presidente  - Cafiero  - Gutiérrez - hombre  - avala  - político  - ganancias  - pongan  - que  - reacción  - como  - oposición  - impuesto  - parte  - padre  - Gobierno  - Tras  - acto  - carroñero - Santiago  - esposa  - psicológico - década  - La  - fue  - coronavirus - ,  - al  - proyecto  - razonable - coronavirus  - pedido  - irresponsable - Pablo  - Amado \n",
      "\n",
      "\n",
      "\n",
      "\n",
      "Coronavirus  - en  - Argentina - mujer  - :  - dio  - tres  - violó  - positivo  - les  - gas  - mordió  - policías - micro  - arrojó  - pimienta  - hacer  - cuarentena  - 1-11-14 - evidencia  - violación  - detenida - desabastecimiento  - un  - cuarentena - peaje  - camioneros  - Hudson - sol  - positivo - quedó  - envían  - Otamendi - Sanatorio  - cumplieron  - interceptan  - conductor  - internado  - Moyano  - video  - casi  - tomar  - pone  - Villa  - controles  - hospital  - salido  - estudios - Pablo  - D'Elía  - fajas - rutas - nuevas  - General  - 83  - fiebre  - Quiaca  - funcionario  - estaba  - salió  - corrupción  - hacerse  - 97  - la  - chinos  - posibles  - casas  - dos  - demorando  - si  - venció  - marcapasos - Inglaterra - sin  - escapó  - militante  - muerto  - juicios  - conducta  - Gerardo  - cúpula  - joven  - venía  - jardineros  - zona  - trabajaran  - pileteros  - casa  - Palermo - años  - extranjeros - fue  - entró  - refuerzan  - cumpleaños  - decisión  - estuvo  - Avenida  - controles - amenazó \n",
      "\n",
      "\n",
      "\n",
      "\n",
      "Fabiola  - Yáñez  - programa  - vuelve  - llanto  - Manguel  - Moyano - mamá  - salida  - personal  - ! - bebé - Rial - Sueltos - Animales  - Murió  - More  - Bendita - argumentos  - Romina  - anticuarentena - Rial  - ¡ - renunció  - madre  - virtual  - PPT - internado - top  - final  - suerte - Yañez  - Sebastián  - TV - burla  - pañales  - dólares - Hernán  - consigue  - nuestra  - amor  - caer  - Después  - Desgarrador  - furioso  - Denise  - comer - Gerardo  - Majul  - drástica  - razones  - Fuerte  - Chino - trabajar - El  - ojo  - pantalla  - encontró  - devolvió  - infectólogo  - eltrece - Julia  - haciéndolo - Boca - celebró  - sentía  - aceptó  - propio  - había  - cambia  - Julieta  - escándalo - Ortega  - Barreto  - cuándo - Gisela  - Separadas  - tampoco - miedo - medicina - A24 - Confío  - Alé - condujo  - Jésica  - conducirá  - sitio  - campeón  - encabezó  - trainer - ( - trajo  - pidieron  - falaces  - irresponsables - crudo  - )  - empresario  - compras  - Hermida \n",
      "\n",
      "\n",
      "\n",
      "\n",
      "la  - y  - se  - cuarentena - cuarentena  - Villa  - de  - por  - entre  - Sergio  - violar  - criticó  - bonaerense  - para  - los  - Fe  - Buenos  - productores - las  - 60%  - gobierno  - ocupación  - incertidumbre  - destacó  - agredir  - Berni  - nuevos  - Azul  - reclamó  - planes  - lo  - policías  - registraron  - ”  - terapia  - intensiva  - silobolsas - tensión  - en  - llegó  - aumenta  - mismo  - rotura  - que  - mujer  - 31 - oficiales  - realiza  - Palazzo  - bancarios  - actividad - corte  - Santa  - soberanía - Gran  - Bretaña  - jefe  - AMBA  - Malvinas - camas  - cantina  - entraña - Triste  - célebre  - inventores - construcción - Aires  - falta  - Caniggia  - ciudad  - baúl  - advirtió  - Aires - flexibilización  - denunciado  - lleva  - app  - bonistas  - contra  - casos  - endurecer  - Panamericana  - medio  - críticas  - gabinete  - violó  - uso  - pasado  - porteña  - Ballester - especial  - bonaerense - Alex  - elevó  - obligatorio  - trabajan  - pandemia - Pidieron  - redes  - detención \n",
      "\n",
      "\n",
      "\n",
      "\n",
      "\" - Juan  - \"  - Macri - Es  - Jorge  - criticó  - salud  - es  - muy  - hubiéramos  - Lo  - Eugenio  - :  - Zaffaroni - Lanata  - da  - Frederic - Se  - Me  - tenido  - Cafiero - Eduardo  - ponen  - disparate - Vicentin - duro  - Hay  - sobre  - impunidad - economía - debatir  - números - testea  - aplanar  - Lewin - fuerza  - punto  - Miriam  - dijo  - cárcel - Longobardi  - discursos  - vidas - cobrar  - papelón - poco - Pablo - Darthés - Expropiarlo  - presente  - vitalicia - Con  - esporádicos - Santiago  - necesario  - Javier  - clarísima  - derivación  - muertos - bomba  - O'Donnell - sido  - Sabina  - Paulo  - Durán  - Pablo  - Edesur - población - Marcelo  - 2500  - Promuevo  - democrático - perfectamente  - Sebreli  - desobediencia  - civil - pandemia  - duramente  - Kicillof - enfermaron - peronismo - Fardín  - permiten  - memes  - tendríamos  - Son  - intermitente - miedo  - cadáveres - Pitta - Zabaleta - Milei - planero - Diego  - compramos  - villas - Hurlingham - Fue  - macrismo \n",
      "\n",
      "\n",
      "\n",
      "\n",
      "que  - coronavirus  - ”  - el  - OMS  - se  - advirtió  - contra  - ocultó  - es  - Partido  - filtró  - laboratorio - Comunista  - documental  - sintético  - dice  - Chino  - las  - Un  - desde  - asegura  - como  - empresas  - muy  - origen  - Una  - China  - del  - aseguró  - sido  - vacuna  - virus  - Estado  - está  - tendrá  - hay  - privilegio - ensayos - desarrolladas  - disponibles  - Jinping  - global - prometió  - dijo  - aire - saben  - real  - ellos - mundo - producción  - público  - Xi  - haber  - quede  - desarrollado  - investigación  - escala - afirmación  - cifra  - Maduro  - elegida  - parte  - La  - bien  - alertó  - “ - muertes  - bajo  - vacunas  - afirma  - ayuda - interesante - solo  - pandemia  - empeorando - estarán  - Organización  - Béliz  - mundial - aseguran  - Vacuna  - controlará  - peso - tome  - prestado  - Argentina  - por  - Wuhan - distribución  - transmite  - sobre  - Mundial  - coronavirus - asintomáticos  - cuando  - chino - norte  - Aseguran  - respaldaron \n",
      "\n",
      "\n",
      "\n",
      "\n",
      "de  - la  - El  - Buenos  - que  - “ - las  - ” - La  - Salud  - o  - ciudad  - bonaerense  - 15  - el  - Aires  - imbéciles  - Granados  - cuarentena  - cuidar  - ministro  - vecinos  - Estos  - camas  - ,  - ocupan  - calle - nos  - Migue  - bailaron  - jodan - después - más  - días  - furia  - Recoleta  - Aires - viceministro  - cuarentena - los  - Esto  - coronavirus - es  - hay  - compro  - contra  - sobre  - septiembre - foco  - descanse - guardaje  - Mike  - Amigorena  - ventajas  - muerte - ni  - acusó  - :  - del  - ”  - medio  - militantes  - viven  - social - provincia  - contagio  - Me  - toda  - no  - PRO - ser  - Hay  - una  - calificó  - Pancho - Gendarmería - mensaje  - carpincho  - llevara  - vida  - mamá - Ciudad  - recuperar  - legislativo  - situaciones  - lo  - pandemia - Fardín - rol  - lectura  - llover  - son  - Si  - parásitos  - extraordinaria  - puede  - historia  - empezaron  - 8  - cocina\n",
      "\n",
      "\n",
      "\n",
      "\n",
      "para  - contra  - millones  - Gobierno  - del  - Estados  - Unidos  - crisis  - prepara  - El  - coronavirus - Maduro  - vacuna  - avance  - plan  - dólares  - América  - empresas  - Latina  - régimen  - el  - Trump  - $ - Estado  - Gobierno - mil  - gobierno  - ayuda  - Vicentin - chino  - dice  - paquete  - quiere  - cierre  - enfrentar  - salarios  - dosis  - especial  - Asia - proyecto  - acciones  - fábricas  - FMI  - COVID-19 - US$  - estudia  - Casa  - investigar  - luchar  - Vacuna  - Sancor - desembarcar  - analizará - pidió  - lanzó  - equipamiento  - país  - reclama  - disponibles  - presidente  - militar  - China  - financiero  - 5.000  - Blanca  - Donald  - incentivar  - muden  - global - evalúa  - vacunas  - medidas  - préstamo  - desestimó  - inicia  - traer  - ofreció  - kirchnerista  - pandemia - impuesto  - cargo  - ya  - trabajo  - voces  - impidieron  - fallas  - INCAA  - global  - cines  - movilización  - expropiación  - sus  - crea  - compre  - prestar  - aprobó  - oficialismo  - al  - anunció  - frenar \n",
      "\n",
      "\n",
      "\n",
      "\n",
      "un  - fue  - mujer  - y  - dos  - tres  - a  - cuarentena  - una  - violó  - mató  - hombre  - les  - con  - su  - lo  - ver  - viajó  - cumplían  - gendarmes  - gas  - novio  - baúl  - indignante - chico - liberado  - piba  - mordió  - casa  - taxi  - rompió  - policía  - femicidio  - pimienta  - arrojó  - sin  - sus  - atiende  - policías - obligaron  - Pasaron  - disponibilidad  - ejercicios  - causa  - violar  - auto  - volvió  - infectado  - recibió  - Pazos  - inesperado  - excusa  - físicos  - Suárez  - barbijo  - puma  - cuarentena - metió  - Qué  - hombres  - Italia  - encuentran  - Video  - judicial  - preso  - salió  - ruedas  - Estero - Un  - alertarlo  - alcalde  - peruano  - ladrón  - infracción - ataúd  - simuló  - maltratando  - policías  - robar  - perro - mataron  - morder  - grabada  - pasado  - que  - herido  - Devoto  - Ballester - tiroteo  - dueña - gato  - Nancy  - murciélagos - trasmitido  - rarísimo  - familia - detenido  - separó - machetazos - curó \n",
      "\n",
      "\n",
      "\n",
      "\n",
      "Coronavirus - vuelo  - China - perros  - pandemia - confirmó  - virus  - García  - Argentinas  - convertirse  - China  - piden  - médicos  - 14  - usar  - Aerolíneas  - llegarán  - conurbano - cubanos  - local - pese  - síntoma  - respiratorio  - según  - identificaron  - humano - potencial  - Mendoza  - tests  - máscaras  - ocultaron  - repatriados - clave  - siguen  - ojos  - enfermera - rojos  - argentinos  - prohibición  - Mayra  - alimento  - contener  - provenientes  - :  - desesperado  - contagiados - deben  - Julio  - exterior  - mercado  - gel - otro  - Científicos  - cadáver  - trajeron  - forma  - pasajeros  - terribles  - entran  - hospital  - alumnos  - originó  - fronterizo - callejeros  - piquete  - Ginés  - preventiva - Telefé - estudio - produzcan  - Cobos  - militares - González  - imágenes  - Escándalo  - vendiendo  - viven  - Italia - bolivianos  - Desesperación  - colapsó  - protección - insumos - recibir  - Miami - PH  - Auckland  - porcinos  - país - reforzaron  - aterrizó  - internar - anunció  - gripe - racismo  - faltante  - Ciencia - arrestan  - boliviano  - repatriados \n",
      "\n",
      "\n",
      "\n",
      "\n",
      "Axel  - Kicillof  - cuarentena - cuarentena  - Buenos  - provincia  - Ciudad  - Aires - la  - Por  - Larreta  - si  - desplacen  - evitar  - Kicillof - los  - Rodríguez  - Según  - se  - qué  - Conurbano  - anunció  - evalúa  - hacia  - inflación  - endurecer  - Aires  - Argentina  - fase  - porteños  - AMBA - que  - datos  - será  - les  - especialistas  - colapse  - recomendaron  - AMBA  - controles  - pero  - flexibilizar  - circulación  - está  - test  - ampliará  - contagios  - desde  - Debemos  - obligatoria  - partir  - endurecen  - reunido  - donde  - protocolo  - encuesta - aseguró  - lunes  - pondrán  - fajas  - flexibilización  - Jujuy  - extensión  - dio  - afectando  - 65%  - ánimo - Magario  - aislarán  - edificios  - frenar  - 500  - para  - Fernández  - salud - ¿ - cumpliendo  - obligatorio  - contagios - advirtió  - casos  - Plata  - definir  - detecten  - ? - anunciará  - cada  - larga  - casas  - posibles  - brotes  - le  - días  - no  - Provincia  - aplicar  - región - estricta - durante  - sin \n",
      "\n",
      "\n",
      "\n",
      "\n",
      "Argentina - Coronavirus  - en  - prisión  - presos  - mil  - :  - 100  - pesos  - años  - multas  - alimentos  - rompan  - Entre  - huelga  - Ricardo  - fondos  - excarcelación  - quienes  - sociales  - hasta  - Ríos  - la  - denuncian  - médicos  - 15  - compra  - Desarrollo  - Social - Justicia  - hambre  - piden  - Ollas  - popular - Jaime  - allanar  - supuestos  - directa  - ministerio  - Galarza - dejados  - profanan  - veinte  - Ciudad  - alimentos - populares  - mínima  - tabaco - intercambiar  - misión  - pese  - detenidos  - largas  - Provincia - reclaman  - palacio  - sobreprecios - Cuba  - Buckingham  - reina - domiciliaria - muertos - Nahir  - cobrarán  - para  - Miami  - definitiva - temen  - locales - Romero - pedidos  - iniciaron  - marcha  - cigarrillos  - tumbas  - polémicas - domiciliaria  - diplomacia  - brigadas  - familiares  - envuelta  - rechazo  - colas  - Polo  - Obrero  - mina  - busca  - concentra  - litio  - crece  - rebeldes  - caprichos - solución  - cholulos - inician  - 341  - economía  - convocan  - rechazó  - 300 \n",
      "\n",
      "\n",
      "\n",
      "\n",
      "“ - ” - es  - sobre  - coronavirus - no  - el  - ,  - muy  - casos  - que  - Ginés  - país  - González  - del  - coronavirus  - ”  - más  - Nicolás  - Tenemos  - está  - ser  - número  - de  - Es  - advirtió  - ministro  - hay  - o  - nos  - Hay  - La  - sé  - García - anterior  - pandemia  - :  - debajo  - estuviera  - hemos  - moriríamos - pico  - nada - García  - real - aterrizaron  - Europa - temperatura - El  - Maduro  - jodan - este  - bonaerense  - existimos - mundo - varada  - uno  - se  - Esto  - hipótesis  - pican  - freno  - cerca - conozca  - dijo  - baja - Salud  - muerte - cerrar  - Carlotto - aseguró  - acusó  - lo  - vida  - teoría  - irónica  - explicar  - cuántos  - provincial  - absolutamente  - consecuencias  - provenientes  - Estela  - Aires  - invierno  - contagiosa - sufrido - gobierno  - llegó - Las  - disparado - ponemos  - testimonio  - tomaron  - argentina  - hicieron  - balas  - porque  - como  - contagio \n",
      "\n",
      "\n",
      "\n",
      "\n",
      "y  - entre  - con  - cruce  - Macri  - Mauricio  - fuerte  - Martín  - Peña  - Cristina  - mostró  - Florencia  - llegó  - Pérez  - libertad  - bar - vive  - muelle  - Acá  - responsabilidad - Francia - Kirchner  - Senado - casa  - tutee - Pileta - espectacular  - Lousteau  - vivo  - durante  - mudó  - sin  - tenso  - Marley  - lujosa  - pileta - me  - entrevista - Video - política - reconoció - René  - Tini  - unió  - cantas - Stoessel  - su  - vivo - momento  - transmisión  - rompe  - No  - Aislado  - casa - hasta  - quiero - Bullrich  - come  - Lo  - Berni - Chávez  - equivoqué  - Francia  - Hugo  - cariño  - chicanearon - fuga - fue  - Nunca  - entendí  - amistad - posteo  - Luis  - arma  - Patricia  - nueva  - un  - Pérez - rompió  - juegan  - miserias - internas  - Beatriz  - Sarlo - Larreta - periodista  - declaró  - trato  - charlas  - cuarentena  - Kirchner - usted - Qué  - música  - incómodo  - asaltó  - pies - joyería  - tensa  - público\n",
      "\n",
      "\n",
      "\n",
      "\n",
      "Argentina - Coronavirus  - en  - .  - la  - \" - :  - las  - dijo  - Axel  - Larreta  - días  - Daniel  - como  - es  - cruzó  - Sergio  - Alberto  - Raúl  - trinchera - escondido  - Kicillof - Magistratura  - Patricia  - Fernández  - mes  - Nueva  - cargó  - Puerta  - Teresa  - 12 - parecía  - vamos  - entrevistas  - aconseja  - falta - Conicet  - frigoríficas - apilándose  - criticó  - contra  - industria  - probable  - no  - Twitter  - Rodríguez  - Si  - Roja  - están  - ,  - juicio  - pandemia  - levanta  - ”  - running  - tener  - cadáveres  - Zaffaroni - edificio - Kicillof  - Es  - peor  - York - que  - cámaras  - miércoles - Cristina  - abril  - Fernández - le  - ruta - argentina - Frigerio - Rogelio  - hoja  - conferencias  - prensa - un  - Kirchner  - quince  - Gollán - fortalecemos  - cuotas  - resiste - retomar  - Internet  - Masacres  - Horacio  - el  - Gobierno  - bonaerenses - Algunos  - va  - está  - Se  - imágenes  - No  - Cruz  - ver  - del \n",
      "\n",
      "\n",
      "\n",
      "\n",
      "¿ - ? - qué  - Por  - María  - ?  - Vidal  - Eugenia  - dio  - quién  - positivo  - o  - países  - mujeres  - Qué  - Covid-19 - Suecia - somos  - tanto  - Quién  - opinan  - curva - volverá  - tu  - Islandia  - Dinamarca - Noruega - negocio  - realmente  - definitivamente  - negativo  - testimonio  - tan  - encendió  - recuperación  - estudio  - Jésica  - barbijo - pánico  - Finlandia  - gusta  - Vidal - Viale - ricos  - aplanando  - expertos  - NACION - pendientes  - Martín - Cerraste  - Compartí  - campeones  - objetivo  - LA  - cosa - tuvieron  - negativo - amiguero - grupal  - beso  - argentinidad  - PersianasBajas - rápido  - mejor  - lograron  - respondido  - dará  - rito  - parecen  - liderados  - cumplir - pocos  - Cómo  - vio  - clases  - genera  - Guerra  - negros  - PRO - sufre  - Europa  - recuperará  - Editorial - ala  - -  - Unidos - persiste - Cirio  - gobernados  - distancia  - Finlandia - Mundial - Segunda  - asado  - Cuándo  - Jujuy - avispones  - expertos - 75  - Estamos \n",
      "\n",
      "\n",
      "\n",
      "\n",
      "Fernández - Alberto  - No  - tiene  - \" - Es  - no  - Me  - :  - lo  - muy  - da  - tengo  - cosas  - Macri - Con  - Jorge  - equivoqué  - ,  - Beatriz  - todas  - Sarlo - pero  - Sabina  - importante - sido  - respondió  - Dijo  - hablemos  - estas  - fue - asusta  - acatamos - dicen - Morena - tenemos - docilidad  - Cris  - como  - me  - pensar  - nos  - Lanata  - Sergio  - Flavio  - Martín  - volvimos  - gobernar - Audio - relación - interrumpida  - buena  - ley - preparándonos  - enojado  - saber - rescatando  - guerra - quitando  - porque  - Gasalla - nadie - fundido - crítico  - sea  - contra  - Patricia  - leer  - alternativas  - Cristina  - Estamos  - dijo  - inflexible - Giménez - Nos  - combate  - siempre  - relato - alarmarnos - duro  - oposición - cínico  - haciendo  - estamos  - Frederic - Vicentin - gente  - está  - esto  - Estoy  - tonto - enamoramos  - saber  - Luis  - justo  - imaginario - Bali - Azzaro - dejar  - con \n",
      "\n",
      "\n",
      "\n",
      "\n",
      "\" - .  - Argentina - Coronavirus  - dijo  - la  - Santiago  - es  - :  - en  - Es  - ,  - las  - Daniel  - virus  - Cafiero - pandemia  - Ginés  - González  - Gollán - infectadura - contra  - Hay  - Sergio  - Eugenio  - Se  - corre  - metros - microgotas  - Decir  - Lo  - muy  - Macri  - terrorista - Axel  - días  - cárcel - expandirse - Patricia  - sobre  - Imagínense  - gobernando - una  - Juan  - A  - entrado  - Cahn - hay  - Prat-Gay - curva - Berni  - gente  - sino  - Coronavirus - García - recibirían  - hubiese  - norteamericanos - vinieran  - Nos  - cuando  - que  - carta  - pandemia - profundamente  - clasista  - democrático  - \"  - catástrofe - Fue  - morir  - manifiesten  - vacías - intensivo  - Bullrich  - Kicillof - aplausos - Raúl  - totalmente  - García  - Zaffaroni  - personaje - justo  - un  - dije - ante  - está - Que  - no  - del  - Bolsonaro - cárceles  - criticó  - cruzó  - pero  - como  - economía - Mauricio  - decían  - sido \n",
      "\n",
      "\n",
      "\n",
      "\n",
      "Susana  - Giménez - mi  - Venezuela - estar  - Tengo  - Presidente - ni  - referente  - quieran  - Me  - debería  - siento  - Humanos  - nos  - Derechos  - Otra  - Sandra  - terror  - saca  - político - convertir  - cuestionó  - negra - preso - ventaja  - activista  - Pibita  - trans - gabinete  - resistencia - ochenta  - cuerpos  - Pazos - cualquier  - Pitta - mujer - Medio  - Nancy  - confesión  - estúpida  - blanqueado  - plata - Mario  - Valdés - podemos  - Jimena  - género - cuerpo  - Eduardo  - hombre  - Durán  - es  - Diego  - economía - :  - agradecida - Cafiero  - mí - defendió  - Venezuela  - Mariano  - Iván  - contentos  - Noble  - Barón  - accidente - caer  - sorpresivo  - Mi  - Kämpfer  - pavor  - alguien - Sé  - tenerle  - Darín - Brancatelli  - desea  - comprarme  - nosotros  - chimpancés - Matilda  - Santiago  - Blanco - Barba - acostumbré  - Agustina  - curar  - ser  - suficientes  - dictadura - consumidores  - CFK  - haber  - Neumann  - Fernández - indemne  - mandatario  - Kulfas - Inés \n",
      "\n",
      "\n",
      "\n",
      "\n",
      "la  - Argentina - Coronavirus  - en  - Ciudad  - Aires - cuarentena - Buenos  - hasta  - :  - cuarentena  - de  - provincia  - Presidente  - evaluará  - asistir  - las  - 24  - extensión  - mayo  - emergencia - preocupados  - actividad  - el  - casos - terapia  - entre  - los  - Gran  - Bretaña  - Malvinas - soberanía - endurecer  - tensión  - Provincia  - Fernández  - construcción - Nación  - Gobierno  - extender  - advirtió  - Memoria  - uso  - aceleren  - ocupación  - Argentina  - desde  - recibió  - popular  - inclusive - organizaciones  - miércoles  - defensa  - Larreta  - evalúan  - intensiva  - Obrero  - Polo  - circulación - obligatorio  - Comisión  - extenderá  - cautela  - gel - trabajadores  - habilitará  - revertir  - diferenciarse  - deba  - Villa  - dura - analiza  - obligatoria  - app  - PAMI  - pero  - horas  - sociales  - planes  - Kicillof  - camas  - no  - ahora  - aislar  - crece  - anuncian  - aumento  - Arroyo  - pacientes  - esenciales  - antes  - física  - gráficos  - Alberto  - participaría  - clínicas  - Alemania  - extrema  - suministro  - error \n",
      "\n",
      "\n",
      "\n",
      "\n",
      "los  - a  - Alberto  - ,  - Fernández - va  - no  - Fernández  - precios  - gente  - alimentos  - porque  - :  - Si  - No  - sujetos  - más - Va  - beneficiar  - financiera - especulación  - vamos  - Sagasti - puede  - lo  - son  - ;  - Vicentin - sobre  - perseguir  - deuda - padecer - respeten  - estarán  - pero  - Rodríguez  - Larreta - “ - ” - se  - años  - temblar  - nunca  - otras  - que  - mensaje  - Mensaje  - Varsavsky - mantenemos  - aceptar  - jugando  - Reech  - Son  - antivacunas - vacuné  - 15  - mis  - rechazo  - más  - después  - Reina  - volver  - Kicillof - Granados - Rosedal - máximos  - covidiar  - rey - te  - unos  - polémica  - Djokovic - tampoco  - Tendrían  - públicos  - Viviana  - ahorrar - pagás  - gastar - desastre  - La  - Vamos  - si  - mejor - cosas - \" - inconscientes - nos  - aislamiento  - le  - suma  - empresarios  - Horacio  - Duro  - van  - puede - Axel  - pulso  - piden  - 100% \n",
      "\n",
      "\n",
      "\n",
      "\n",
      "Gobierno  - El  - millones  - $ - para  - mil  - IFE - bono  - América  - plan  - dólares  - 30  - especial  - después  - el  - Latina  - prepara  - medidas  - Más  - Lacalle  - Ante  - otorgará  - cobraron  - fueron  - del  - Pou  - Unidos  - 3.000  - Estados  - radicar  - atraer  - Uruguay - beneficiarios  - prestar  - COVID-19 - impuesto  - gobierno  - ofreció  - compre  - vulnerables  - 100  - estatales  - chino  - régimen  - presidente  - Gobierno - sociales  - reforzó  - pandemia - extranjeros  - cuotas  - INCAA  - cines  - traer  - movilización  - estacionados - mínimo  - ANSeS  - país  - grúas - avance  - sectores  - argentinos  - cine  - avión  - Netflix  - de  - impidieron  - lanzó  - busca  - pandemia  - Netflix - Asia - servicio  - IVA - Trump  - fábricas  - Sancor - desembarcar  - Oficializan  - estudia  - sanitarios  - cierre  - Vicentin - soluciones  - Perros  - Pyongyang - escasez  - abastecer  - mal  - vacunas  - FMI  - Cinco  - quieran  - quiere  - 10.000  - mantener  - planes  - destinará  - pesar \n",
      "\n",
      "\n",
      "\n",
      "\n",
      "de  - medio  - por  - llegada  - Villa  - médicos  - para  - falta  - EEUU  - En  - grupo  - defensa  - firmaron  - autos  - presos  - Interna  - apunta  - protesta  - politólogos  - hambre  - restaurantes  - apoyar  - Gesell  - agua - Largas  - proclama  - evaluar  - AySA  - artistas  - Estela  - manifestantes  - preventiva  - prisión - listado  - Harán  - Carlotto - Pinamar  - filas  - cuestionada  - animales - Colas  - cubanos - Plaza  - Costa - baño  - reclamar  - huelga  - San  - situación  - baja  - coronavirus - papel  - Ciudadanos  - todo  - México  - ingresar  - más  - instituciones - riesgo  - respeto  - proteccionista  - Vannucci  - Diego - sustentables  - Louis  - protestó  - Ciudad  - pesar  - argentinos  - conseguir  - Mayo - tienda  - Portland  - saqueó  - encapuchados  - Vuitton  - deben  - pandemia  - salir  - Victoria  - cadena  - Constitución  - Devoto - cubanos  - Un  - cárcel  - abarrotados  - frecuencias - país  - soluciones  - 31 - Perros  - reducido  - usuarios  - Pyongyang - escasez  - 160.000  - abastecer  - Banderazos  - vida \n",
      "\n",
      "\n",
      "\n",
      "\n",
      "casos  - nuevos  - médicos  - en  - Argentina - son  - país - Coronavirus  - contagios  - cubanos  - ya  - contagiados  - Malvinas  - cubanos - casi  - 900  - récord  - confirman  - total  - porteño  - ocho  - respaldó  - 1.000  - Australia - las  - contratación  - 70%  - muertos  - hay  - llenas - día - infectados - gobierno  - hombres - 34 - playas  - llega  - ventas - incluirán  - personas  - lista  - estaciones  - infectados  - complicar  - confirmaron  - prevé  - 285  - 41.000  - carne - 438  - siete  - Islas  - triple  - reportan  - 4.814  - deberán  - Casos  - muertes  - viajaron  - frontera - caso  - 97 - asciende  - siguen  - presencial  - víctimas  - agrava  - 3  - obesidad  - covid-19 - Chile - 55  - frigoríficos  - 745  - Provincia - positivos  - abastecimiento  - infectadas  - últimas  - villas  - Cuba  - rechazo  - 250  - terrestres - fatales  - caída  - regulará  - 86  - ministros  - reportaron  - 1.391  - piqueteros  - clínica - hoy  - nacional - 188 - 5208 - seis  - agosto  - anuncia \n",
      "\n",
      "\n",
      "\n",
      "\n",
      "Tinelli  - Marcelo  - tras  - hizo  - estado  - Fabián  - definiciones  - relato  - Su  - Mirtha  - salud - difícil  - foto  - Pais  - Cande  - Legrand  - Ernestina  - publicó  - situación  - hija  - primera  - criticaron  - Florencia  - Pública  - Esquel  - económica  - TV  - docente  - look - Kirchner - su  - desató  - literatura  - Dramático  - Fardin  - feminismo - restaurante - novio - desafiante  - atraviesa  - 19  - haters  - Guillermina  - influencer  - juntos  - novia  - cumplió  - negra  - equivocó  - mostró  - multiplicaciones  - Sánchez  - discusión - Guirao  - imitar  - usando  - Morena  - madrugada - manejando  - coreografía  - Lourdes  - naturaleza - Rocío  - Nicole  - pantera  - Guido  - Logran  - fotografiar  - entrevista - leopardo  - camioneta  - !  - De  - exsecretario  - ritmo  - cacerolazos  - ojos - ciega - Echarri  - rapero - Rial  - tatuó  - Facundo  - mayo - noticiero  - confesó  - grave  - Barby  - Elena  - Thelma  - gel  - Aníbal  - Silenzi  - Gutiérrez - Cuba  - privado  - sensual  - Una  - fábrica  - apuntó \n",
      "\n",
      "\n",
      "\n",
      "\n",
      "y  - un  - a  - la  - me  - Gracias  - cuarentena - ,  - recibió  - le  - De  - pareja  - cama  - tienen  - lo  - tres  - violar  - una  - comparten  - proyectos  - trieja - Ivana  - sorprendió  - sus  - cansó  - criticaran  - casa - Nadal  - respuesta - de  - mochila  - piso  - salvé  - quebraron  - puesta  - pierna - su  - espalda - sexo - vida - Dios  - todos  - fin  - plasma - Covid-19 - anticuerpos - noticia  - relación  - shockeó - tiraron  - Barili  - Rodolfo  - año  - Se  - estudiar  - España  - cuarentena  - “ - voy  - perdió  - donó  - se  - ” - celular  - viajó  - curó  - que  - manejaba  - La  - baúl  - por  - país - comportamiento - feroz  - cumplía  - golpiza  - modelo  - Sergio  - :  - con  - estúpida - tenía  - auto  - fue  - cerrados - guardia  - estuviésemos  - parrilla  - medio  - metió  - robarle  - mirá  - escondió  - Cristian - hombre  - taxi  - barrio - judío  - doy  - estaríamos \n",
      "\n",
      "\n",
      "\n",
      "\n",
      "En  - Uruguay  - barrio  - plena  - casamiento  - invitados  - cien  - Once - realizaron  - cinco  - Dos  - marcharon  - fiesta  - sangre  - Fe - turca  - plaga  - Paulina  - Violencia  - protestas  - 21  - viajó  - Rubio - personas - Recoleta - residencia - requisitos  - rompieron  - mira - cuarentena - muestras  - están  - temible  - rojo  - ponerse  - Tigre  - Tras  - Un  - Polémica  - banderazo  - departamento  - Madero - Mongolia  - Detuvieron  - controló  - flexibiliza  - Santa  - Plaza  - criminal  - organización  - cárcel  - York  - rusa  - km  - redes  - runner  - caravana  - atendió  - Boca  - corrió  - interior  - llegaron  - 500  - obtener  - protestó  - pacientes  - Córdoba - depredadora - Pesca  - Gallegos - manifestantes  - acusado  - Tailandia  - clínica  - nadie  - Belgrano - Mayo - decidieron  - transmisión  - D’Elía  - brutalmente  - atacan  - propiedad  - Llegó  - extraditado  - 2017 - Devoto - cuarentena  - mortero  - Río  - roban  - silobolsas  - privada - Blanca - motín  - ropa  - Puerto  - quisieron  - agredieron  - Chiche \n",
      "\n",
      "\n",
      "\n",
      "\n",
      "Cristina  - Kirchner  - Fernández  - Mauricio  - Kirchner - Macri  - Alberto  - sus  - Pérez  - Florencia  - hija  - al  - críticas  - Cuba  - Cuba - cuestionó  - junto  - regresó  - volvió  - baúl - dichos  - llevó  - apuntó  - expropiación  - matrimonio  - respecto  - Florencia - Néstor  - regresa  - Hugo  - Unión  - hijos  - mueve  - une  - hilos  - líderes  - Víctor  - leer  - Morales  - Carrió - regreso  - excluyó  - Elisa  - Europea - mandó  - canciller  - inmorales  - críticos - Felipe  - radicalizó - Jorge  - Solá  - tenso  - Como  - llamar  - viajará  - diálogo  - crítica  - repite  - 2003 - receta  - libro  - Rial  - aplicó  - 2021 - último  - nuevo  - dilema  - impulsó  - crisis  - periodista - Padre - pidió  - Fernanda  - y  - permita  - juicio  - Raverta  - entrevista - cartas  - iniciaría  - Desde  - extraña  - varados - Micaela  - programado  - llama  - descalificarla - Bertolotti - bancar  - visitar  - UCR  - inminente - viaje  - recordó  - Nacional - juicio - tensiones  - Maduro - hará \n",
      "\n",
      "\n",
      "\n",
      "\n",
      "a  - Alberto  - Fernández  - ,  - Cristina  - Fernández - “ - Patricia  - :  - y  - Pérez  - clave - hace - asunto - está  - resolver  - Corte  - fallo  - ” - la  - presiona  - sus  - cuarentena  - Kirchner  - Bullrich  - miseria  - condenando  - quiere  - Cuando  - Suprema - va  - críticas  - miserables - lenta - Kirchner - Macri - cámara  - antes  - Cha  - Mauricio  - tratar  - Cahn  - comparación  - ir  - volver  - más  - Rodríguez  - padeció - perjudicó - meses  - Hebe  - de  - Pedro  - ”  - ? - Argentina - tras  - cuestionó  - lo  - con  - parte  - gran  - confesó  - deberíamos  - Voy  - defendió  - La  - Gutiérrez  - Venezuela - Larreta  - ¿ - reclamo  - sobre  - voy  - quien  - Uruguay - le  - velocidad  - nos  - machacando  - Bonafini  - Horacio  - designada  - llamativo  - Solá  - Pérez - vamos  - su  - apoyo  - Mariana  - dura  - empresarios  - casa - Casero  - regalar  - cansó  - criticaran  - Nadal  - cuántos  - absoluta\n",
      "\n",
      "\n",
      "\n",
      "\n",
      "China  - coronavirus - coronavirus  - pandemia  - chileno  - carne  - diputado  - plena  - trasladar  - mundial  - China - enfermos  - abrió  - feria  - propuso  - pacientes  - meses  - Un  - perro  - comer  - En  - después  - consumo  - animales  - caso  - brote  - peligro  - anual  - primer  - comenzó  - piel  - murciélagos  - Wuhan  - exportaciones  - color  - prohibió  - Cinco  - extraño  - sobrevivieron  - están  - pesar  - Perú - cambio  - dos  - récord  - salvajes - esa  - rugbiers  - nueva  - colectivo  - último  - sanitario  - Festival  - vendiendo  - cifras  - comienzo  - enero  - 32,8%  - impacto  - desplomaron  - 41  - cerrarán  - número  - diarios  - estados  - reaperturas - cadenas  - frenan  - locales  - ocultar  - COVID-19  - Wuhan - 13  - tradicional  - continúan  - 11  - Tiene  - Choferes  - King  - segundo  - Starbucks  - partidarias - Burger  - superó  - nadie  - 4%  - casos  - legislador  - participó  - paciente  - ocupadas  - evalúan  - pese  - línea  - chinos  - clínica - contagiados  - Primer  - prohibir  - muertos \n",
      "\n",
      "\n",
      "\n",
      "\n",
      "ser  - ” - “ - menos  - sin  - Dady  - semanas - Venezuela - Morales - Argentinos  - tener  - arma - Tercera  - descontarnos  - Susana  - 30% - cuatro  - puede  - deberían  - o  - Capitanich - dentro  - Chaco  - Habló  - continuar - Brieva  - Al  - será  - Sí  - posiblemente  - pandémico  - España - ganó  - sí  - Juan  - seguir  - Vamos  - Suecia  - políticos  - instalarnos  - irnos - nunca  - Evo  - Presidente - responsables - reiteró  - trabajando  - papeles  - funcionarios  - Llené  - Rusia  - Merkel - reclamo  - Venezuela  - Brieva - purificando - Grabois - encierro - comunismo - disparar  - :  - enfrentó  - Para  - tendrán  - recortes  - independiente - vamos  - Guerra  - Mundial  - ido  - notables  - cafés  - nos  - Angela  - Señor  - deberá  - Giménez  - problema  - Necesitamos  - vida  - peronismo - varados  - damos  - Giménez - sueldos - quieran  - Barreto  - pico  - Gisela  - cabeza - terror  - sobre  - Están  - ni  - Tenemos  - límites - combatida  - mentiras - mostrando  - rodar \n",
      "\n",
      "\n",
      "\n",
      "\n",
      "no  - Ginés  - González  - que  - es  - García  - está  - García - ser  - lo  - dijo  - resfrío  - sobre  - “ - demuestre  - contrario - ” - Cualquier  - La  - Carla  - invierno  - Vizzotti - ,  - este  - coronavirus  - se  - puede  - Pampa - sobran  - tengamos  - Merkel - A  - Ministerio  - trabaja  - anterior  - populismo  - leves - subestimar  - moriríamos - sé  - hasta  - Argentina  - gobernador  - hay  - mediados  - Salud - volver  - frase  - Polémica  - Quiso  - recursos  - más  - porteños - peor  - Grabois - del  - llegar  - el  - multimillonaria  - Trump - creía  - sorprendió - muchos  - rápido - Tenemos  - Por  - estadística - :  - fines  - Donald  - Para  - OMS  - minimice  - Doman - ofendió - dije  - síntomas  - Peor  - cuántos  - elitismo - normalidad  - Estela  - aseguró  - Juan  - Angela  - tienen  - sale  - coronavirus - Las  - esto  - aunque  - le  - debajo  - mucho  - durante  - podamos  - aplicando  - XX - economista  - Edwards\n",
      "\n",
      "\n",
      "\n",
      "\n",
      "Mercado  - Camioneros  - peligra  - empresa  - años - Moyano  - Lázaro  - niños  - poderes  - entrega  - picar  - Luego  - sociales - Libre  - sindicato  - histórico  - cumplir  - bloquea  - venta  - Tres  - millones - Araña - pago  - producir  - Negra  - $  - bancos  - productos - donde  - Hombre  - depósitos  - Viuda  - cerró  - nombre  - machista  - expropiación - 80  - vecinos  - El  - hicieron  - productores  - calles  - fabricaba  - Verbano - Báez  - única  - porcelanas - Dejó  - mapa  - pensiones  - Libre - bodegón  - sólo  - días - semana  - planta  - Vicentin - 9.000  - jubilaciones - Santa  - expropiación  - Báez - EEUU - Omar  - debe  - fianza  - Palermo - propone  - porteñas - tener  - silobolsas  - Vecinos  - pesos - domiciliaria - 1.000.000  - USD  - Banderazo  - envió  - cada  - cierre  - expensas  - lavandina  - domingo  - abrirán  - mujer - levantó  - Dánica  - Vicentin  - alimentos  - apropiación  - Llavallol - ley  - neumonía - soja  - acumulan  - previo  - diez  - 632,5  - legisladores  - country \n",
      "\n",
      "\n",
      "\n",
      "\n",
      "La  - ” - le  - a  - Si  - otro  - “ - pedido  - ya  - marido  - maestra  - mamis - videíto - pedile  - querés  - muchos - mandé  - me  - que  - Yanina  - tu  - ante  - Latorre  - chat  - permiso  - reacción  - decís  - paran - mía - mantuvo  - mostró  - ,  - circular - una  - venís  - los  - lo  - por  - :  - parte  - tenía  - jubilada  - generan  - Reina  - ésta  - mi  - picante  - sol - cachetearlo - voté  - años  - antivacunas - Reech  - vacuné  - hijo  - A  - 5  - ángeles  - no  - medidas  - Gracias  - Le  - Cinthia  - baño - emborracha  - aguanta  - su  - más - podía  - botella  - hijos  - ganas  - mañana - tiraron  - te  - Dufau  - huir - hijo - pregunté  - porque  - salió  - enfureció  - mamis  - videito - escuela - quebraron  - piso  - salvé  - pierna - puesta  - espalda - Diego  - mochila  - angustia  - pedir  - descubrió  - suma  - vivir - empleada  - rechazo \n",
      "\n",
      "\n",
      "\n",
      "\n",
      "” - no  - “ - porque  - me  - No  - tiene  - ,  - volvió  - :  - si  - Sergio  - vamos  - Usted  - Fernando  - tener  - dar  - cruzó  - Estoy  - Norte - Grave  - decidís  - Buscate  - decido  - paso  - vos  - ¡ - hijo  - coronita - mi  - pensé  - ostensible - creía - contó  - Era  - Ricky  - más - o  - estos  - LATAM - situación  - largo - Kun  - Agüero  - ser  - Jimena  - azafata  - miedo  - que  - agote  - Iglesias  - Massa  - vivir - leyó  - Me  - soy  - ex  - angustia  - yo - El  - un  - era  - Barón - muy  - Daniel  - yo  - reconoció  - Granata  - Osvaldo  - Fernández - demás - Estar  - Diputados - estás  - daba  - sirve  - haciendo  - nada  - criticar  - entiendo  - Dady  - pollo - endurecimiento  - sana  - desventuras  - es  - paciencia - drama  - a  - cumpleaños - Barrio  - pero  - ! - Cinthia  - solo  - trabajo - lo  - como  - vi  - recen \n",
      "\n",
      "\n",
      "\n",
      "\n",
      ".  - \" - Coronavirus - dijo  - ,  - González  - Ginés  - Fernández - hay  - García - Kicillof - García  - Dura  - Si  - Sabemos  - frase  - Pampa - sobran  - que  - Ziliotto - Los  - trabaja  - :  - gobernador  - Lo  - porteños - A  - no  - pico  - tendríamos  - cuidadosos - escriben  - gobiernan  - rastreo - empezado  - afuera - muchos  - es  - opinó  - veo  - Sued - haber  - preocupado  - anticuarentena - poco  - contagios - agotador - seguro  - volver  - Creo  - Alberto  - sería  - tomado  - Tal  - Vizzotti - fase  - lugar - exactamente  - Patria - bajar - Axel  - Bolsonaro - gente  - Carla  - sobre  - aislamiento - entrado  - salir  - aumentar  - esfuerzo  - del  - Habría  - protesta  - marcha  - impuestos - son  - optimista - Rubinstein  - conteste  - chicanas - Química - premio  - atrás  - eso - Omar  - Levitt - Argentina  - No  - está  - vamos  - Covid-19  - Ciudad  - Cafiero - resucita - Silva  - organizar  - asesor  - los  - deberían  - trabajan \n",
      "\n",
      "\n",
      "\n",
      "\n",
      "” - “ - La  - ,  - es  - sobre  - :  - más  - va  - nos  - de  - está  - cuarentena  - no  - Si  - No  - volver  - los  - gente  - absoluta - a  - días  - se  - cuarentena - deberíamos  - velocidad  - que  - afecta  - burlara  - tiempo  - vecinos  - después  - furia  - alta  - la  - puede  - contagio  - época  - El  - aislamiento  - perdemos - caer - vidas  - 15  - Estos  - Kicillof - bailaron  - ocupan  - Granados  - él - Fernández - Hermoso  - Quizás  - Monte  - cuidarnos - imbéciles  - humillante - discriminatorio - estúpido  - pelotudez - vacaciones - después - Es  - Recoleta  - Vero  - Migue  - calle - Lozano  - Wiñazki  - tierras - cuántas  - decidir  - o  - una  - mantenemos  - Varsavsky - joder - gastronómicos - Europa - temperatura - aterrizaron  - ciudad - ni  - vayan  - Tinelli - Dejen  - Axel  - joder  - asesora  - advertencia  - rigurosa  - principio  - exceso  - Nicolás  - post  - nueve  - encerrar  - descargo  - desastre  - Mercedes \n",
      "\n",
      "\n",
      "\n",
      "\n",
      "Gobierno  - el  - los  - argentinos  - varados  - Coronavirus - vuelos  - más  - exterior - país - clases  - les  - todos  - pondrá  - pasajeros - Ezeiza  - regreso  - :  - pero  - pandemia - $ - 200  - llegan  - respiradores  - para  - comenzaron  - podrán  - pico  - arribo  - repatriación  - Roma - freno  - Aerolíneas  - torneo  - jubilados  - bono  - aplicar  - toma  - en  - mayores - médicos  - las  - Varados  - humanitarios - ayudar  - 18.000  - regresar - habilitará  - clínicas  - suspende  - atender  - pagó  - quedaron  - pidió  - quieren  - son  - que  - subestimó  - Adolfo  - pueden  - cubanos  - ahora  - sueldo  - auxilio  - extranjeros - misterioso  - repatriaciones  - ingreso  - aeropuerto  - Rubinstein - Coronavirus  - 23.000  - exterior  - fiebre  - 14  - controles  - extranjeros  - usarse  - 10.000  - pasajeros  - bancos - Resistencia - construirá  - protocolo  - alimentos  - al  - Alemania - vulnerables  - sueldos - emergencia  - Argentina - pedía  - esperaban  - niveles  - repatriados - proteger  - clubes  - hay  - gobierno  - IFE\n",
      "\n",
      "\n",
      "\n",
      "\n",
      "seis  - hasta  - agosto - ingreso  - argentinos - mundo - Tierra  - Los  - autorizó  - través  - meses - metropolitana - ciudadanos  - pagará  - podrían  - Argentinas  - argentina  - chilenos  - decidió  - circulación  - área  - ganar  - elegida  - bancos  - gremios  - prorrogar  - plantea  - anunciará  - provincias  - bonaerense  - mejor  - anuncio  - campo - Banco  - analiza  - extenderse  - veces  - Austral  - permitirá  - lleguen  - viajeros  - semana - Aerolíneas  - limitará  - fronterizos - alerta  - riesgos  - predicciones  - runners - récord - saldrá  - Japón  - nacionales  - 5  - inflación - Para  - US$ - pago  - semana  - El  - Paradoja  - desafíos  - cerca  - desaceleración  - pasos  - Indec  - aluvión  - Anses  - viñedo  - bodega  - vitalicias  - retroactivas  - advirtió  - uno - emisión  - Sur - NASA  - permite  - Michetti  - magnético  - Volvió  - europeos - debilita  - Las  - chavismo - Silobolsas - Gabinete  - inversiones  - doble  - Central - rutas  - Sacco  - cambios  - millones - toda  - comprar  - Expertos  - domingos  - cuotas  - indemnización \n",
      "\n",
      "\n",
      "\n",
      "\n",
      "Alberto  - Fernández  - gente  - a  - Axel  - la  - ,  - Si  - los  - 15  - \" - más  - Fernández - Kicillof - vamos  - cuarentena - van  - son  - mensaje  - con  - abrir  - Kicillof  - Ciudad  - comercios - No  - no  - más - ;  - Rodríguez  - Viviana  - .  - días - cuarentena  - Canosa  - Horacio  - digan  - trabajar  - vaya  - políticos - bolsillo - salud  - unos  - joder  - ni  - sobre  - Duro  - tras  - días  - inconscientes - Aires - mental  - salir  - autos - Independencia - :  - puede  - Buenos  - llevar  - Larreta  - rápidamente - de  - después  - sacar  - Larreta - le  - acá  - fuerza - provincia - adivirtió  - Coronavirus - entra  - Los  - Mensaje  - tendencia  - sigue  - Hay  - Día  - razón - ir  - reunión  - detener  - provincia  - mayores  - correr - extensión  - que  - entrar  - Les  - restricciones  - quince  - padeció - sugerencia - perjudicó - Patricia  - Vine  - tuvimos  - gobernadora  - tránsito - Gutiérrez  - actividad \n",
      "\n",
      "\n",
      "\n",
      "\n",
      "por  - Juntos  - impuesto  - el  - pidió  - oposición  - ”  - al  - proyecto  - Cambio  - Kirchner  - del  - Cambio - grandes  - las  - Cristina  - conmovida  - morir - sola  - le  - Vidal  - a  - Eugenia  - María  - varios  - escuchar  - paciente  - sesión  - críticas  - alarma  - lágrimas  - aval  - sesiones  - dio  - Máximo  - Se  - un  - llamó  - encendió  - Hebe  - una  - video  - grieta  - Bonafini  - dirigentes  - avalado  - Pérez - acusó  - senadora  - Cristina - Presidente  - virtual  - fortunas - quiénes  - testimonio  - curó  - ricos - votar  - kirchnerismo - viajó  - propuesta  - virtuales  - coronavirus  - para  - pagarán  - Es  - presos  - Venezuela - Senado - Corte  - patrullas  - expropien  - capital - amenacen  - formar  - Vicentin - liberará  - Kirchner - fortunas  - reapareció  - empresas  - Corte - pide  - parte  - se  - todos  - sus  - con  - y  - perdió  - anticuerpos - jueces  - noticia  - shockeó - riqueza - coronavirus - reavivó  - Senado  - falta  - K\n"
     ]
    }
   ],
   "source": [
    "\n",
    "for top in ctm.get_topic_lists(k=100):\n",
    "    print(\"\\n\\n\\n\")\n",
    "    \n",
    "    print(\" - \".join(top))"
   ]
  },
  {
   "cell_type": "code",
   "execution_count": 16,
   "metadata": {},
   "outputs": [
    {
     "data": {
      "text/plain": [
       "'de - la - que - el - en - y - a - los - del - se - las - por - un - para - con - no - una - su - al - lo - como - más - pero - sus - le - ya - o - este - sí - porque - esta - entre - cuando - muy - sin - sobre - también - me - hasta - hay - donde - quien - desde - todo - nos - durante - todos - uno - les - ni - contra - otros - ese - eso - ante - ellos - e - esto - mí - antes - algunos - qué - unos - yo - otro - otras - otra - él - tanto - esa - estos - mucho - quienes - nada - muchos - cual - poco - ella - estar - estas - algunas - algo - nosotros - mi - mis - tú - te - ti - tu - tus - ellas - nosotras - vosostros - vosostras - os - mío - mía - míos - mías - tuyo - tuya - tuyos - tuyas - suyo - suya - suyos - suyas - nuestro - nuestra - nuestros - nuestras - vuestro - vuestra - vuestros - vuestras - esos - esas - estoy - estás - está - estamos - estáis - están - esté - estés - estemos - estéis - estén - estaré - estarás - estará - estaremos - estaréis - estarán - estaría - estarías - estaríamos - estaríais - estarían - estaba - estabas - estábamos - estabais - estaban - estuve - estuviste - estuvo - estuvimos - estuvisteis - estuvieron - estuviera - estuvieras - estuviéramos - estuvierais - estuvieran - estuviese - estuvieses - estuviésemos - estuvieseis - estuviesen - estando - estado - estada - estados - estadas - estad - he - has - ha - hemos - habéis - han - haya - hayas - hayamos - hayáis - hayan - habré - habrás - habrá - habremos - habréis - habrán - habría - habrías - habríamos - habríais - habrían - había - habías - habíamos - habíais - habían - hube - hubiste - hubo - hubimos - hubisteis - hubieron - hubiera - hubieras - hubiéramos - hubierais - hubieran - hubiese - hubieses - hubiésemos - hubieseis - hubiesen - habiendo - habido - habida - habidos - habidas - soy - eres - es - somos - sois - son - sea - seas - seamos - seáis - sean - seré - serás - será - seremos - seréis - serán - sería - serías - seríamos - seríais - serían - era - eras - éramos - erais - eran - fui - fuiste - fue - fuimos - fuisteis - fueron - fuera - fueras - fuéramos - fuerais - fueran - fuese - fueses - fuésemos - fueseis - fuesen - sintiendo - sentido - sentida - sentidos - sentidas - siente - sentid - tengo - tienes - tiene - tenemos - tenéis - tienen - tenga - tengas - tengamos - tengáis - tengan - tendré - tendrás - tendrá - tendremos - tendréis - tendrán - tendría - tendrías - tendríamos - tendríais - tendrían - tenía - tenías - teníamos - teníais - tenían - tuve - tuviste - tuvo - tuvimos - tuvisteis - tuvieron - tuviera - tuvieras - tuviéramos - tuvierais - tuvieran - tuviese - tuvieses - tuviésemos - tuvieseis - tuviesen - teniendo - tenido - tenida - tenidos - tenidas - tened'"
      ]
     },
     "execution_count": 16,
     "metadata": {},
     "output_type": "execute_result"
    }
   ],
   "source": [
    "# NLTK Stop words\n",
    "from nltk.corpus import stopwords\n",
    "stop_words = stopwords.words('spanish')\n",
    "\" - \".join(stop_words)"
   ]
  },
  {
   "cell_type": "markdown",
   "metadata": {},
   "source": [
    "## Tokenizar"
   ]
  },
  {
   "cell_type": "code",
   "execution_count": 17,
   "metadata": {},
   "outputs": [
    {
     "data": {
      "application/vnd.jupyter.widget-view+json": {
       "model_id": "ce87ddd2049a441ca855fb3b952a74a8",
       "version_major": 2,
       "version_minor": 0
      },
      "text/plain": [
       "HBox(children=(FloatProgress(value=0.0, max=3399.0), HTML(value='')))"
      ]
     },
     "metadata": {},
     "output_type": "display_data"
    },
    {
     "name": "stdout",
     "output_type": "stream",
     "text": [
      "\n"
     ]
    },
    {
     "ename": "KeyboardInterrupt",
     "evalue": "",
     "output_type": "error",
     "traceback": [
      "\u001b[0;31m---------------------------------------------------------------------------\u001b[0m",
      "\u001b[0;31mKeyboardInterrupt\u001b[0m                         Traceback (most recent call last)",
      "\u001b[0;32m<ipython-input-17-70647bceb6cd>\u001b[0m in \u001b[0;36m<module>\u001b[0;34m\u001b[0m\n\u001b[1;32m      5\u001b[0m \u001b[0;34m\u001b[0m\u001b[0m\n\u001b[1;32m      6\u001b[0m \u001b[0;32mfor\u001b[0m \u001b[0mart\u001b[0m \u001b[0;32min\u001b[0m \u001b[0mtqdm\u001b[0m\u001b[0;34m(\u001b[0m\u001b[0mhateful_articles\u001b[0m\u001b[0;34m)\u001b[0m\u001b[0;34m:\u001b[0m\u001b[0;34m\u001b[0m\u001b[0;34m\u001b[0m\u001b[0m\n\u001b[0;32m----> 7\u001b[0;31m     \u001b[0mlemmatized_data\u001b[0m\u001b[0;34m.\u001b[0m\u001b[0mappend\u001b[0m\u001b[0;34m(\u001b[0m\u001b[0;34m[\u001b[0m\u001b[0mt\u001b[0m\u001b[0;34m.\u001b[0m\u001b[0mlemma_\u001b[0m\u001b[0;34m.\u001b[0m\u001b[0mlower\u001b[0m\u001b[0;34m(\u001b[0m\u001b[0;34m)\u001b[0m \u001b[0;32mfor\u001b[0m \u001b[0mt\u001b[0m \u001b[0;32min\u001b[0m \u001b[0mnlp\u001b[0m\u001b[0;34m(\u001b[0m\u001b[0mart\u001b[0m\u001b[0;34m[\u001b[0m\u001b[0;34m\"body\"\u001b[0m\u001b[0;34m]\u001b[0m\u001b[0;34m)\u001b[0m\u001b[0;34m]\u001b[0m\u001b[0;34m)\u001b[0m\u001b[0;34m\u001b[0m\u001b[0;34m\u001b[0m\u001b[0m\n\u001b[0m",
      "\u001b[0;32m~/.local/share/virtualenvs/hatespeech-labelling-i4Bxdr6F/lib/python3.6/site-packages/spacy/language.py\u001b[0m in \u001b[0;36m__call__\u001b[0;34m(self, text, disable, component_cfg)\u001b[0m\n\u001b[1;32m    447\u001b[0m             \u001b[0;32mif\u001b[0m \u001b[0;32mnot\u001b[0m \u001b[0mhasattr\u001b[0m\u001b[0;34m(\u001b[0m\u001b[0mproc\u001b[0m\u001b[0;34m,\u001b[0m \u001b[0;34m\"__call__\"\u001b[0m\u001b[0;34m)\u001b[0m\u001b[0;34m:\u001b[0m\u001b[0;34m\u001b[0m\u001b[0;34m\u001b[0m\u001b[0m\n\u001b[1;32m    448\u001b[0m                 \u001b[0;32mraise\u001b[0m \u001b[0mValueError\u001b[0m\u001b[0;34m(\u001b[0m\u001b[0mErrors\u001b[0m\u001b[0;34m.\u001b[0m\u001b[0mE003\u001b[0m\u001b[0;34m.\u001b[0m\u001b[0mformat\u001b[0m\u001b[0;34m(\u001b[0m\u001b[0mcomponent\u001b[0m\u001b[0;34m=\u001b[0m\u001b[0mtype\u001b[0m\u001b[0;34m(\u001b[0m\u001b[0mproc\u001b[0m\u001b[0;34m)\u001b[0m\u001b[0;34m,\u001b[0m \u001b[0mname\u001b[0m\u001b[0;34m=\u001b[0m\u001b[0mname\u001b[0m\u001b[0;34m)\u001b[0m\u001b[0;34m)\u001b[0m\u001b[0;34m\u001b[0m\u001b[0;34m\u001b[0m\u001b[0m\n\u001b[0;32m--> 449\u001b[0;31m             \u001b[0mdoc\u001b[0m \u001b[0;34m=\u001b[0m \u001b[0mproc\u001b[0m\u001b[0;34m(\u001b[0m\u001b[0mdoc\u001b[0m\u001b[0;34m,\u001b[0m \u001b[0;34m**\u001b[0m\u001b[0mcomponent_cfg\u001b[0m\u001b[0;34m.\u001b[0m\u001b[0mget\u001b[0m\u001b[0;34m(\u001b[0m\u001b[0mname\u001b[0m\u001b[0;34m,\u001b[0m \u001b[0;34m{\u001b[0m\u001b[0;34m}\u001b[0m\u001b[0;34m)\u001b[0m\u001b[0;34m)\u001b[0m\u001b[0;34m\u001b[0m\u001b[0;34m\u001b[0m\u001b[0m\n\u001b[0m\u001b[1;32m    450\u001b[0m             \u001b[0;32mif\u001b[0m \u001b[0mdoc\u001b[0m \u001b[0;32mis\u001b[0m \u001b[0;32mNone\u001b[0m\u001b[0;34m:\u001b[0m\u001b[0;34m\u001b[0m\u001b[0;34m\u001b[0m\u001b[0m\n\u001b[1;32m    451\u001b[0m                 \u001b[0;32mraise\u001b[0m \u001b[0mValueError\u001b[0m\u001b[0;34m(\u001b[0m\u001b[0mErrors\u001b[0m\u001b[0;34m.\u001b[0m\u001b[0mE005\u001b[0m\u001b[0;34m.\u001b[0m\u001b[0mformat\u001b[0m\u001b[0;34m(\u001b[0m\u001b[0mname\u001b[0m\u001b[0;34m=\u001b[0m\u001b[0mname\u001b[0m\u001b[0;34m)\u001b[0m\u001b[0;34m)\u001b[0m\u001b[0;34m\u001b[0m\u001b[0;34m\u001b[0m\u001b[0m\n",
      "\u001b[0;32mpipes.pyx\u001b[0m in \u001b[0;36mspacy.pipeline.pipes.Tagger.__call__\u001b[0;34m()\u001b[0m\n",
      "\u001b[0;32mpipes.pyx\u001b[0m in \u001b[0;36mspacy.pipeline.pipes.Tagger.predict\u001b[0;34m()\u001b[0m\n",
      "\u001b[0;32m~/.local/share/virtualenvs/hatespeech-labelling-i4Bxdr6F/lib/python3.6/site-packages/thinc/neural/_classes/model.py\u001b[0m in \u001b[0;36m__call__\u001b[0;34m(self, x)\u001b[0m\n\u001b[1;32m    165\u001b[0m             \u001b[0mMust\u001b[0m \u001b[0mmatch\u001b[0m \u001b[0mexpected\u001b[0m \u001b[0mshape\u001b[0m\u001b[0;34m\u001b[0m\u001b[0;34m\u001b[0m\u001b[0m\n\u001b[1;32m    166\u001b[0m         \"\"\"\n\u001b[0;32m--> 167\u001b[0;31m         \u001b[0;32mreturn\u001b[0m \u001b[0mself\u001b[0m\u001b[0;34m.\u001b[0m\u001b[0mpredict\u001b[0m\u001b[0;34m(\u001b[0m\u001b[0mx\u001b[0m\u001b[0;34m)\u001b[0m\u001b[0;34m\u001b[0m\u001b[0;34m\u001b[0m\u001b[0m\n\u001b[0m\u001b[1;32m    168\u001b[0m \u001b[0;34m\u001b[0m\u001b[0m\n\u001b[1;32m    169\u001b[0m     \u001b[0;32mdef\u001b[0m \u001b[0mpipe\u001b[0m\u001b[0;34m(\u001b[0m\u001b[0mself\u001b[0m\u001b[0;34m,\u001b[0m \u001b[0mstream\u001b[0m\u001b[0;34m,\u001b[0m \u001b[0mbatch_size\u001b[0m\u001b[0;34m=\u001b[0m\u001b[0;36m128\u001b[0m\u001b[0;34m)\u001b[0m\u001b[0;34m:\u001b[0m\u001b[0;34m\u001b[0m\u001b[0;34m\u001b[0m\u001b[0m\n",
      "\u001b[0;32m~/.local/share/virtualenvs/hatespeech-labelling-i4Bxdr6F/lib/python3.6/site-packages/thinc/neural/_classes/feed_forward.py\u001b[0m in \u001b[0;36mpredict\u001b[0;34m(self, X)\u001b[0m\n\u001b[1;32m     38\u001b[0m     \u001b[0;32mdef\u001b[0m \u001b[0mpredict\u001b[0m\u001b[0;34m(\u001b[0m\u001b[0mself\u001b[0m\u001b[0;34m,\u001b[0m \u001b[0mX\u001b[0m\u001b[0;34m)\u001b[0m\u001b[0;34m:\u001b[0m\u001b[0;34m\u001b[0m\u001b[0;34m\u001b[0m\u001b[0m\n\u001b[1;32m     39\u001b[0m         \u001b[0;32mfor\u001b[0m \u001b[0mlayer\u001b[0m \u001b[0;32min\u001b[0m \u001b[0mself\u001b[0m\u001b[0;34m.\u001b[0m\u001b[0m_layers\u001b[0m\u001b[0;34m:\u001b[0m\u001b[0;34m\u001b[0m\u001b[0;34m\u001b[0m\u001b[0m\n\u001b[0;32m---> 40\u001b[0;31m             \u001b[0mX\u001b[0m \u001b[0;34m=\u001b[0m \u001b[0mlayer\u001b[0m\u001b[0;34m(\u001b[0m\u001b[0mX\u001b[0m\u001b[0;34m)\u001b[0m\u001b[0;34m\u001b[0m\u001b[0;34m\u001b[0m\u001b[0m\n\u001b[0m\u001b[1;32m     41\u001b[0m         \u001b[0;32mreturn\u001b[0m \u001b[0mX\u001b[0m\u001b[0;34m\u001b[0m\u001b[0;34m\u001b[0m\u001b[0m\n\u001b[1;32m     42\u001b[0m \u001b[0;34m\u001b[0m\u001b[0m\n",
      "\u001b[0;32m~/.local/share/virtualenvs/hatespeech-labelling-i4Bxdr6F/lib/python3.6/site-packages/thinc/neural/_classes/model.py\u001b[0m in \u001b[0;36m__call__\u001b[0;34m(self, x)\u001b[0m\n\u001b[1;32m    165\u001b[0m             \u001b[0mMust\u001b[0m \u001b[0mmatch\u001b[0m \u001b[0mexpected\u001b[0m \u001b[0mshape\u001b[0m\u001b[0;34m\u001b[0m\u001b[0;34m\u001b[0m\u001b[0m\n\u001b[1;32m    166\u001b[0m         \"\"\"\n\u001b[0;32m--> 167\u001b[0;31m         \u001b[0;32mreturn\u001b[0m \u001b[0mself\u001b[0m\u001b[0;34m.\u001b[0m\u001b[0mpredict\u001b[0m\u001b[0;34m(\u001b[0m\u001b[0mx\u001b[0m\u001b[0;34m)\u001b[0m\u001b[0;34m\u001b[0m\u001b[0;34m\u001b[0m\u001b[0m\n\u001b[0m\u001b[1;32m    168\u001b[0m \u001b[0;34m\u001b[0m\u001b[0m\n\u001b[1;32m    169\u001b[0m     \u001b[0;32mdef\u001b[0m \u001b[0mpipe\u001b[0m\u001b[0;34m(\u001b[0m\u001b[0mself\u001b[0m\u001b[0;34m,\u001b[0m \u001b[0mstream\u001b[0m\u001b[0;34m,\u001b[0m \u001b[0mbatch_size\u001b[0m\u001b[0;34m=\u001b[0m\u001b[0;36m128\u001b[0m\u001b[0;34m)\u001b[0m\u001b[0;34m:\u001b[0m\u001b[0;34m\u001b[0m\u001b[0;34m\u001b[0m\u001b[0m\n",
      "\u001b[0;32m~/.local/share/virtualenvs/hatespeech-labelling-i4Bxdr6F/lib/python3.6/site-packages/thinc/api.py\u001b[0m in \u001b[0;36mpredict\u001b[0;34m(seqs_in)\u001b[0m\n\u001b[1;32m    308\u001b[0m     \u001b[0;32mdef\u001b[0m \u001b[0mpredict\u001b[0m\u001b[0;34m(\u001b[0m\u001b[0mseqs_in\u001b[0m\u001b[0;34m)\u001b[0m\u001b[0;34m:\u001b[0m\u001b[0;34m\u001b[0m\u001b[0;34m\u001b[0m\u001b[0m\n\u001b[1;32m    309\u001b[0m         \u001b[0mlengths\u001b[0m \u001b[0;34m=\u001b[0m \u001b[0mlayer\u001b[0m\u001b[0;34m.\u001b[0m\u001b[0mops\u001b[0m\u001b[0;34m.\u001b[0m\u001b[0masarray\u001b[0m\u001b[0;34m(\u001b[0m\u001b[0;34m[\u001b[0m\u001b[0mlen\u001b[0m\u001b[0;34m(\u001b[0m\u001b[0mseq\u001b[0m\u001b[0;34m)\u001b[0m \u001b[0;32mfor\u001b[0m \u001b[0mseq\u001b[0m \u001b[0;32min\u001b[0m \u001b[0mseqs_in\u001b[0m\u001b[0;34m]\u001b[0m\u001b[0;34m)\u001b[0m\u001b[0;34m\u001b[0m\u001b[0;34m\u001b[0m\u001b[0m\n\u001b[0;32m--> 310\u001b[0;31m         \u001b[0mX\u001b[0m \u001b[0;34m=\u001b[0m \u001b[0mlayer\u001b[0m\u001b[0;34m(\u001b[0m\u001b[0mlayer\u001b[0m\u001b[0;34m.\u001b[0m\u001b[0mops\u001b[0m\u001b[0;34m.\u001b[0m\u001b[0mflatten\u001b[0m\u001b[0;34m(\u001b[0m\u001b[0mseqs_in\u001b[0m\u001b[0;34m,\u001b[0m \u001b[0mpad\u001b[0m\u001b[0;34m=\u001b[0m\u001b[0mpad\u001b[0m\u001b[0;34m)\u001b[0m\u001b[0;34m)\u001b[0m\u001b[0;34m\u001b[0m\u001b[0;34m\u001b[0m\u001b[0m\n\u001b[0m\u001b[1;32m    311\u001b[0m         \u001b[0;32mreturn\u001b[0m \u001b[0mlayer\u001b[0m\u001b[0;34m.\u001b[0m\u001b[0mops\u001b[0m\u001b[0;34m.\u001b[0m\u001b[0munflatten\u001b[0m\u001b[0;34m(\u001b[0m\u001b[0mX\u001b[0m\u001b[0;34m,\u001b[0m \u001b[0mlengths\u001b[0m\u001b[0;34m,\u001b[0m \u001b[0mpad\u001b[0m\u001b[0;34m=\u001b[0m\u001b[0mpad\u001b[0m\u001b[0;34m)\u001b[0m\u001b[0;34m\u001b[0m\u001b[0;34m\u001b[0m\u001b[0m\n\u001b[1;32m    312\u001b[0m \u001b[0;34m\u001b[0m\u001b[0m\n",
      "\u001b[0;32m~/.local/share/virtualenvs/hatespeech-labelling-i4Bxdr6F/lib/python3.6/site-packages/thinc/neural/_classes/model.py\u001b[0m in \u001b[0;36m__call__\u001b[0;34m(self, x)\u001b[0m\n\u001b[1;32m    165\u001b[0m             \u001b[0mMust\u001b[0m \u001b[0mmatch\u001b[0m \u001b[0mexpected\u001b[0m \u001b[0mshape\u001b[0m\u001b[0;34m\u001b[0m\u001b[0;34m\u001b[0m\u001b[0m\n\u001b[1;32m    166\u001b[0m         \"\"\"\n\u001b[0;32m--> 167\u001b[0;31m         \u001b[0;32mreturn\u001b[0m \u001b[0mself\u001b[0m\u001b[0;34m.\u001b[0m\u001b[0mpredict\u001b[0m\u001b[0;34m(\u001b[0m\u001b[0mx\u001b[0m\u001b[0;34m)\u001b[0m\u001b[0;34m\u001b[0m\u001b[0;34m\u001b[0m\u001b[0m\n\u001b[0m\u001b[1;32m    168\u001b[0m \u001b[0;34m\u001b[0m\u001b[0m\n\u001b[1;32m    169\u001b[0m     \u001b[0;32mdef\u001b[0m \u001b[0mpipe\u001b[0m\u001b[0;34m(\u001b[0m\u001b[0mself\u001b[0m\u001b[0;34m,\u001b[0m \u001b[0mstream\u001b[0m\u001b[0;34m,\u001b[0m \u001b[0mbatch_size\u001b[0m\u001b[0;34m=\u001b[0m\u001b[0;36m128\u001b[0m\u001b[0;34m)\u001b[0m\u001b[0;34m:\u001b[0m\u001b[0;34m\u001b[0m\u001b[0;34m\u001b[0m\u001b[0m\n",
      "\u001b[0;32m~/.local/share/virtualenvs/hatespeech-labelling-i4Bxdr6F/lib/python3.6/site-packages/thinc/neural/_classes/feed_forward.py\u001b[0m in \u001b[0;36mpredict\u001b[0;34m(self, X)\u001b[0m\n\u001b[1;32m     38\u001b[0m     \u001b[0;32mdef\u001b[0m \u001b[0mpredict\u001b[0m\u001b[0;34m(\u001b[0m\u001b[0mself\u001b[0m\u001b[0;34m,\u001b[0m \u001b[0mX\u001b[0m\u001b[0;34m)\u001b[0m\u001b[0;34m:\u001b[0m\u001b[0;34m\u001b[0m\u001b[0;34m\u001b[0m\u001b[0m\n\u001b[1;32m     39\u001b[0m         \u001b[0;32mfor\u001b[0m \u001b[0mlayer\u001b[0m \u001b[0;32min\u001b[0m \u001b[0mself\u001b[0m\u001b[0;34m.\u001b[0m\u001b[0m_layers\u001b[0m\u001b[0;34m:\u001b[0m\u001b[0;34m\u001b[0m\u001b[0;34m\u001b[0m\u001b[0m\n\u001b[0;32m---> 40\u001b[0;31m             \u001b[0mX\u001b[0m \u001b[0;34m=\u001b[0m \u001b[0mlayer\u001b[0m\u001b[0;34m(\u001b[0m\u001b[0mX\u001b[0m\u001b[0;34m)\u001b[0m\u001b[0;34m\u001b[0m\u001b[0;34m\u001b[0m\u001b[0m\n\u001b[0m\u001b[1;32m     41\u001b[0m         \u001b[0;32mreturn\u001b[0m \u001b[0mX\u001b[0m\u001b[0;34m\u001b[0m\u001b[0;34m\u001b[0m\u001b[0m\n\u001b[1;32m     42\u001b[0m \u001b[0;34m\u001b[0m\u001b[0m\n",
      "\u001b[0;32m~/.local/share/virtualenvs/hatespeech-labelling-i4Bxdr6F/lib/python3.6/site-packages/thinc/neural/_classes/model.py\u001b[0m in \u001b[0;36m__call__\u001b[0;34m(self, x)\u001b[0m\n\u001b[1;32m    165\u001b[0m             \u001b[0mMust\u001b[0m \u001b[0mmatch\u001b[0m \u001b[0mexpected\u001b[0m \u001b[0mshape\u001b[0m\u001b[0;34m\u001b[0m\u001b[0;34m\u001b[0m\u001b[0m\n\u001b[1;32m    166\u001b[0m         \"\"\"\n\u001b[0;32m--> 167\u001b[0;31m         \u001b[0;32mreturn\u001b[0m \u001b[0mself\u001b[0m\u001b[0;34m.\u001b[0m\u001b[0mpredict\u001b[0m\u001b[0;34m(\u001b[0m\u001b[0mx\u001b[0m\u001b[0;34m)\u001b[0m\u001b[0;34m\u001b[0m\u001b[0;34m\u001b[0m\u001b[0m\n\u001b[0m\u001b[1;32m    168\u001b[0m \u001b[0;34m\u001b[0m\u001b[0m\n\u001b[1;32m    169\u001b[0m     \u001b[0;32mdef\u001b[0m \u001b[0mpipe\u001b[0m\u001b[0;34m(\u001b[0m\u001b[0mself\u001b[0m\u001b[0;34m,\u001b[0m \u001b[0mstream\u001b[0m\u001b[0;34m,\u001b[0m \u001b[0mbatch_size\u001b[0m\u001b[0;34m=\u001b[0m\u001b[0;36m128\u001b[0m\u001b[0;34m)\u001b[0m\u001b[0;34m:\u001b[0m\u001b[0;34m\u001b[0m\u001b[0;34m\u001b[0m\u001b[0m\n",
      "\u001b[0;32m~/.local/share/virtualenvs/hatespeech-labelling-i4Bxdr6F/lib/python3.6/site-packages/thinc/neural/_classes/resnet.py\u001b[0m in \u001b[0;36mpredict\u001b[0;34m(self, X)\u001b[0m\n\u001b[1;32m     24\u001b[0m             \u001b[0;32mreturn\u001b[0m \u001b[0;34m(\u001b[0m\u001b[0mX\u001b[0m\u001b[0;34m[\u001b[0m\u001b[0;36m0\u001b[0m\u001b[0;34m]\u001b[0m \u001b[0;34m+\u001b[0m \u001b[0mY\u001b[0m\u001b[0;34m[\u001b[0m\u001b[0;36m0\u001b[0m\u001b[0;34m]\u001b[0m\u001b[0;34m,\u001b[0m \u001b[0mY\u001b[0m\u001b[0;34m[\u001b[0m\u001b[0;36m1\u001b[0m\u001b[0;34m]\u001b[0m\u001b[0;34m)\u001b[0m\u001b[0;34m\u001b[0m\u001b[0;34m\u001b[0m\u001b[0m\n\u001b[1;32m     25\u001b[0m         \u001b[0;32melse\u001b[0m\u001b[0;34m:\u001b[0m\u001b[0;34m\u001b[0m\u001b[0;34m\u001b[0m\u001b[0m\n\u001b[0;32m---> 26\u001b[0;31m             \u001b[0;32mreturn\u001b[0m \u001b[0mX\u001b[0m \u001b[0;34m+\u001b[0m \u001b[0mY\u001b[0m\u001b[0;34m\u001b[0m\u001b[0;34m\u001b[0m\u001b[0m\n\u001b[0m\u001b[1;32m     27\u001b[0m \u001b[0;34m\u001b[0m\u001b[0m\n\u001b[1;32m     28\u001b[0m     \u001b[0;32mdef\u001b[0m \u001b[0mbegin_update\u001b[0m\u001b[0;34m(\u001b[0m\u001b[0mself\u001b[0m\u001b[0;34m,\u001b[0m \u001b[0mX\u001b[0m\u001b[0;34m,\u001b[0m \u001b[0mdrop\u001b[0m\u001b[0;34m=\u001b[0m\u001b[0;36m0.0\u001b[0m\u001b[0;34m)\u001b[0m\u001b[0;34m:\u001b[0m\u001b[0;34m\u001b[0m\u001b[0;34m\u001b[0m\u001b[0m\n",
      "\u001b[0;31mKeyboardInterrupt\u001b[0m: "
     ]
    }
   ],
   "source": [
    "import spacy\n",
    "from tqdm.auto import tqdm\n",
    "\n",
    "lemmatized_data = []\n",
    "\n",
    "for art in tqdm(hateful_articles):\n",
    "    lemmatized_data.append([t.lemma_.lower() for t in nlp(art[\"body\"])])\n"
   ]
  },
  {
   "cell_type": "code",
   "execution_count": null,
   "metadata": {},
   "outputs": [],
   "source": [
    "import string\n",
    "\n",
    "def is_punct_or_other(tok):\n",
    "    return (tok in string.punctuation) or (\"\\n\" in tok) or (len(tok) <= 3 and not tok.isalpha())\n",
    "\n",
    "\n",
    "def filter_words(text):\n",
    "    non_stop = [tok.strip() for tok in text if tok not in stop_words]\n",
    "    non_punct = [tok for tok in non_stop if not is_punct_or_other(tok)]\n",
    "    return non_punct\n",
    "\n",
    "filtered_data = []\n",
    "\n",
    "for text in tqdm(lemmatized_data):\n",
    "    filtered_data.append(filter_words(text))"
   ]
  },
  {
   "cell_type": "markdown",
   "metadata": {},
   "source": [
    "Sanity check"
   ]
  },
  {
   "cell_type": "code",
   "execution_count": null,
   "metadata": {},
   "outputs": [],
   "source": [
    "\n",
    "\n",
    "filter_words([t.string for t in nlp(\"Hola , esto. es una prueba e33 ?\")])"
   ]
  },
  {
   "cell_type": "code",
   "execution_count": null,
   "metadata": {},
   "outputs": [],
   "source": [
    "import gensim.corpora as corpora\n",
    "\n",
    "# Create Dictionary\n",
    "id2word = corpora.Dictionary(filtered_data)\n",
    "\n",
    "# Create Corpus\n",
    "texts = filtered_data\n",
    "\n",
    "# Term Document Frequency\n",
    "corpus = [id2word.doc2bow(text) for text in texts]\n",
    "\n",
    "# View\n",
    "print(corpus[:1])"
   ]
  },
  {
   "cell_type": "code",
   "execution_count": null,
   "metadata": {},
   "outputs": [],
   "source": [
    "import gensim\n",
    "import pickle\n",
    "\n",
    "num_topics = range(2, 40, 2)\n",
    "# Build LDA model\n",
    "\n",
    "try:\n",
    "    with open(\"topic_models.pkl\", \"rb\") as f:\n",
    "        lda_models, coherence_models = pickle.load(f)        \n",
    "except FileNotFoundError:\n",
    "    lda_models = {}\n",
    "    coherence_models = {}"
   ]
  },
  {
   "cell_type": "markdown",
   "metadata": {},
   "source": [
    "Se me borró el gráfico pero el que mejor daba es 14 "
   ]
  },
  {
   "cell_type": "code",
   "execution_count": null,
   "metadata": {},
   "outputs": [],
   "source": [
    "\n",
    "for num in tqdm(num_topics):\n",
    "    if num in lda_models:\n",
    "        continue\n",
    "    model = gensim.models.LdaModel(\n",
    "        corpus=corpus,\n",
    "        id2word=id2word,\n",
    "        num_topics=num, \n",
    "        random_state=100,\n",
    "        chunksize=100,\n",
    "        passes=10,\n",
    "        alpha='auto',\n",
    "        per_word_topics=True)\n",
    "    lda_models[num] = model\n",
    "    coherence_models[num] = gensim.models.CoherenceModel(model, texts=texts, corpus=corpus, dictionary=id2word, coherence='c_v')\n"
   ]
  },
  {
   "cell_type": "markdown",
   "metadata": {},
   "source": [
    "Salvamos esto"
   ]
  },
  {
   "cell_type": "code",
   "execution_count": null,
   "metadata": {},
   "outputs": [],
   "source": [
    "import pickle\n",
    "\n",
    "with open(\"topic_models.pkl\", \"wb\") as f:\n",
    "    pickle.dump((lda_models, coherence_models), f)"
   ]
  },
  {
   "cell_type": "code",
   "execution_count": null,
   "metadata": {},
   "outputs": [],
   "source": [
    "Y = [k.get_coherence() for k in coherence_models.values()]"
   ]
  },
  {
   "cell_type": "code",
   "execution_count": null,
   "metadata": {},
   "outputs": [],
   "source": [
    "import matplotlib.pyplot as plt\n",
    "\n",
    "\n",
    "plt.plot([k for k in coherence_models], Y, marker=\"o\")"
   ]
  },
  {
   "cell_type": "markdown",
   "metadata": {},
   "source": [
    "Agarro 12 que es el más chico donde más o menos deja de crecer"
   ]
  },
  {
   "cell_type": "code",
   "execution_count": null,
   "metadata": {},
   "outputs": [],
   "source": [
    "lda_model = lda_models[12]"
   ]
  },
  {
   "cell_type": "code",
   "execution_count": null,
   "metadata": {},
   "outputs": [],
   "source": [
    "from pprint import pprint\n",
    "\n",
    "pprint(lda_model.print_topics())"
   ]
  },
  {
   "cell_type": "code",
   "execution_count": null,
   "metadata": {},
   "outputs": [],
   "source": [
    "# Print the Keyword in the 10 topics\n",
    "\n",
    "doc_lda = lda_model[corpus]"
   ]
  },
  {
   "cell_type": "code",
   "execution_count": null,
   "metadata": {},
   "outputs": [],
   "source": [
    "# Visualize the topics\n",
    "import pyLDAvis\n",
    "import pyLDAvis.gensim\n",
    "\n",
    "pyLDAvis.enable_notebook()\n",
    "vis = pyLDAvis.gensim.prepare(lda_model, corpus, id2word, mds='mmds')\n",
    "vis"
   ]
  },
  {
   "cell_type": "markdown",
   "metadata": {},
   "source": [
    "1. Tema \"general\" (verbos, y otras cosas)\n",
    "2. Tema \"internacional\" (China, Trump, avión, extranjero, George Floyd, otros\n",
    "3. AMBA/CABA: Kicillof, Larreta, Berni: política CABA, AMBA y demás\n",
    "4. Mujeres y feminismo\n",
    "5. JxC vs FDT: Macri, Cristina, expropiación, Senado, etc\n",
    "6. Judiciales/Policiales\n",
    "7. Conflictos sindicales y económicos: Moyano, pago, grabois, ife, k, camioneros,e tc\n",
    "8. Notas económicas: dólar, pobreza, silobolsas, default, impuestos, guzmán\n",
    "9. Salud\n",
    "10. Conflictos \"campo\": Vicentín y silobolsas\n",
    "11. China y su comida?\n",
    "12. Ruido\n"
   ]
  },
  {
   "cell_type": "code",
   "execution_count": null,
   "metadata": {},
   "outputs": [],
   "source": [
    "temas = [\n",
    "    \"general\",\n",
    "    \"internacional\",\n",
    "    \"amba/caba\",\n",
    "    \"mujeres\",\n",
    "    \"cambiemos vs fdt\",\n",
    "    \"judiciales y policiales\",\n",
    "    \"sindicales\",\n",
    "    \"económicas\",\n",
    "    \"salud\",\n",
    "    \"Campo conflictos\",\n",
    "    \"China comida?\",\n",
    "    \"Ruido\",\n",
    "]\n",
    "\n",
    "len(temas)"
   ]
  },
  {
   "cell_type": "code",
   "execution_count": null,
   "metadata": {},
   "outputs": [],
   "source": [
    "len(corpus), len(hateful_articles)"
   ]
  },
  {
   "cell_type": "code",
   "execution_count": null,
   "metadata": {},
   "outputs": [],
   "source": [
    "num = 3\n",
    "\n",
    "def display_topics(num):\n",
    "    print(hateful_articles[num][\"title\"])\n",
    "    \n",
    "    topics = lda_model.get_document_topics(corpus[num])\n",
    "    \n",
    "    \n",
    "    print(\" + \".join(f\"{temas[idx]} * {porc:.2f}\" for idx, porc in topics))\n",
    "\n",
    "\n",
    "for num in range(len(hateful_articles)):\n",
    "    print(\"=\" * 80 + '\\n\\n')\n",
    "    \n",
    "    display_topics(num)"
   ]
  },
  {
   "cell_type": "code",
   "execution_count": null,
   "metadata": {},
   "outputs": [],
   "source": [
    "lda_model.get_document_topics()"
   ]
  }
 ],
 "metadata": {
  "kernelspec": {
   "display_name": "Python 3",
   "language": "python",
   "name": "python3"
  },
  "language_info": {
   "codemirror_mode": {
    "name": "ipython",
    "version": 3
   },
   "file_extension": ".py",
   "mimetype": "text/x-python",
   "name": "python",
   "nbconvert_exporter": "python",
   "pygments_lexer": "ipython3",
   "version": "3.6.9"
  }
 },
 "nbformat": 4,
 "nbformat_minor": 4
}
