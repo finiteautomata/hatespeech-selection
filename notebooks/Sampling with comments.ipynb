{
 "cells": [
  {
   "cell_type": "markdown",
   "metadata": {},
   "source": [
    "## Select articles: look for hateful comments"
   ]
  },
  {
   "cell_type": "code",
   "execution_count": 3,
   "metadata": {},
   "outputs": [
    {
     "name": "stdout",
     "output_type": "stream",
     "text": [
      "The autoreload extension is already loaded. To reload it, use:\n",
      "  %reload_ext autoreload\n"
     ]
    },
    {
     "data": {
      "text/plain": [
       "68896"
      ]
     },
     "execution_count": 3,
     "metadata": {},
     "output_type": "execute_result"
    }
   ],
   "source": [
    "%load_ext autoreload\n",
    "%autoreload 2\n",
    "import sys\n",
    "sys.path.append(\"..\")\n",
    "from mongoengine import connect\n",
    "from hatespeech_models import Tweet, Article\n",
    "\n",
    "client = connect(\"hatespeech-selection\")\n",
    "db = client[\"hatespeech-selection\"]\n",
    "\n",
    "Article.objects.count()"
   ]
  },
  {
   "cell_type": "markdown",
   "metadata": {},
   "source": [
    "Acá tomamos a partir del 1ro de marzo..."
   ]
  },
  {
   "cell_type": "code",
   "execution_count": 4,
   "metadata": {},
   "outputs": [
    {
     "data": {
      "text/plain": [
       "10314"
      ]
     },
     "execution_count": 4,
     "metadata": {},
     "output_type": "execute_result"
    }
   ],
   "source": [
    "import datetime\n",
    "\n",
    "start_date = datetime.datetime(2020, 3, 1)\n",
    "\n",
    "base_query = {\n",
    "    \"dummy__ne\": True,\n",
    "    \"comments__19__exists\": True,\n",
    "    \"created_at__gte\": start_date,\n",
    "}\n",
    "\n",
    "Article.objects(**base_query).count()"
   ]
  },
  {
   "cell_type": "code",
   "execution_count": 21,
   "metadata": {},
   "outputs": [
    {
     "name": "stdout",
     "output_type": "stream",
     "text": [
      "bija                           ---> 47   nuevos/ 47    total comentarios --> 47    artículos al momento\n",
      "\"prostituta\"                   ---> 146  nuevos/ 148   total comentarios --> 193   artículos al momento\n",
      "feministas                     ---> 270  nuevos/ 301   total comentarios --> 463   artículos al momento\n",
      "feminazis                      ---> 46   nuevos/ 86    total comentarios --> 509   artículos al momento\n",
      "aborteras                      ---> 110  nuevos/ 159   total comentarios --> 619   artículos al momento\n",
      "\"botox\"                        ---> 56   nuevos/ 69    total comentarios --> 675   artículos al momento\n",
      "\"urraca\"                       ---> 52   nuevos/ 65    total comentarios --> 727   artículos al momento\n",
      "tucán                          ---> 66   nuevos/ 96    total comentarios --> 793   artículos al momento\n",
      "marica                         ---> 55   nuevos/ 69    total comentarios --> 848   artículos al momento\n",
      "\"viejo puto\"                   ---> 53   nuevos/ 67    total comentarios --> 901   artículos al momento\n",
      "\"trabuco\"                      ---> 4    nuevos/ 8     total comentarios --> 905   artículos al momento\n",
      "travesti                       ---> 33   nuevos/ 44    total comentarios --> 938   artículos al momento\n",
      "\"trava\"                        ---> 21   nuevos/ 46    total comentarios --> 959   artículos al momento\n",
      "\"degenerado\"                   ---> 148  nuevos/ 211   total comentarios --> 1107  artículos al momento\n",
      "trolo -\"no seas\" -\"no sean\"    ---> 260  nuevos/ 419   total comentarios --> 1367  artículos al momento\n",
      "\"sodomita\"                     ---> 4    nuevos/ 13    total comentarios --> 1371  artículos al momento\n",
      "chinos                         ---> 1528 nuevos/ 1926  total comentarios --> 2899  artículos al momento\n",
      "\"sucios\"                       ---> 151  nuevos/ 352   total comentarios --> 3050  artículos al momento\n",
      "bolita                         ---> 59   nuevos/ 113   total comentarios --> 3109  artículos al momento\n",
      "\"paraguayo\"                    ---> 84   nuevos/ 170   total comentarios --> 3193  artículos al momento\n",
      "\"peruano\"                      ---> 33   nuevos/ 100   total comentarios --> 3226  artículos al momento\n",
      "\"peruca\"                       ---> 16   nuevos/ 45    total comentarios --> 3242  artículos al momento\n",
      "judío                          ---> 77   nuevos/ 178   total comentarios --> 3319  artículos al momento\n",
      "\"jude\"                         ---> 5    nuevos/ 12    total comentarios --> 3324  artículos al momento\n",
      "sionista                       ---> 31   nuevos/ 91    total comentarios --> 3355  artículos al momento\n",
      "\"matarlos\"                     ---> 57   nuevos/ 132   total comentarios --> 3412  artículos al momento\n",
      "\"una bomba\"                    ---> 83   nuevos/ 230   total comentarios --> 3495  artículos al momento\n",
      "\"vayan a laburar\"              ---> 45   nuevos/ 122   total comentarios --> 3540  artículos al momento\n",
      "\"vayan a trabajar\"             ---> 39   nuevos/ 91    total comentarios --> 3579  artículos al momento\n",
      "\"planero\"                      ---> 373  nuevos/ 886   total comentarios --> 3952  artículos al momento\n",
      "\"villeros\"                     ---> 36   nuevos/ 147   total comentarios --> 3988  artículos al momento\n",
      "negro -\"en negro\" -\"Rio\" -\"pes ---> 558  nuevos/ 1532  total comentarios --> 4546  artículos al momento\n",
      "\"bala\"                         ---> 176  nuevos/ 574   total comentarios --> 4722  artículos al momento\n",
      "\"uno menos\"                    ---> 65   nuevos/ 174   total comentarios --> 4787  artículos al momento\n",
      "\"gorda\"                        ---> 118  nuevos/ 395   total comentarios --> 4905  artículos al momento\n"
     ]
    }
   ],
   "source": [
    "import random\n",
    "from mongoengine import DoesNotExist\n",
    "from hatespeech_models import Reply\n",
    "from collections import defaultdict\n",
    "\n",
    "comment_seeds = [\n",
    "    # Mujer\n",
    "    \"bija\",\n",
    "    \"\\\"prostituta\\\"\",\n",
    "    #\"\\\"trola\\\"\",\n",
    "    \n",
    "    \"feministas\",\n",
    "    \"feminazis\",\n",
    "    \"aborteras\",\n",
    "    #\"\\\"boluda\\\" -\\\"gente\\\"\",\n",
    "    \"\\\"botox\\\"\",\n",
    "    #\"\\\"puta\\\"\",\n",
    "    #\"\\\"gato\\\"\",\n",
    "    \"\\\"urraca\\\"\",\n",
    "    \"tucán\",\n",
    "    # LGBTI\n",
    "    \"marica\",\n",
    "    \"\\\"viejo puto\\\"\",    \n",
    "    \"\\\"trabuco\\\"\",\n",
    "    \"travesti\",\n",
    "    \"\\\"trava\\\"\",\n",
    "    \"\\\"degenerado\\\"\",\n",
    "    #\"\\\"puto\\\"\",\n",
    "    \"trolo -\\\"no seas\\\" -\\\"no sean\\\"\",\n",
    "    \"\\\"sodomita\\\"\",\n",
    "    \n",
    "    # Xenofobia, Racismo, Religión\n",
    "    \"chinos\",\n",
    "    \"\\\"sucios\\\"\",\n",
    "    \"bolita\",\n",
    "    # Lo pongo así porque \"Paraguay\" lo usan contra macri\n",
    "    \"\\\"paraguayo\\\"\",\n",
    "    \"\\\"peruano\\\"\",\n",
    "    \"\\\"peruca\\\"\",\n",
    "    \"judío\",\n",
    "    \n",
    "    \"\\\"jude\\\"\",\n",
    "    \"sionista\",\n",
    "    \"\\\"matarlos\\\"\",\n",
    "    \"\\\"una bomba\\\"\",\n",
    "    \n",
    "    # Pobreza\n",
    "    \n",
    "    #\"\\\"vagos\\\"\",\n",
    "    \"\\\"vayan a laburar\\\"\",\n",
    "    \"\\\"vayan a trabajar\\\"\",\n",
    "    #\"\\\"negros de mierda\\\"\",\n",
    "    #\"\\\"negro de mierda\\\"\",\n",
    "    #\"\\\"negra de mierda\\\"\",\n",
    "    \"\\\"planero\\\"\",\n",
    "    \"\\\"villeros\\\"\",\n",
    "    #\"\\\"negro\\\" \\\"hdp\\\"\",\n",
    "    \"negro -\\\"en negro\\\" -\\\"Rio\\\" -\\\"peste\\\" -\\\"humor negro\\\"\",\n",
    "    #parásitos\n",
    "    # Política\n",
    "    #\"\\\"terrorista\\\"\",\n",
    "    \n",
    "    # Violentos\n",
    "    \"\\\"bala\\\"\",\n",
    "\n",
    "    \"\\\"uno menos\\\"\",\n",
    "    # Aspecto\n",
    "    \"\\\"gorda\\\"\",\n",
    "]\n",
    "\n",
    "new_article_ids = set()\n",
    "\n",
    "votes = defaultdict(list)\n",
    "reason = {}\n",
    "seed_articles = {}\n",
    "\n",
    "for word in comment_seeds:\n",
    "    nuevos = 0\n",
    "    limit = None\n",
    "    if type(word) is tuple:\n",
    "        word, limit = word\n",
    "    \"\"\"\n",
    "    for _ in range(3):\n",
    "        print(\"=\"*80)\n",
    "        \n",
    "    print(f\"\\n\\n{word}\\n\\n\")\n",
    "    \"\"\"\n",
    "    replies = Reply.objects.no_dereference().search_text(word)\n",
    "    article_ids = [rep.article.id for rep in replies]\n",
    "    articles = Article.objects(id__in=article_ids, **base_query)\n",
    "    total_count = articles.count()\n",
    "    \n",
    "    for rep in replies:\n",
    "        votes[rep.article.id].append(word)\n",
    "    \n",
    "    for article in articles:\n",
    "        try:\n",
    "            if article.id not in seed_articles:\n",
    "                nuevos += 1\n",
    "                seed_articles[article.id] = article\n",
    "                reason[article.id] = f\"Comment -- {word} ({word})\"\n",
    "                if limit and nuevos >= limit:\n",
    "                    break\n",
    "            else:\n",
    "                pass\n",
    "                #print(f\"\\nSkipping {article} -- Reason: {reason[article.id]}\")\n",
    "        except DoesNotExist as e:\n",
    "            pass\n",
    "            #print(f\"\\nSkipping {Article.objects.get(id=rep.article.id)} -- {e}\")\n",
    "\n",
    "    print(f\"{word[:30]:<30} ---> {nuevos:<4} nuevos/ {total_count:<5} total comentarios --> {len(seed_articles):<5} artículos al momento\", end=\"\")\n",
    "    \n",
    "    if limit:\n",
    "        print(f\" (limitados a {limit})\")\n",
    "    else:\n",
    "        print(\"\")\n"
   ]
  },
  {
   "cell_type": "markdown",
   "metadata": {},
   "source": [
    "Los jevis:\n",
    "\n",
    "- \"negro\": 1532 comentarios\n",
    "- \"planero\": 886\n",
    "- \"chinos\": 1926\n",
    "\n"
   ]
  },
  {
   "cell_type": "code",
   "execution_count": 22,
   "metadata": {},
   "outputs": [
    {
     "data": {
      "text/plain": [
       "4905"
      ]
     },
     "execution_count": 22,
     "metadata": {},
     "output_type": "execute_result"
    }
   ],
   "source": [
    "len(seed_articles)"
   ]
  },
  {
   "cell_type": "code",
   "execution_count": 23,
   "metadata": {},
   "outputs": [
    {
     "name": "stdout",
     "output_type": "stream",
     "text": [
      "Cantidad artículos con más de 2 votos : 3692\n",
      "Cantidad artículos con más de 3 votos : 2140\n",
      "Cantidad artículos con más de 4 votos : 1513\n",
      "Cantidad artículos con más de 5 votos : 1139\n",
      "Cantidad artículos con más de 6 votos : 878\n",
      "Cantidad artículos con más de 7 votos : 706\n",
      "Cantidad artículos con más de 8 votos : 597\n",
      "Cantidad artículos con más de 9 votos : 496\n"
     ]
    },
    {
     "data": {
      "image/png": "[encoded data removed]",
      "text/plain": [
       "<Figure size 432x288 with 1 Axes>"
      ]
     },
     "metadata": {
      "needs_background": "light"
     },
     "output_type": "display_data"
    }
   ],
   "source": [
    "import matplotlib.pyplot as plt\n",
    "\n",
    "for k in range(2, 10):\n",
    "    count = 0\n",
    "    for _, v in votes.items():\n",
    "        if len(v) >= k:\n",
    "            count += 1\n",
    "    print(f\"Cantidad artículos con más de {k} votos : {count}\")\n",
    "\n",
    "plt.hist([len(v) for v in votes.values()], bins=50, range=[0, 50]);\n"
   ]
  },
  {
   "cell_type": "markdown",
   "metadata": {},
   "source": [
    "Me quedo sólo con los artículos que tengan al menos 2 votos"
   ]
  },
  {
   "cell_type": "code",
   "execution_count": 24,
   "metadata": {},
   "outputs": [
    {
     "data": {
      "text/plain": [
       "2831"
      ]
     },
     "execution_count": 24,
     "metadata": {},
     "output_type": "execute_result"
    }
   ],
   "source": [
    "selected_articles = {k: v for k, v in votes.items() if len(v) >= 2}\n",
    "selected_articles = Article.objects(id__in=selected_articles.keys(), **base_query)\n",
    "\n",
    "selected_articles.count()"
   ]
  },
  {
   "cell_type": "markdown",
   "metadata": {},
   "source": [
    "Les pongo la descripción de su elección"
   ]
  },
  {
   "cell_type": "code",
   "execution_count": 25,
   "metadata": {},
   "outputs": [
    {
     "data": {
      "text/plain": [
       "68896"
      ]
     },
     "execution_count": 25,
     "metadata": {},
     "output_type": "execute_result"
    }
   ],
   "source": [
    "Article.objects.update(set__description=\"\")"
   ]
  },
  {
   "cell_type": "code",
   "execution_count": 26,
   "metadata": {},
   "outputs": [
    {
     "data": {
      "application/vnd.jupyter.widget-view+json": {
       "model_id": "86826817fe8b4ab3ba01871f12bdf069",
       "version_major": 2,
       "version_minor": 0
      },
      "text/plain": [
       "HBox(children=(FloatProgress(value=0.0, max=2831.0), HTML(value='')))"
      ]
     },
     "metadata": {},
     "output_type": "display_data"
    },
    {
     "name": "stdout",
     "output_type": "stream",
     "text": [
      "\n"
     ]
    }
   ],
   "source": [
    "from tqdm.auto import tqdm\n",
    "from collections import Counter\n",
    "\n",
    "for article in tqdm(selected_articles):\n",
    "    this_art_votes = votes[article.id]\n",
    "    \n",
    "    article.description = str(dict(Counter(this_art_votes)))\n",
    "    article.save()"
   ]
  },
  {
   "cell_type": "code",
   "execution_count": 27,
   "metadata": {},
   "outputs": [
    {
     "name": "stdout",
     "output_type": "stream",
     "text": [
      "2 votes -- 2573 articles\n",
      "3 votes -- 1695 articles\n",
      "4 votes -- 1289 articles\n",
      "5 votes -- 1034 articles\n"
     ]
    }
   ],
   "source": [
    "from groups.models import Group\n",
    "\n",
    "def accept_article(art):\n",
    "    politicians = [\"Ginés\", \"Mauricio Macri\", \"Alberto Fernández\", \"Magario\"]\n",
    "    \n",
    "    if any(p.lower() in art.title.lower() for p in politicians):\n",
    "        return len(votes[art.id]) >= 5\n",
    "    return True\n",
    "    \n",
    "    \n",
    "for k in [2, 3, 4, 5]:\n",
    "    try:\n",
    "        group = Group.objects.get(name=f\"Seed comments - {k} votes\")\n",
    "    except DoesNotExist:\n",
    "        group = Group(name=f\"Seed comments - {k} votes\")\n",
    "    selected_articles = {article_id: v for article_id, v in votes.items() if len(v) >= k}\n",
    "    selected_articles = Article.objects(id__in=selected_articles.keys(), **base_query)\n",
    "    selected_articles = [a for a in selected_articles if accept_article(a)]\n",
    "    print(f\"{k} votes -- {len(selected_articles)} articles\")\n",
    "    group.articles = selected_articles\n",
    "    \n",
    "    group.save()\n",
    "    \n"
   ]
  },
  {
   "cell_type": "code",
   "execution_count": 28,
   "metadata": {},
   "outputs": [],
   "source": [
    "group = Group.objects.no_dereference().get(name=\"Seed comments - 4 votes\")"
   ]
  },
  {
   "cell_type": "code",
   "execution_count": 29,
   "metadata": {},
   "outputs": [
    {
     "name": "stdout",
     "output_type": "stream",
     "text": [
      "Marcados como seleccionados 1289 artículos\n"
     ]
    }
   ],
   "source": [
    "article_ids = [a.id for a in group.articles]\n",
    "Article.objects.update(set__selected=False)\n",
    "updated = Article.objects(id__in=article_ids).update(set__selected=True)\n",
    "print(f\"Marcados como seleccionados {updated} artículos\")"
   ]
  },
  {
   "cell_type": "markdown",
   "metadata": {},
   "source": [
    "## Comparaciones de \"negro\""
   ]
  },
  {
   "cell_type": "code",
   "execution_count": 61,
   "metadata": {},
   "outputs": [
    {
     "data": {
      "text/plain": [
       "5374"
      ]
     },
     "execution_count": 61,
     "metadata": {},
     "output_type": "execute_result"
    }
   ],
   "source": [
    "Reply.objects.search_text(\"negro\").count()"
   ]
  },
  {
   "cell_type": "code",
   "execution_count": 68,
   "metadata": {},
   "outputs": [
    {
     "data": {
      "text/plain": [
       "4773"
      ]
     },
     "execution_count": 68,
     "metadata": {},
     "output_type": "execute_result"
    }
   ],
   "source": [
    "Reply.objects.search_text(\"negro -\\\"en negro\\\"\").count()"
   ]
  },
  {
   "cell_type": "code",
   "execution_count": 69,
   "metadata": {},
   "outputs": [
    {
     "data": {
      "text/plain": [
       "4350"
      ]
     },
     "execution_count": 69,
     "metadata": {},
     "output_type": "execute_result"
    }
   ],
   "source": [
    "Reply.objects.search_text(\"negro -\\\"en negro\\\" -\\\"Rio\\\"\").count()"
   ]
  },
  {
   "cell_type": "code",
   "execution_count": 70,
   "metadata": {},
   "outputs": [
    {
     "data": {
      "text/plain": [
       "4270"
      ]
     },
     "execution_count": 70,
     "metadata": {},
     "output_type": "execute_result"
    }
   ],
   "source": [
    "Reply.objects.search_text(\"negro -\\\"en negro\\\" -\\\"Rio\\\" -\\\"peste\\\"\").count()"
   ]
  },
  {
   "cell_type": "markdown",
   "metadata": {},
   "source": [
    "Mucho mejor!"
   ]
  },
  {
   "cell_type": "code",
   "execution_count": 80,
   "metadata": {},
   "outputs": [],
   "source": [
    "from collections import defaultdict\n",
    "\n",
    "def show_articles_with(query):\n",
    "    articles = defaultdict(list)\n",
    "\n",
    "    for r in Reply.objects.search_text(query):\n",
    "        articles[r.article].append(r)\n",
    "        \n",
    "    print(f\"Hay {len(articles)}\")\n",
    "    for art, comments in articles.items():\n",
    "        print(\"=\"*80)\n",
    "        print(art.title, \"\\n\\n\")\n",
    "        for comm in comments:\n",
    "            print(comm.text)"
   ]
  },
  {
   "cell_type": "code",
   "execution_count": null,
   "metadata": {},
   "outputs": [],
   "source": [
    "show_articles_with(\"negro -\\\"en negro\\\" -\\\"Rio\\\" -\\\"peste\\\"\")"
   ]
  },
  {
   "cell_type": "code",
   "execution_count": 72,
   "metadata": {},
   "outputs": [
    {
     "data": {
      "text/plain": [
       "2168"
      ]
     },
     "execution_count": 72,
     "metadata": {},
     "output_type": "execute_result"
    }
   ],
   "source": [
    "len(articles)"
   ]
  },
  {
   "cell_type": "markdown",
   "metadata": {},
   "source": [
    "Acá es mejor sacando Río!"
   ]
  },
  {
   "cell_type": "code",
   "execution_count": null,
   "metadata": {},
   "outputs": [],
   "source": [
    "%%capture\n",
    "from pprint import pprint as pp\n",
    "\n",
    "for j, art in enumerate(selected_articles):\n",
    "    print(f\"{j:<5} -- {art.title}\")\n",
    "    print(\"\\n\")\n",
    "    pp(art.first_paragraphs)\n",
    "    print(f\"Razón: {reason[art.id]}\")\n",
    "    \n",
    "    comments = random.sample(art.comments, 10)\n",
    "    \n",
    "    for repl in comments:\n",
    "        print(repl.text)\n",
    "    print(\"\\n\\n\")"
   ]
  },
  {
   "cell_type": "code",
   "execution_count": null,
   "metadata": {},
   "outputs": [],
   "source": []
  }
 ],
 "metadata": {
  "kernelspec": {
   "display_name": "Python 3",
   "language": "python",
   "name": "python3"
  },
  "language_info": {
   "codemirror_mode": {
    "name": "ipython",
    "version": 3
   },
   "file_extension": ".py",
   "mimetype": "text/x-python",
   "name": "python",
   "nbconvert_exporter": "python",
   "pygments_lexer": "ipython3",
   "version": "3.6.10"
  }
 },
 "nbformat": 4,
 "nbformat_minor": 4
}
