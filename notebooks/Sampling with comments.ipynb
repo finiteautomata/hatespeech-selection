{
 "cells": [
  {
   "cell_type": "markdown",
   "metadata": {},
   "source": [
    "## Select articles: look for hateful comments"
   ]
  },
  {
   "cell_type": "code",
   "execution_count": 1,
   "metadata": {},
   "outputs": [
    {
     "data": {
      "text/plain": [
       "68896"
      ]
     },
     "execution_count": 1,
     "metadata": {},
     "output_type": "execute_result"
    }
   ],
   "source": [
    "%load_ext autoreload\n",
    "%autoreload 2\n",
    "import sys\n",
    "sys.path.append(\"..\")\n",
    "from mongoengine import connect\n",
    "from hatespeech_models import Tweet, Article\n",
    "\n",
    "client = connect(\"hatespeech-selection\")\n",
    "db = client[\"hatespeech-selection\"]\n",
    "\n",
    "Article.objects.count()"
   ]
  },
  {
   "cell_type": "markdown",
   "metadata": {},
   "source": [
    "Acá tomamos a partir del 1ro de marzo..."
   ]
  },
  {
   "cell_type": "code",
   "execution_count": 23,
   "metadata": {},
   "outputs": [
    {
     "data": {
      "text/plain": [
       "10314"
      ]
     },
     "execution_count": 23,
     "metadata": {},
     "output_type": "execute_result"
    }
   ],
   "source": [
    "import datetime\n",
    "\n",
    "start_date = datetime.datetime(2020, 3, 1)\n",
    "\n",
    "base_query = {\n",
    "    \"dummy__ne\": True,\n",
    "    \"comments__19__exists\": True,\n",
    "    \"created_at__gte\": start_date,\n",
    "}\n",
    "\n",
    "Article.objects(**base_query).count()"
   ]
  },
  {
   "cell_type": "code",
   "execution_count": 145,
   "metadata": {},
   "outputs": [
    {
     "name": "stdout",
     "output_type": "stream",
     "text": [
      "bija                           ---> 47   , 47   nuevos/ 47    total\n",
      "\"prostituta\"                   ---> 193  , 146  nuevos/ 148   total\n",
      "\"trola\"                        ---> 336  , 143  nuevos/ 172   total\n",
      "feministas                     ---> 581  , 245  nuevos/ 301   total\n",
      "feminazis                      ---> 625  , 44   nuevos/ 86    total\n",
      "aborteras                      ---> 728  , 103  nuevos/ 159   total\n",
      "\"boluda\"                       ---> 1295 , 567  nuevos/ 783   total\n",
      "\"urraca\"                       ---> 1333 , 38   nuevos/ 65    total\n",
      "tucán                          ---> 1392 , 59   nuevos/ 96    total\n",
      "marica                         ---> 1440 , 48   nuevos/ 69    total\n",
      "\"viejo puto\"                   ---> 1488 , 48   nuevos/ 67    total\n",
      "\"trabuco\"                      ---> 1490 , 2    nuevos/ 8     total\n",
      "travesti                       ---> 1518 , 28   nuevos/ 44    total\n",
      "\"degenerado\"                   ---> 1646 , 128  nuevos/ 211   total\n",
      "\"sodomita\"                     ---> 1651 , 5    nuevos/ 13    total\n",
      "chinos                         ---> 3106 , 1455 nuevos/ 1926  total\n",
      "\"sucios\"                       ---> 3251 , 145  nuevos/ 352   total\n",
      "bolita                         ---> 3308 , 57   nuevos/ 113   total\n",
      "paraguayo                      ---> 3544 , 236  nuevos/ 519   total\n",
      "judío                          ---> 3615 , 71   nuevos/ 178   total\n",
      "\"jude\"                         ---> 3620 , 5    nuevos/ 12    total\n",
      "sionista                       ---> 3647 , 27   nuevos/ 91    total\n",
      "\"matarlos\"                     ---> 3701 , 54   nuevos/ 132   total\n",
      "\"una bomba\"                    ---> 3783 , 82   nuevos/ 230   total\n",
      "\"vagos\"                        ---> 4332 , 549  nuevos/ 1204  total\n",
      "\"negros de mierda\"             ---> 4351 , 19   nuevos/ 79    total\n",
      "\"negro de mierda\"              ---> 4374 , 23   nuevos/ 80    total\n",
      "\"negra de mierda\"              ---> 4382 , 8    nuevos/ 27    total\n",
      "\"villeros\"                     ---> 4411 , 29   nuevos/ 147   total\n",
      "\"negro\" \"hdp\"                  ---> 4420 , 9    nuevos/ 49    total\n",
      "\"bala\"                         ---> 4614 , 194  nuevos/ 574   total\n",
      "\"uno menos\"                    ---> 4689 , 75   nuevos/ 174   total\n",
      "\"gorda\"                        ---> 4814 , 125  nuevos/ 395   total\n"
     ]
    }
   ],
   "source": [
    "import random\n",
    "from mongoengine import DoesNotExist\n",
    "from hatespeech_models import Reply\n",
    "from collections import defaultdict\n",
    "\n",
    "comment_seeds = [\n",
    "    # Mujer\n",
    "    \"bija\",\n",
    "    \"\\\"prostituta\\\"\",\n",
    "    \"\\\"trola\\\"\",\n",
    "    \n",
    "    \"feministas\",\n",
    "    \"feminazis\",\n",
    "    \"aborteras\",\n",
    "    \"\\\"boluda\\\"\",\n",
    "    #\"\\\"puta\\\"\",\n",
    "    #\"\\\"gato\\\"\",\n",
    "    \"\\\"urraca\\\"\",\n",
    "    \"tucán\",\n",
    "    # LGBTI\n",
    "    \"marica\",\n",
    "    \"\\\"viejo puto\\\"\",    \n",
    "    \"\\\"trabuco\\\"\",\n",
    "    \"travesti\",\n",
    "    \"\\\"degenerado\\\"\",\n",
    "    #\"\\\"puto\\\"\",\n",
    "    #\"\\\"trolo\\\"\",\n",
    "    \"\\\"sodomita\\\"\",\n",
    "    \n",
    "    # Xenofobia, Racismo, Religión\n",
    "    \"chinos\",\n",
    "    \"\\\"sucios\\\"\",\n",
    "    \"bolita\",\n",
    "    \"paraguayo\",\n",
    "    \"judío\",\n",
    "    \n",
    "    \"\\\"jude\\\"\",\n",
    "    \"sionista\",\n",
    "    \"\\\"matarlos\\\"\",\n",
    "    \"\\\"una bomba\\\"\",\n",
    "    \n",
    "    # Pobreza\n",
    "    #\"\\\"negro\\\"\",\n",
    "    \"\\\"vagos\\\"\",\n",
    "    \"\\\"negros de mierda\\\"\",\n",
    "    \"\\\"negro de mierda\\\"\",\n",
    "    \"\\\"negra de mierda\\\"\",\n",
    "    \"\\\"villeros\\\"\",\n",
    "    \"\\\"negro\\\" \\\"hdp\\\"\",\n",
    "    # Política\n",
    "    #\"\\\"terrorista\\\"\",\n",
    "    \n",
    "    # Violentos\n",
    "    \"\\\"bala\\\"\",\n",
    "\n",
    "    \"\\\"uno menos\\\"\",\n",
    "    # Aspecto\n",
    "    \"\\\"gorda\\\"\",\n",
    "]\n",
    "\n",
    "new_article_ids = set()\n",
    "\n",
    "votes = defaultdict(list)\n",
    "reason = {}\n",
    "seed_articles = {}\n",
    "\n",
    "for word in comment_seeds:\n",
    "    nuevos = 0\n",
    "    limit = None\n",
    "    if type(word) is tuple:\n",
    "        word, limit = word\n",
    "    \"\"\"\n",
    "    for _ in range(3):\n",
    "        print(\"=\"*80)\n",
    "        \n",
    "    print(f\"\\n\\n{word}\\n\\n\")\n",
    "    \"\"\"\n",
    "    replies = Reply.objects.no_dereference().search_text(word)\n",
    "    article_ids = [rep.article.id for rep in replies]\n",
    "    articles = Article.objects(id__in=article_ids, **base_query)\n",
    "    total_count = articles.count()\n",
    "    \n",
    "    for rep in replies:\n",
    "        votes[rep.article.id].append(word)\n",
    "    \n",
    "    for article in articles:\n",
    "        try:\n",
    "            if article.id not in seed_articles:\n",
    "                nuevos += 1\n",
    "                seed_articles[article.id] = article\n",
    "                reason[article.id] = f\"Comment -- {word} ({word})\"\n",
    "                if limit and nuevos >= limit:\n",
    "                    break\n",
    "            else:\n",
    "                pass\n",
    "                #print(f\"\\nSkipping {article} -- Reason: {reason[article.id]}\")\n",
    "        except DoesNotExist as e:\n",
    "            pass\n",
    "            #print(f\"\\nSkipping {Article.objects.get(id=rep.article.id)} -- {e}\")\n",
    "\n",
    "    print(f\"{word:<30} ---> {len(seed_articles):<5}, {nuevos:<4} nuevos/ {total_count:<5} total\", end=\"\")\n",
    "    \n",
    "    if limit:\n",
    "        print(f\" (limitados a {limit})\")\n",
    "    else:\n",
    "        print(\"\")\n"
   ]
  },
  {
   "cell_type": "markdown",
   "metadata": {},
   "source": [
    "Los jevis:\n",
    "- \"negro mierda\"\n",
    "- \"chinos\"\n",
    "- \"paraguayo\"\n"
   ]
  },
  {
   "cell_type": "code",
   "execution_count": 159,
   "metadata": {},
   "outputs": [
    {
     "data": {
      "text/plain": [
       "4814"
      ]
     },
     "execution_count": 159,
     "metadata": {},
     "output_type": "execute_result"
    }
   ],
   "source": [
    "len(seed_articles)"
   ]
  },
  {
   "cell_type": "code",
   "execution_count": 160,
   "metadata": {},
   "outputs": [
    {
     "data": {
      "image/png": "[encoded data removed]",
      "text/plain": [
       "<Figure size 432x288 with 1 Axes>"
      ]
     },
     "metadata": {
      "needs_background": "light"
     },
     "output_type": "display_data"
    }
   ],
   "source": [
    "import matplotlib.pyplot as plt\n",
    "\n",
    "plt.hist([len(v) for v in votes.values()], bins=50, range=[0, 100]);\n"
   ]
  },
  {
   "cell_type": "markdown",
   "metadata": {},
   "source": [
    "Me quedo sólo con los artículos que tengan al menos 2 votos"
   ]
  },
  {
   "cell_type": "code",
   "execution_count": 161,
   "metadata": {},
   "outputs": [
    {
     "data": {
      "text/plain": [
       "2697"
      ]
     },
     "execution_count": 161,
     "metadata": {},
     "output_type": "execute_result"
    }
   ],
   "source": [
    "selected_articles = {k: v for k, v in votes.items() if len(v) >= 2}\n",
    "selected_articles = Article.objects(id__in=selected_articles.keys(), **base_query)\n",
    "\n",
    "selected_articles.count()"
   ]
  },
  {
   "cell_type": "markdown",
   "metadata": {},
   "source": [
    "Les pongo la descripción de su elección"
   ]
  },
  {
   "cell_type": "code",
   "execution_count": 162,
   "metadata": {},
   "outputs": [
    {
     "data": {
      "text/plain": [
       "68896"
      ]
     },
     "execution_count": 162,
     "metadata": {},
     "output_type": "execute_result"
    }
   ],
   "source": [
    "Article.objects.update(set__description=\"\")"
   ]
  },
  {
   "cell_type": "code",
   "execution_count": 163,
   "metadata": {},
   "outputs": [
    {
     "data": {
      "application/vnd.jupyter.widget-view+json": {
       "model_id": "2a4cd9c4b5a84c1dbe073df6f11911a4",
       "version_major": 2,
       "version_minor": 0
      },
      "text/plain": [
       "HBox(children=(FloatProgress(value=0.0, max=2697.0), HTML(value='')))"
      ]
     },
     "metadata": {},
     "output_type": "display_data"
    },
    {
     "name": "stdout",
     "output_type": "stream",
     "text": [
      "\n"
     ]
    }
   ],
   "source": [
    "from tqdm.auto import tqdm\n",
    "from collections import Counter\n",
    "\n",
    "for article in tqdm(selected_articles):\n",
    "    this_art_votes = votes[article.id]\n",
    "    \n",
    "    article.description = str(dict(Counter(this_art_votes)))\n",
    "    article.save()"
   ]
  },
  {
   "cell_type": "code",
   "execution_count": 164,
   "metadata": {},
   "outputs": [
    {
     "name": "stdout",
     "output_type": "stream",
     "text": [
      "2 votes -- 2697 articles\n",
      "3 votes -- 1766 articles\n",
      "4 votes -- 1310 articles\n",
      "5 votes -- 1028 articles\n"
     ]
    }
   ],
   "source": [
    "from groups.models import Group\n",
    "\n",
    "for k in [2, 3, 4, 5]:\n",
    "    try:\n",
    "        group = Group.objects.get(name=f\"Seed comments - {k} votes\")\n",
    "    except DoesNotExist:\n",
    "        group = Group(name=f\"Seed comments - {k} votes\")\n",
    "    selected_articles = {article_id: v for article_id, v in votes.items() if len(v) >= k}\n",
    "    selected_articles = Article.objects(id__in=selected_articles.keys(), **base_query)\n",
    "    \n",
    "    print(f\"{k} votes -- {selected_articles.count()} articles\")\n",
    "    group.articles = selected_articles\n",
    "    \n",
    "    group.save()\n",
    "    \n"
   ]
  },
  {
   "cell_type": "code",
   "execution_count": 169,
   "metadata": {},
   "outputs": [],
   "source": [
    "group = Group.objects.no_dereference().get(name=\"Seed comments - 3 votes\")"
   ]
  },
  {
   "cell_type": "code",
   "execution_count": 171,
   "metadata": {},
   "outputs": [
    {
     "name": "stdout",
     "output_type": "stream",
     "text": [
      "Marcados como seleccionados 1766 artículos\n"
     ]
    }
   ],
   "source": [
    "article_ids = [a.id for a in group.articles]\n",
    "Article.objects.update(set__selected=False)\n",
    "updated = Article.objects(id__in=article_ids).update(set__selected=True)\n",
    "print(f\"Marcados como seleccionados {updated} artículos\")"
   ]
  },
  {
   "cell_type": "code",
   "execution_count": null,
   "metadata": {},
   "outputs": [],
   "source": [
    "from pprint import pprint as pp\n",
    "\n",
    "for j, art in enumerate(selected_articles):\n",
    "    print(f\"{j:<5} -- {art.title}\")\n",
    "    print(\"\\n\")\n",
    "    pp(art.first_paragraphs)\n",
    "    print(f\"Razón: {reason[art.id]}\")\n",
    "    \n",
    "    comments = random.sample(art.comments, 10)\n",
    "    \n",
    "    for repl in comments:\n",
    "        print(repl.text)\n",
    "    print(\"\\n\\n\")"
   ]
  },
  {
   "cell_type": "code",
   "execution_count": null,
   "metadata": {},
   "outputs": [],
   "source": []
  }
 ],
 "metadata": {
  "kernelspec": {
   "display_name": "Python 3",
   "language": "python",
   "name": "python3"
  },
  "language_info": {
   "codemirror_mode": {
    "name": "ipython",
    "version": 3
   },
   "file_extension": ".py",
   "mimetype": "text/x-python",
   "name": "python",
   "nbconvert_exporter": "python",
   "pygments_lexer": "ipython3",
   "version": "3.6.10"
  }
 },
 "nbformat": 4,
 "nbformat_minor": 4
}
