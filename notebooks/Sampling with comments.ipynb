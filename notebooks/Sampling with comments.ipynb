{
 "cells": [
  {
   "cell_type": "markdown",
   "metadata": {},
   "source": [
    "## Select articles: look for hateful comments"
   ]
  },
  {
   "cell_type": "code",
   "execution_count": 1,
   "metadata": {},
   "outputs": [
    {
     "data": {
      "text/plain": [
       "68896"
      ]
     },
     "execution_count": 1,
     "metadata": {},
     "output_type": "execute_result"
    }
   ],
   "source": [
    "%load_ext autoreload\n",
    "%autoreload 2\n",
    "import sys\n",
    "sys.path.append(\"..\")\n",
    "from mongoengine import connect\n",
    "from hatespeech_models import Tweet, Article\n",
    "\n",
    "client = connect(\"hatespeech-selection\")\n",
    "db = client[\"hatespeech-selection\"]\n",
    "\n",
    "Article.objects.count()"
   ]
  },
  {
   "cell_type": "markdown",
   "metadata": {},
   "source": [
    "Acá tomamos a partir del 1ro de marzo..."
   ]
  },
  {
   "cell_type": "code",
   "execution_count": 2,
   "metadata": {},
   "outputs": [
    {
     "data": {
      "text/plain": [
       "10314"
      ]
     },
     "execution_count": 2,
     "metadata": {},
     "output_type": "execute_result"
    }
   ],
   "source": [
    "import datetime\n",
    "\n",
    "start_date = datetime.datetime(2020, 3, 1)\n",
    "\n",
    "base_query = {\n",
    "    \"dummy__ne\": True,\n",
    "    \"comments__19__exists\": True,\n",
    "    \"created_at__gte\": start_date,\n",
    "}\n",
    "\n",
    "Article.objects(**base_query).count()"
   ]
  },
  {
   "cell_type": "code",
   "execution_count": 3,
   "metadata": {},
   "outputs": [
    {
     "name": "stdout",
     "output_type": "stream",
     "text": [
      "bija                           ---> 47   , 47   nuevos/ 47    total\n",
      "\"prostituta\"                   ---> 193  , 146  nuevos/ 148   total\n",
      "\"trola\"                        ---> 336  , 143  nuevos/ 172   total\n",
      "feministas                     ---> 581  , 245  nuevos/ 301   total\n",
      "feminazis                      ---> 625  , 44   nuevos/ 86    total\n",
      "aborteras                      ---> 728  , 103  nuevos/ 159   total\n",
      "\"boluda\"                       ---> 1295 , 567  nuevos/ 783   total\n",
      "\"urraca\"                       ---> 1333 , 38   nuevos/ 65    total\n",
      "tucán                          ---> 1392 , 59   nuevos/ 96    total\n",
      "marica                         ---> 1440 , 48   nuevos/ 69    total\n",
      "\"viejo puto\"                   ---> 1488 , 48   nuevos/ 67    total\n",
      "\"trabuco\"                      ---> 1490 , 2    nuevos/ 8     total\n",
      "travesti                       ---> 1518 , 28   nuevos/ 44    total\n",
      "\"degenerado\"                   ---> 1646 , 128  nuevos/ 211   total\n",
      "\"sodomita\"                     ---> 1651 , 5    nuevos/ 13    total\n",
      "chinos                         ---> 3106 , 1455 nuevos/ 1926  total\n",
      "\"sucios\"                       ---> 3251 , 145  nuevos/ 352   total\n",
      "bolita                         ---> 3308 , 57   nuevos/ 113   total\n",
      "\"paraguayo\"                    ---> 3386 , 78   nuevos/ 170   total\n",
      "\"peruano\"                      ---> 3420 , 34   nuevos/ 100   total\n",
      "\"peruca\"                       ---> 3436 , 16   nuevos/ 45    total\n",
      "judío                          ---> 3512 , 76   nuevos/ 178   total\n",
      "\"jude\"                         ---> 3517 , 5    nuevos/ 12    total\n",
      "sionista                       ---> 3547 , 30   nuevos/ 91    total\n",
      "\"matarlos\"                     ---> 3601 , 54   nuevos/ 132   total\n",
      "\"una bomba\"                    ---> 3682 , 81   nuevos/ 230   total\n",
      "\"negros de mierda\"             ---> 3709 , 27   nuevos/ 79    total\n",
      "\"negro de mierda\"              ---> 3736 , 27   nuevos/ 80    total\n",
      "\"negra de mierda\"              ---> 3744 , 8    nuevos/ 27    total\n",
      "\"villeros\"                     ---> 3786 , 42   nuevos/ 147   total\n",
      "\"negro\" \"hdp\"                  ---> 3796 , 10   nuevos/ 49    total\n",
      "\"bala\"                         ---> 4017 , 221  nuevos/ 574   total\n",
      "\"uno menos\"                    ---> 4098 , 81   nuevos/ 174   total\n",
      "\"gorda\"                        ---> 4240 , 142  nuevos/ 395   total\n"
     ]
    }
   ],
   "source": [
    "import random\n",
    "from mongoengine import DoesNotExist\n",
    "from hatespeech_models import Reply\n",
    "from collections import defaultdict\n",
    "\n",
    "comment_seeds = [\n",
    "    # Mujer\n",
    "    \"bija\",\n",
    "    \"\\\"prostituta\\\"\",\n",
    "    \"\\\"trola\\\"\",\n",
    "    \n",
    "    \"feministas\",\n",
    "    \"feminazis\",\n",
    "    \"aborteras\",\n",
    "    \"\\\"boluda\\\"\",\n",
    "    #\"\\\"puta\\\"\",\n",
    "    #\"\\\"gato\\\"\",\n",
    "    \"\\\"urraca\\\"\",\n",
    "    \"tucán\",\n",
    "    # LGBTI\n",
    "    \"marica\",\n",
    "    \"\\\"viejo puto\\\"\",    \n",
    "    \"\\\"trabuco\\\"\",\n",
    "    \"travesti\",\n",
    "    \"\\\"degenerado\\\"\",\n",
    "    #\"\\\"puto\\\"\",\n",
    "    #\"\\\"trolo\\\"\",\n",
    "    \"\\\"sodomita\\\"\",\n",
    "    \n",
    "    # Xenofobia, Racismo, Religión\n",
    "    \"chinos\",\n",
    "    \"\\\"sucios\\\"\",\n",
    "    \"bolita\",\n",
    "    # Lo pongo así porque \"Paraguay\" lo usan contra macri\n",
    "    \"\\\"paraguayo\\\"\",\n",
    "    \"\\\"peruano\\\"\",\n",
    "    \"\\\"peruca\\\"\",\n",
    "    \"judío\",\n",
    "    \n",
    "    \"\\\"jude\\\"\",\n",
    "    \"sionista\",\n",
    "    \"\\\"matarlos\\\"\",\n",
    "    \"\\\"una bomba\\\"\",\n",
    "    \n",
    "    # Pobreza\n",
    "    #\"\\\"negro\\\"\",\n",
    "    #\"\\\"vagos\\\"\",\n",
    "    \"\\\"negros de mierda\\\"\",\n",
    "    \"\\\"negro de mierda\\\"\",\n",
    "    \"\\\"negra de mierda\\\"\",\n",
    "    \"\\\"villeros\\\"\",\n",
    "    \"\\\"negro\\\" \\\"hdp\\\"\",\n",
    "    # Política\n",
    "    #\"\\\"terrorista\\\"\",\n",
    "    \n",
    "    # Violentos\n",
    "    \"\\\"bala\\\"\",\n",
    "\n",
    "    \"\\\"uno menos\\\"\",\n",
    "    # Aspecto\n",
    "    \"\\\"gorda\\\"\",\n",
    "]\n",
    "\n",
    "new_article_ids = set()\n",
    "\n",
    "votes = defaultdict(list)\n",
    "reason = {}\n",
    "seed_articles = {}\n",
    "\n",
    "for word in comment_seeds:\n",
    "    nuevos = 0\n",
    "    limit = None\n",
    "    if type(word) is tuple:\n",
    "        word, limit = word\n",
    "    \"\"\"\n",
    "    for _ in range(3):\n",
    "        print(\"=\"*80)\n",
    "        \n",
    "    print(f\"\\n\\n{word}\\n\\n\")\n",
    "    \"\"\"\n",
    "    replies = Reply.objects.no_dereference().search_text(word)\n",
    "    article_ids = [rep.article.id for rep in replies]\n",
    "    articles = Article.objects(id__in=article_ids, **base_query)\n",
    "    total_count = articles.count()\n",
    "    \n",
    "    for rep in replies:\n",
    "        votes[rep.article.id].append(word)\n",
    "    \n",
    "    for article in articles:\n",
    "        try:\n",
    "            if article.id not in seed_articles:\n",
    "                nuevos += 1\n",
    "                seed_articles[article.id] = article\n",
    "                reason[article.id] = f\"Comment -- {word} ({word})\"\n",
    "                if limit and nuevos >= limit:\n",
    "                    break\n",
    "            else:\n",
    "                pass\n",
    "                #print(f\"\\nSkipping {article} -- Reason: {reason[article.id]}\")\n",
    "        except DoesNotExist as e:\n",
    "            pass\n",
    "            #print(f\"\\nSkipping {Article.objects.get(id=rep.article.id)} -- {e}\")\n",
    "\n",
    "    print(f\"{word:<30} ---> {len(seed_articles):<5}, {nuevos:<4} nuevos/ {total_count:<5} total\", end=\"\")\n",
    "    \n",
    "    if limit:\n",
    "        print(f\" (limitados a {limit})\")\n",
    "    else:\n",
    "        print(\"\")\n"
   ]
  },
  {
   "cell_type": "markdown",
   "metadata": {},
   "source": [
    "Los jevis:\n",
    "- \"negro mierda\"\n",
    "- \"chinos\"\n",
    "- \"paraguayo\"\n"
   ]
  },
  {
   "cell_type": "code",
   "execution_count": 4,
   "metadata": {},
   "outputs": [
    {
     "data": {
      "text/plain": [
       "4240"
      ]
     },
     "execution_count": 4,
     "metadata": {},
     "output_type": "execute_result"
    }
   ],
   "source": [
    "len(seed_articles)"
   ]
  },
  {
   "cell_type": "code",
   "execution_count": 5,
   "metadata": {},
   "outputs": [
    {
     "data": {
      "image/png": "[encoded data removed]",
      "text/plain": [
       "<Figure size 432x288 with 1 Axes>"
      ]
     },
     "metadata": {
      "needs_background": "light"
     },
     "output_type": "display_data"
    }
   ],
   "source": [
    "import matplotlib.pyplot as plt\n",
    "\n",
    "plt.hist([len(v) for v in votes.values()], bins=50, range=[0, 100]);\n"
   ]
  },
  {
   "cell_type": "markdown",
   "metadata": {},
   "source": [
    "Me quedo sólo con los artículos que tengan al menos 2 votos"
   ]
  },
  {
   "cell_type": "code",
   "execution_count": 6,
   "metadata": {},
   "outputs": [
    {
     "data": {
      "text/plain": [
       "2275"
      ]
     },
     "execution_count": 6,
     "metadata": {},
     "output_type": "execute_result"
    }
   ],
   "source": [
    "selected_articles = {k: v for k, v in votes.items() if len(v) >= 2}\n",
    "selected_articles = Article.objects(id__in=selected_articles.keys(), **base_query)\n",
    "\n",
    "selected_articles.count()"
   ]
  },
  {
   "cell_type": "markdown",
   "metadata": {},
   "source": [
    "Les pongo la descripción de su elección"
   ]
  },
  {
   "cell_type": "code",
   "execution_count": 7,
   "metadata": {},
   "outputs": [
    {
     "data": {
      "text/plain": [
       "68896"
      ]
     },
     "execution_count": 7,
     "metadata": {},
     "output_type": "execute_result"
    }
   ],
   "source": [
    "Article.objects.update(set__description=\"\")"
   ]
  },
  {
   "cell_type": "code",
   "execution_count": 8,
   "metadata": {},
   "outputs": [
    {
     "data": {
      "application/vnd.jupyter.widget-view+json": {
       "model_id": "421696c6dfd5440c8c7ede643d276b43",
       "version_major": 2,
       "version_minor": 0
      },
      "text/plain": [
       "HBox(children=(FloatProgress(value=0.0, max=2275.0), HTML(value='')))"
      ]
     },
     "metadata": {},
     "output_type": "display_data"
    },
    {
     "name": "stdout",
     "output_type": "stream",
     "text": [
      "\n"
     ]
    }
   ],
   "source": [
    "from tqdm.auto import tqdm\n",
    "from collections import Counter\n",
    "\n",
    "for article in tqdm(selected_articles):\n",
    "    this_art_votes = votes[article.id]\n",
    "    \n",
    "    article.description = str(dict(Counter(this_art_votes)))\n",
    "    article.save()"
   ]
  },
  {
   "cell_type": "code",
   "execution_count": 9,
   "metadata": {},
   "outputs": [
    {
     "name": "stdout",
     "output_type": "stream",
     "text": [
      "2 votes -- 2063 articles\n",
      "3 votes -- 1343 articles\n",
      "4 votes -- 1020 articles\n",
      "5 votes -- 813 articles\n"
     ]
    }
   ],
   "source": [
    "from groups.models import Group\n",
    "\n",
    "def accept_article(art):\n",
    "    politicians = [\"Ginés\", \"Mauricio Macri\", \"Alberto Fernández\", \"Magario\"]\n",
    "    \n",
    "    if any(p.lower() in art.title.lower() for p in politicians):\n",
    "        return len(votes[art.id]) >= 5\n",
    "    return True\n",
    "    \n",
    "    \n",
    "for k in [2, 3, 4, 5]:\n",
    "    try:\n",
    "        group = Group.objects.get(name=f\"Seed comments - {k} votes\")\n",
    "    except DoesNotExist:\n",
    "        group = Group(name=f\"Seed comments - {k} votes\")\n",
    "    selected_articles = {article_id: v for article_id, v in votes.items() if len(v) >= k}\n",
    "    selected_articles = Article.objects(id__in=selected_articles.keys(), **base_query)\n",
    "    selected_articles = [a for a in selected_articles if accept_article(a)]\n",
    "    print(f\"{k} votes -- {len(selected_articles)} articles\")\n",
    "    group.articles = selected_articles\n",
    "    \n",
    "    group.save()\n",
    "    \n"
   ]
  },
  {
   "cell_type": "code",
   "execution_count": 10,
   "metadata": {},
   "outputs": [],
   "source": [
    "group = Group.objects.no_dereference().get(name=\"Seed comments - 3 votes\")"
   ]
  },
  {
   "cell_type": "code",
   "execution_count": 11,
   "metadata": {},
   "outputs": [
    {
     "name": "stdout",
     "output_type": "stream",
     "text": [
      "Marcados como seleccionados 1343 artículos\n"
     ]
    }
   ],
   "source": [
    "article_ids = [a.id for a in group.articles]\n",
    "Article.objects.update(set__selected=False)\n",
    "updated = Article.objects(id__in=article_ids).update(set__selected=True)\n",
    "print(f\"Marcados como seleccionados {updated} artículos\")"
   ]
  },
  {
   "cell_type": "code",
   "execution_count": null,
   "metadata": {},
   "outputs": [],
   "source": [
    "from pprint import pprint as pp\n",
    "\n",
    "for j, art in enumerate(selected_articles):\n",
    "    print(f\"{j:<5} -- {art.title}\")\n",
    "    print(\"\\n\")\n",
    "    pp(art.first_paragraphs)\n",
    "    print(f\"Razón: {reason[art.id]}\")\n",
    "    \n",
    "    comments = random.sample(art.comments, 10)\n",
    "    \n",
    "    for repl in comments:\n",
    "        print(repl.text)\n",
    "    print(\"\\n\\n\")"
   ]
  },
  {
   "cell_type": "code",
   "execution_count": null,
   "metadata": {},
   "outputs": [],
   "source": []
  }
 ],
 "metadata": {
  "kernelspec": {
   "display_name": "Python 3",
   "language": "python",
   "name": "python3"
  },
  "language_info": {
   "codemirror_mode": {
    "name": "ipython",
    "version": 3
   },
   "file_extension": ".py",
   "mimetype": "text/x-python",
   "name": "python",
   "nbconvert_exporter": "python",
   "pygments_lexer": "ipython3",
   "version": "3.6.10"
  }
 },
 "nbformat": 4,
 "nbformat_minor": 4
}
