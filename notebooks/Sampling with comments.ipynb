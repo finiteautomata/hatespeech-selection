{
 "cells": [
  {
   "cell_type": "markdown",
   "metadata": {},
   "source": [
    "## Select articles: look for hateful comments"
   ]
  },
  {
   "cell_type": "code",
   "execution_count": 1,
   "metadata": {},
   "outputs": [
    {
     "data": {
      "text/plain": [
       "68896"
      ]
     },
     "execution_count": 1,
     "metadata": {},
     "output_type": "execute_result"
    }
   ],
   "source": [
    "%load_ext autoreload\n",
    "%autoreload 2\n",
    "import sys\n",
    "sys.path.append(\"..\")\n",
    "from mongoengine import connect\n",
    "from hatespeech_models import Tweet, Article\n",
    "\n",
    "client = connect(\"hatespeech-selection\")\n",
    "db = client[\"hatespeech-selection\"]\n",
    "\n",
    "Article.objects.count()"
   ]
  },
  {
   "cell_type": "markdown",
   "metadata": {},
   "source": [
    "Acá tomamos a partir del 1ro de marzo..."
   ]
  },
  {
   "cell_type": "code",
   "execution_count": 2,
   "metadata": {},
   "outputs": [
    {
     "data": {
      "text/plain": [
       "10314"
      ]
     },
     "execution_count": 2,
     "metadata": {},
     "output_type": "execute_result"
    }
   ],
   "source": [
    "import datetime\n",
    "\n",
    "start_date = datetime.datetime(2020, 3, 1)\n",
    "\n",
    "base_query = {\n",
    "    \"dummy__ne\": True,\n",
    "    \"comments__19__exists\": True,\n",
    "    \"created_at__gte\": start_date,\n",
    "}\n",
    "\n",
    "Article.objects(**base_query).count()"
   ]
  },
  {
   "cell_type": "code",
   "execution_count": 3,
   "metadata": {},
   "outputs": [
    {
     "name": "stdout",
     "output_type": "stream",
     "text": [
      "bija                           ---> 47   nuevos/ 47    total comentarios --> 47    artículos al momento\n",
      "\"prostituta\"                   ---> 146  nuevos/ 148   total comentarios --> 193   artículos al momento\n",
      "feministas                     ---> 270  nuevos/ 301   total comentarios --> 463   artículos al momento\n",
      "feminazis                      ---> 46   nuevos/ 86    total comentarios --> 509   artículos al momento\n",
      "aborteras                      ---> 110  nuevos/ 159   total comentarios --> 619   artículos al momento\n",
      "\"urraca\"                       ---> 55   nuevos/ 65    total comentarios --> 674   artículos al momento\n",
      "tucán                          ---> 66   nuevos/ 96    total comentarios --> 740   artículos al momento\n",
      "\"putita\"                       ---> 23   nuevos/ 40    total comentarios --> 763   artículos al momento\n",
      "\"reventada\"                    ---> 45   nuevos/ 66    total comentarios --> 808   artículos al momento\n",
      "marica                         ---> 54   nuevos/ 69    total comentarios --> 862   artículos al momento\n",
      "\"viejo puto\"                   ---> 51   nuevos/ 67    total comentarios --> 913   artículos al momento\n",
      "\"trabuco\"                      ---> 3    nuevos/ 8     total comentarios --> 916   artículos al momento\n",
      "travesti                       ---> 32   nuevos/ 44    total comentarios --> 948   artículos al momento\n",
      "\"trava\"                        ---> 21   nuevos/ 46    total comentarios --> 969   artículos al momento\n",
      "\"degenerado\"                   ---> 146  nuevos/ 211   total comentarios --> 1115  artículos al momento\n",
      "trolo -\"no seas trolo\" -\"no se ---> 265  nuevos/ 428   total comentarios --> 1380  artículos al momento\n",
      "\"sodomita\"                     ---> 4    nuevos/ 13    total comentarios --> 1384  artículos al momento\n",
      "\"chinos\"                       ---> 522  nuevos/ 638   total comentarios --> 1906  artículos al momento\n",
      "bolita                         ---> 74   nuevos/ 113   total comentarios --> 1980  artículos al momento\n",
      "\"paraguayo\"                    ---> 105  nuevos/ 170   total comentarios --> 2085  artículos al momento\n",
      "\"peruano\"                      ---> 43   nuevos/ 100   total comentarios --> 2128  artículos al momento\n",
      "\"peruca\"                       ---> 22   nuevos/ 45    total comentarios --> 2150  artículos al momento\n",
      "judío                          ---> 98   nuevos/ 178   total comentarios --> 2248  artículos al momento\n",
      "\"jude\"                         ---> 6    nuevos/ 12    total comentarios --> 2254  artículos al momento\n",
      "sionista                       ---> 45   nuevos/ 91    total comentarios --> 2299  artículos al momento\n",
      "\"matarlos\"                     ---> 75   nuevos/ 132   total comentarios --> 2374  artículos al momento\n",
      "\"una bomba\"                    ---> 110  nuevos/ 230   total comentarios --> 2484  artículos al momento\n",
      "\"vayan a laburar\"              ---> 67   nuevos/ 122   total comentarios --> 2551  artículos al momento\n",
      "\"vayan a trabajar\"             ---> 42   nuevos/ 91    total comentarios --> 2593  artículos al momento\n",
      "\"villeros\"                     ---> 64   nuevos/ 147   total comentarios --> 2657  artículos al momento\n",
      "\"negra\" -guita -plata -lagrima ---> 242  nuevos/ 535   total comentarios --> 2899  artículos al momento\n",
      "\"negro de\"                     ---> 66   nuevos/ 173   total comentarios --> 2965  artículos al momento\n",
      "\"negros\"                       ---> 217  nuevos/ 546   total comentarios --> 3182  artículos al momento\n",
      "\"bala\"                         ---> 235  nuevos/ 574   total comentarios --> 3417  artículos al momento\n",
      "\"uno menos\"                    ---> 82   nuevos/ 174   total comentarios --> 3499  artículos al momento\n",
      "\"gorda\"                        ---> 155  nuevos/ 395   total comentarios --> 3654  artículos al momento\n"
     ]
    }
   ],
   "source": [
    "import random\n",
    "from mongoengine import DoesNotExist\n",
    "from hatespeech_models import Reply\n",
    "from collections import defaultdict\n",
    "\n",
    "comment_seeds = [\n",
    "    # Mujer\n",
    "    \"bija\",\n",
    "    \"\\\"prostituta\\\"\",\n",
    "    #\"\\\"trola\\\"\",\n",
    "    \"feministas\",\n",
    "    \"feminazis\",\n",
    "    \"aborteras\",\n",
    "    #\"\\\"boluda\\\" -\\\"gente\\\"\",\n",
    "    #\"\\\"puta\\\"\",\n",
    "    #\"\\\"gato\\\"\",\n",
    "    \"\\\"urraca\\\"\",\n",
    "    \"tucán\",\n",
    "    \"\\\"putita\\\"\",\n",
    "    \"\\\"reventada\\\"\",\n",
    "\n",
    "    # LGBTI\n",
    "    \"marica\",\n",
    "    \"\\\"viejo puto\\\"\",    \n",
    "    \"\\\"trabuco\\\"\",\n",
    "    \"travesti\",\n",
    "    \"\\\"trava\\\"\",\n",
    "    \"\\\"degenerado\\\"\",\n",
    "    \n",
    "    #\"\\\"puto\\\"\",\n",
    "    \"trolo -\\\"no seas trolo\\\" -\\\"no sean trolos\\\"\",\n",
    "    \"\\\"sodomita\\\"\",\n",
    "    \n",
    "    # Xenofobia, Racismo, Religión\n",
    "    #\"\\\"chinos de\\\"\",\n",
    "    \"\\\"chinos\\\"\",\n",
    "    \"bolita\",\n",
    "    # Lo pongo así porque \"Paraguay\" lo usan contra macri\n",
    "    \"\\\"paraguayo\\\"\",\n",
    "    \"\\\"peruano\\\"\",\n",
    "    \"\\\"peruca\\\"\",\n",
    "    \"judío\",\n",
    "    \n",
    "    \"\\\"jude\\\"\",\n",
    "    \"sionista\",\n",
    "    \"\\\"matarlos\\\"\",\n",
    "    \"\\\"una bomba\\\"\",\n",
    "    \n",
    "    # Pobreza/Racismo\n",
    "    \n",
    "    \"\\\"vayan a laburar\\\"\",\n",
    "    \"\\\"vayan a trabajar\\\"\",\n",
    "    # Saco planero. Demasiados hits\n",
    "    #\"\\\"planero\\\"\",\n",
    "    \"\\\"villeros\\\"\",\n",
    "    \"\\\"negra\\\" -guita -plata -lagrima -peste -alma\",\n",
    "    \"\\\"negro de\\\"\",\n",
    "    \"\\\"negros\\\"\",\n",
    "    # Política\n",
    "    \n",
    "    # No ponemos ninguno!\n",
    "    # Violentos\n",
    "    \"\\\"bala\\\"\",\n",
    "    \"\\\"uno menos\\\"\",\n",
    "    # Aspecto\n",
    "    \"\\\"gorda\\\"\",\n",
    "]\n",
    "\n",
    "new_article_ids = set()\n",
    "\n",
    "votes = defaultdict(list)\n",
    "reason = {}\n",
    "seed_articles = {}\n",
    "\n",
    "for word in comment_seeds:\n",
    "    nuevos = 0\n",
    "    limit = None\n",
    "    if type(word) is tuple:\n",
    "        word, limit = word\n",
    "    \"\"\"\n",
    "    for _ in range(3):\n",
    "        print(\"=\"*80)\n",
    "        \n",
    "    print(f\"\\n\\n{word}\\n\\n\")\n",
    "    \"\"\"\n",
    "    replies = Reply.objects.no_dereference().search_text(word)\n",
    "    article_ids = [rep.article.id for rep in replies]\n",
    "    articles = Article.objects(id__in=article_ids, **base_query)\n",
    "    total_count = articles.count()\n",
    "    \n",
    "    for rep in replies:\n",
    "        votes[rep.article.id].append(word)\n",
    "    \n",
    "    for article in articles:\n",
    "        try:\n",
    "            if article.id not in seed_articles:\n",
    "                nuevos += 1\n",
    "                seed_articles[article.id] = article\n",
    "                reason[article.id] = f\"Comment -- {word} ({word})\"\n",
    "                if limit and nuevos >= limit:\n",
    "                    break\n",
    "            else:\n",
    "                pass\n",
    "                #print(f\"\\nSkipping {article} -- Reason: {reason[article.id]}\")\n",
    "        except DoesNotExist as e:\n",
    "            pass\n",
    "            #print(f\"\\nSkipping {Article.objects.get(id=rep.article.id)} -- {e}\")\n",
    "\n",
    "    print(f\"{word[:30]:<30} ---> {nuevos:<4} nuevos/ {total_count:<5} total comentarios --> {len(seed_articles):<5} artículos al momento\", end=\"\")\n",
    "    \n",
    "    if limit:\n",
    "        print(f\" (limitados a {limit})\")\n",
    "    else:\n",
    "        print(\"\")\n"
   ]
  },
  {
   "cell_type": "markdown",
   "metadata": {},
   "source": [
    "Redujimos bastante los comentarios complicados\n",
    "\n",
    "Quedó \n",
    "\n",
    "- chinos (con 638)\n",
    "- planero (886)\n",
    "\n",
    "Cambiamos negros por otras variantes"
   ]
  },
  {
   "cell_type": "code",
   "execution_count": 4,
   "metadata": {},
   "outputs": [
    {
     "data": {
      "text/plain": [
       "3654"
      ]
     },
     "execution_count": 4,
     "metadata": {},
     "output_type": "execute_result"
    }
   ],
   "source": [
    "len(seed_articles)"
   ]
  },
  {
   "cell_type": "code",
   "execution_count": 21,
   "metadata": {},
   "outputs": [
    {
     "data": {
      "text/plain": [
       "(6181, 6181)"
      ]
     },
     "execution_count": 21,
     "metadata": {},
     "output_type": "execute_result"
    }
   ],
   "source": [
    "len(votes), Article.objects(id__in=votes.keys()).count()"
   ]
  },
  {
   "cell_type": "markdown",
   "metadata": {},
   "source": [
    "Ok, están todos!"
   ]
  },
  {
   "cell_type": "code",
   "execution_count": 32,
   "metadata": {},
   "outputs": [
    {
     "name": "stdout",
     "output_type": "stream",
     "text": [
      "Cantidad artículos con más de 2 votos : 2252\n",
      "Cantidad artículos con más de 3 votos : 1232\n",
      "Cantidad artículos con más de 4 votos : 812\n",
      "Cantidad artículos con más de 5 votos : 573\n",
      "Cantidad artículos con más de 6 votos : 440\n",
      "Cantidad artículos con más de 7 votos : 346\n",
      "Cantidad artículos con más de 8 votos : 299\n",
      "Cantidad artículos con más de 9 votos : 249\n"
     ]
    },
    {
     "data": {
      "image/png": "[encoded data removed]",
      "text/plain": [
       "<Figure size 432x288 with 1 Axes>"
      ]
     },
     "metadata": {
      "needs_background": "light"
     },
     "output_type": "display_data"
    }
   ],
   "source": [
    "import matplotlib.pyplot as plt\n",
    "\n",
    "for k in range(2, 10):\n",
    "    count = 0\n",
    "    for _, v in votes.items():\n",
    "        if len(v) >= k:\n",
    "            count += 1\n",
    "    print(f\"Cantidad artículos con más de {k} votos : {count}\")\n",
    "\n",
    "plt.hist([len(v) for v in votes.values()], bins=50, range=[0, 50]);\n"
   ]
  },
  {
   "cell_type": "markdown",
   "metadata": {},
   "source": [
    "Me quedo sólo con los artículos que tengan al menos 2 votos"
   ]
  },
  {
   "cell_type": "code",
   "execution_count": 23,
   "metadata": {},
   "outputs": [
    {
     "data": {
      "text/plain": [
       "1829"
      ]
     },
     "execution_count": 23,
     "metadata": {},
     "output_type": "execute_result"
    }
   ],
   "source": [
    "selected_articles = {k: v for k, v in votes.items() if len(v) >= 2}\n",
    "selected_articles = Article.objects(id__in=selected_articles.keys(), **base_query)\n",
    "\n",
    "selected_articles.count()"
   ]
  },
  {
   "cell_type": "markdown",
   "metadata": {},
   "source": [
    "Les pongo la descripción de su elección"
   ]
  },
  {
   "cell_type": "code",
   "execution_count": 24,
   "metadata": {},
   "outputs": [
    {
     "data": {
      "text/plain": [
       "68896"
      ]
     },
     "execution_count": 24,
     "metadata": {},
     "output_type": "execute_result"
    }
   ],
   "source": [
    "Article.objects.update(set__description=\"\")"
   ]
  },
  {
   "cell_type": "code",
   "execution_count": 26,
   "metadata": {},
   "outputs": [
    {
     "data": {
      "application/vnd.jupyter.widget-view+json": {
       "model_id": "6c30d527438347058b12136c077f6995",
       "version_major": 2,
       "version_minor": 0
      },
      "text/plain": [
       "HBox(children=(HTML(value=''), FloatProgress(value=0.0, max=1829.0), HTML(value='')))"
      ]
     },
     "metadata": {},
     "output_type": "display_data"
    },
    {
     "name": "stdout",
     "output_type": "stream",
     "text": [
      "\n"
     ]
    }
   ],
   "source": [
    "from tqdm.auto import tqdm\n",
    "from collections import Counter\n",
    "import json\n",
    "\n",
    "for article in tqdm(selected_articles):\n",
    "    this_art_votes = votes[article.id]\n",
    "    \n",
    "    article.description = json.dumps(dict(Counter(this_art_votes)))\n",
    "    article.votes = len(this_art_votes)\n",
    "    article.save()"
   ]
  },
  {
   "cell_type": "code",
   "execution_count": 35,
   "metadata": {},
   "outputs": [
    {
     "name": "stdout",
     "output_type": "stream",
     "text": [
      "2 votes -- 1829 articles\n",
      "3 votes -- 1108 articles\n",
      "4 votes -- 760 articles\n",
      "5 votes -- 552 articles\n"
     ]
    }
   ],
   "source": [
    "from groups.models import Group\n",
    "\n",
    "def accept_article(art):\n",
    "    politicians = [\"Ginés\", \"Mauricio Macri\", \"Alberto Fernández\", \"Magario\"]\n",
    "    \n",
    "    if any(p.lower() in art.title.lower() for p in politicians):\n",
    "        return len(votes[art.id]) >= 5\n",
    "    return True\n",
    "    \n",
    "    \n",
    "for k in [2, 3, 4, 5]:\n",
    "    try:\n",
    "        group = Group.objects.get(name=f\"Seed comments - {k} votes\")\n",
    "    except DoesNotExist:\n",
    "        group = Group(name=f\"Seed comments - {k} votes\")\n",
    "    selected_articles = {article_id for article_id, v in votes.items() if len(v) >= k}\n",
    "    selected_articles = Article.objects(id__in=selected_articles, **base_query)\n",
    "    #selected_articles = [a for a in selected_articles if accept_article(a)]\n",
    "    print(f\"{k} votes -- {len(selected_articles)} articles\")\n",
    "    group.articles = selected_articles\n",
    "    \n",
    "    group.save()\n",
    "    \n"
   ]
  },
  {
   "cell_type": "markdown",
   "metadata": {},
   "source": [
    "## Observación\n",
    "\n",
    "Acá hay menos artículos porque pedimos **base_query"
   ]
  },
  {
   "cell_type": "code",
   "execution_count": 36,
   "metadata": {},
   "outputs": [],
   "source": [
    "group = Group.objects.no_dereference().get(name=\"Seed comments - 3 votes\")"
   ]
  },
  {
   "cell_type": "code",
   "execution_count": 37,
   "metadata": {},
   "outputs": [
    {
     "name": "stdout",
     "output_type": "stream",
     "text": [
      "Marcados como seleccionados 1108 artículos\n"
     ]
    }
   ],
   "source": [
    "article_ids = [a.id for a in group.articles]\n",
    "Article.objects.update(set__selected=False)\n",
    "updated = Article.objects(id__in=article_ids).update(set__selected=True)\n",
    "print(f\"Marcados como seleccionados {updated} artículos\")"
   ]
  },
  {
   "cell_type": "markdown",
   "metadata": {},
   "source": [
    "## Demo\n",
    "\n",
    "Están los de demo?"
   ]
  },
  {
   "cell_type": "code",
   "execution_count": 38,
   "metadata": {},
   "outputs": [
    {
     "data": {
      "text/plain": [
       "5"
      ]
     },
     "execution_count": 38,
     "metadata": {},
     "output_type": "execute_result"
    }
   ],
   "source": [
    "demo_ids = [\n",
    "  1253699106385481728,\n",
    "  1242419653030313984,\n",
    "  1275389016511336448,\n",
    "  1310165736011239424,\n",
    "  1254951309469519875\n",
    "]\n",
    "\n",
    "Article.objects(tweet_id__in=demo_ids, selected=True).count()"
   ]
  },
  {
   "cell_type": "markdown",
   "metadata": {},
   "source": [
    "Perfecto!\n",
    "\n",
    "Y los de train?"
   ]
  },
  {
   "cell_type": "code",
   "execution_count": 39,
   "metadata": {},
   "outputs": [
    {
     "data": {
      "text/plain": [
       "(25, 14)"
      ]
     },
     "execution_count": 39,
     "metadata": {},
     "output_type": "execute_result"
    }
   ],
   "source": [
    "train_ids = [\n",
    "    1247580175455444993,\n",
    "    1296651850796732419,\n",
    "    1242447731286777856,\n",
    "    1263476271603998720,\n",
    "    1255472854776393728,\n",
    "    1296507657189314566,\n",
    "    1275218345969831936,\n",
    "    1263868365468135430,\n",
    "    1300878739870539776,\n",
    "    1294980385907015680,\n",
    "    1293587848277434370,\n",
    "    1238231799995736066,\n",
    "    1304290690306891776,\n",
    "    1277424269153239041,\n",
    "    1308802398752854016,\n",
    "    1273719287614787584,\n",
    "    1281715363798036490,\n",
    "    1296244483655454720,\n",
    "    1265837173510672390,\n",
    "    1249151575257481227,\n",
    "    1312925607093776384,\n",
    "    1314005353353314304,\n",
    "    1243147648238059520,\n",
    "    1273676406614978561,\n",
    "    1302741866681491456\n",
    "]\n",
    "\n",
    "len(train_ids), Article.objects(tweet_id__in=train_ids, selected=True).count()"
   ]
  },
  {
   "cell_type": "markdown",
   "metadata": {},
   "source": [
    "\n",
    "Cuáles quedaron afuera?\n",
    "\n",
    "Veamos los que quedaron"
   ]
  },
  {
   "cell_type": "code",
   "execution_count": 40,
   "metadata": {},
   "outputs": [
    {
     "name": "stdout",
     "output_type": "stream",
     "text": [
      "================================================================================\n",
      "-  Ginés González García admite que prohibieron a los runners por una cuestión de imagen “más que por los contagios”\n",
      "{\"aborteras\": 1, \"trolo -\\\"no seas trolo\\\" -\\\"no sean trolos\\\"\": 2, \"\\\"gorda\\\"\": 1}\n",
      "================================================================================\n",
      "-  Cecilia Roth: “La marcha anticuarentena me pareció una irresponsabilidad sanitaria”\n",
      "{\"aborteras\": 1, \"\\\"reventada\\\"\": 1, \"trolo -\\\"no seas trolo\\\" -\\\"no sean trolos\\\"\": 2, \"\\\"bala\\\"\": 1, \"\\\"gorda\\\"\": 1}\n",
      "================================================================================\n",
      "-  Verónica Magario pidió endurecer la cuarentena: “Debemos frenar la circulación de personas en el AMBA para evitar contagios”\n",
      "{\"\\\"prostituta\\\"\": 1, \"\\\"villeros\\\"\": 1, \"\\\"negra\\\" -guita -plata -lagrima -peste -alma\": 3}\n",
      "================================================================================\n",
      "-  Los piratas del siglo XXI se roban US$1000 millones por año del mar argentino\n",
      "{\"\\\"chinos\\\"\": 2, \"\\\"gorda\\\"\": 1}\n",
      "================================================================================\n",
      "-  Escándalo en España: fallan los tests de coronavirus fabricados en China\n",
      "{\"\\\"chinos\\\"\": 8}\n",
      "================================================================================\n",
      "-  Florencia Peña se diferenció de los argentinos que se quieren ir del país: “Muchos queremos seguir apostando”\n",
      "{\"trolo -\\\"no seas trolo\\\" -\\\"no sean trolos\\\"\": 1, \"\\\"bala\\\"\": 1, \"\\\"gorda\\\"\": 1}\n",
      "================================================================================\n",
      "-  El primer muerto en los motines de las cárceles de Santa Fe fue un barra de Colón\n",
      "{\"\\\"negros\\\"\": 2, \"\\\"uno menos\\\"\": 14}\n",
      "================================================================================\n",
      "-  Video: Jair Bolsonaro le hace upa a un hombre de talla baja pensando que era un niño\n",
      "{\"feministas\": 1, \"\\\"paraguayo\\\"\": 1, \"\\\"bala\\\"\": 1}\n",
      "================================================================================\n",
      "-  \"Evolucionen\": Romina Malaspina hizo un fuerte descargo tras los comentarios sexistas por su look en el noticiero\n",
      "{\"feministas\": 3, \"trolo -\\\"no seas trolo\\\" -\\\"no sean trolos\\\"\": 2, \"\\\"gorda\\\"\": 1}\n",
      "================================================================================\n",
      "-  Luis Novaresio contó cómo será su boda con Braulio Bauab: \"Nos va a casar una rabina\"\n",
      "{\"trolo -\\\"no seas trolo\\\" -\\\"no sean trolos\\\"\": 3, \"\\\"sodomita\\\"\": 1, \"jud\\u00edo\": 1}\n",
      "================================================================================\n",
      "-  Así fue el minuto a minuto del debate entre los candidatos a vicepresidente de Estados Unidos\n",
      "{\"aborteras\": 2, \"\\\"chinos\\\"\": 1, \"\\\"negra\\\" -guita -plata -lagrima -peste -alma\": 4}\n",
      "================================================================================\n",
      "-  Condenan a ocho años de cárcel por corrupción al ex presidente ecuatoriano Rafael Correa\n",
      "{\"\\\"bala\\\"\": 1, \"\\\"uno menos\\\"\": 4}\n",
      "================================================================================\n",
      "-  Intentó violar a su novia y ella lo asesinó a escobazos\n",
      "{\"feministas\": 1, \"\\\"bala\\\"\": 1, \"\\\"uno menos\\\"\": 1}\n",
      "================================================================================\n",
      "-  ¿Terminará Argentina como Venezuela?\n",
      "{\"\\\"negro de\\\"\": 1, \"\\\"negros\\\"\": 1, \"\\\"bala\\\"\": 1}\n"
     ]
    }
   ],
   "source": [
    "\n",
    "for art in Article.objects(tweet_id__in=train_ids, selected=True):\n",
    "    print(\"=\"*80)\n",
    "    print(\"- \", art.title)\n",
    "    print(art.description)"
   ]
  },
  {
   "cell_type": "code",
   "execution_count": 41,
   "metadata": {},
   "outputs": [
    {
     "name": "stdout",
     "output_type": "stream",
     "text": [
      "================================================================================\n",
      "-  Solo el 35,5% de la población aprueba la gestión de la pandemia realizada por el Gobierno\n",
      "\n",
      "================================================================================\n",
      "-  Según un experto italiano, “el coronavirus se está debilitando y podría morir solo sin una vacuna”\n",
      "\n",
      "================================================================================\n",
      "-  Coronavirus en la Argentina: Hebe de Bonafini pidió suspender la marcha del 24 de marzo\n",
      "{\"\\\"chinos\\\"\": 1, \"\\\"negra\\\" -guita -plata -lagrima -peste -alma\": 1}\n",
      "================================================================================\n",
      "-  Al borde de las lágrimas, Luis Brandoni convocó un banderazo en contra del Gobierno, pero “cumpliendo todos los protocolos”\n",
      "\n",
      "================================================================================\n",
      "-  Cecilia Roth: \"La marcha anticuarentena me pareció una irresponsabilidad sanitaria\"\n",
      "\n",
      "================================================================================\n",
      "-  Ginés González: “La semana que viene aviones de Aerolíneas irán a China a buscar insumos de bioseguridad”\n",
      "\n",
      "================================================================================\n",
      "-  El proyecto del impuesto a la riqueza “está listo” y se presentará la próxima semana\n",
      "\n",
      "================================================================================\n",
      "-  Ante el cierre de los cines por la pandemia el presidente del INCAA quiere ponerle otro impuesto a Netflix\n",
      "\n",
      "================================================================================\n",
      "-  Filminas para todos, menos para Maduro\n",
      "\n",
      "================================================================================\n",
      "-  Sergio Berni: “Debemos ir a una cuarentena absoluta, mucho más rigurosa que al principio y sin transporte público”\n",
      "{\"feministas\": 1, \"\\\"negros\\\"\": 1}\n",
      "================================================================================\n",
      "-  Juntos por el Cambio impulsa un proyecto en la provincia de Buenos Aires para sacarles los planes sociales a los que usurpen terrenos\n",
      "\n"
     ]
    }
   ],
   "source": [
    "\n",
    "for art in Article.objects(tweet_id__in=train_ids, selected=False):\n",
    "    print(\"=\"*80)\n",
    "    print(\"- \", art.title)\n",
    "    print(art.description)"
   ]
  },
  {
   "cell_type": "code",
   "execution_count": null,
   "metadata": {},
   "outputs": [],
   "source": []
  }
 ],
 "metadata": {
  "kernelspec": {
   "display_name": "Python 3",
   "language": "python",
   "name": "python3"
  },
  "language_info": {
   "codemirror_mode": {
    "name": "ipython",
    "version": 3
   },
   "file_extension": ".py",
   "mimetype": "text/x-python",
   "name": "python",
   "nbconvert_exporter": "python",
   "pygments_lexer": "ipython3",
   "version": "3.6.10"
  }
 },
 "nbformat": 4,
 "nbformat_minor": 4
}
